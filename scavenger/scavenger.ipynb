{
 "cells": [
  {
   "cell_type": "markdown",
   "metadata": {},
   "source": [
    "# Scavenger"
   ]
  },
  {
   "cell_type": "markdown",
   "metadata": {},
   "source": [
    "## Setup"
   ]
  },
  {
   "cell_type": "markdown",
   "metadata": {},
   "source": [
    "The setup script `scavenger-setup.sh` starts the `minikube` server, creates a namespace `scavenger`, sets the current context to the newly created namespace, and creates the resources defined in the `k8s` directory."
   ]
  },
  {
   "cell_type": "code",
   "execution_count": 87,
   "metadata": {},
   "outputs": [
    {
     "name": "stdout",
     "output_type": "stream",
     "text": [
      "\u001b[0;31m# Run only once minikube and relevant dependencies installed\u001b[0m\u001b[0;34m\u001b[0m\n",
      "\u001b[0;34m\u001b[0m\u001b[0;32mif\u001b[0m \u001b[0;34m[\u001b[0m\u001b[0;31m \u001b[0m\u001b[0;31m!\u001b[0m \u001b[0;34m-\u001b[0m\u001b[0mf\u001b[0m \u001b[0;34m/\u001b[0m\u001b[0musr\u001b[0m\u001b[0;34m/\u001b[0m\u001b[0mlocal\u001b[0m\u001b[0;34m/\u001b[0m\u001b[0mbin\u001b[0m\u001b[0;34m/\u001b[0m\u001b[0mminikube\u001b[0m \u001b[0;34m]\u001b[0m\u001b[0;34m;\u001b[0m \u001b[0mthen\u001b[0m\u001b[0;34m\u001b[0m\n",
      "\u001b[0;34m\u001b[0m  \u001b[0mecho\u001b[0m \u001b[0;34m\"Minikube not found. Please follow installation instructions in README.md\"\u001b[0m\u001b[0;34m\u001b[0m\n",
      "\u001b[0;34m\u001b[0m\u001b[0mfi\u001b[0m\u001b[0;34m\u001b[0m\n",
      "\u001b[0;34m\u001b[0m\u001b[0mminikube\u001b[0m \u001b[0mstart\u001b[0m\u001b[0;34m\u001b[0m\n",
      "\u001b[0;34m\u001b[0m\u001b[0mkubectl\u001b[0m \u001b[0mcreate\u001b[0m \u001b[0mnamespace\u001b[0m \u001b[0mscavenger\u001b[0m\u001b[0;34m\u001b[0m\n",
      "\u001b[0;34m\u001b[0m\u001b[0mkubectl\u001b[0m \u001b[0mconfig\u001b[0m \u001b[0mset\u001b[0m\u001b[0;34m-\u001b[0m\u001b[0mcontext\u001b[0m \u001b[0;34m-\u001b[0m\u001b[0;34m-\u001b[0m\u001b[0mcurrent\u001b[0m \u001b[0;34m-\u001b[0m\u001b[0;34m-\u001b[0m\u001b[0mnamespace\u001b[0m\u001b[0;34m=\u001b[0m\u001b[0mscavenger\u001b[0m\u001b[0;34m\u001b[0m\n",
      "\u001b[0;34m\u001b[0m\u001b[0mcd\u001b[0m \u001b[0mk8s\u001b[0m\u001b[0;34m\u001b[0m\n",
      "\u001b[0;34m\u001b[0m\u001b[0mIFS\u001b[0m\u001b[0;34m=\u001b[0m\u001b[0;31m$\u001b[0m\u001b[0;34m'\\n\\t'\u001b[0m\u001b[0;34m\u001b[0m\n",
      "\u001b[0;34m\u001b[0m\u001b[0;32mfor\u001b[0m \u001b[0mf\u001b[0m \u001b[0;32min\u001b[0m\u001b[0;31m \u001b[0m\u001b[0;31m$\u001b[0m\u001b[0;34m(\u001b[0m\u001b[0mls\u001b[0m\u001b[0;34m)\u001b[0m\u001b[0;34m\u001b[0m\n",
      "\u001b[0;34m\u001b[0m\u001b[0mdo\u001b[0m\u001b[0;34m\u001b[0m\n",
      "\u001b[0;34m\u001b[0m        \u001b[0muntil\u001b[0m \u001b[0mkubectl\u001b[0m \u001b[0mcreate\u001b[0m \u001b[0;34m-\u001b[0m\u001b[0mf\u001b[0m\u001b[0;31m \u001b[0m\u001b[0;31m$\u001b[0m\u001b[0mf\u001b[0m \u001b[0;36m2\u001b[0m\u001b[0;34m>\u001b[0m \u001b[0;34m/\u001b[0m\u001b[0mdev\u001b[0m\u001b[0;34m/\u001b[0m\u001b[0mnull\u001b[0m\u001b[0;34m\u001b[0m\n",
      "\u001b[0;34m\u001b[0m        \u001b[0mdo\u001b[0m\u001b[0;34m\u001b[0m\n",
      "\u001b[0;34m\u001b[0m                \u001b[0msleep\u001b[0m \u001b[0;36m10\u001b[0m\u001b[0;34m\u001b[0m\n",
      "\u001b[0;34m\u001b[0m        \u001b[0mdone\u001b[0m\u001b[0;34m\u001b[0m\n",
      "\u001b[0;34m\u001b[0m\u001b[0mdone\u001b[0m\u001b[0;34m\u001b[0m\u001b[0;34m\u001b[0m\u001b[0m\n"
     ]
    }
   ],
   "source": [
    "%pycat scavenger-setup.sh"
   ]
  },
  {
   "cell_type": "markdown",
   "metadata": {},
   "source": [
    "Let us execute the setup script"
   ]
  },
  {
   "cell_type": "code",
   "execution_count": 46,
   "metadata": {},
   "outputs": [
    {
     "name": "stdout",
     "output_type": "stream",
     "text": [
      "* minikube v1.31.2 on Ubuntu 20.04 (docker/amd64)\n",
      "* Using the docker driver based on existing profile\n",
      "* Starting control plane node minikube in cluster minikube\n",
      "* Pulling base image ...\n",
      "* Restarting existing docker container for \"minikube\" ...\n",
      "* Preparing Kubernetes v1.27.4 on Docker 24.0.4 ...\n",
      "* Configuring bridge CNI (Container Networking Interface) ...\n",
      "* Verifying Kubernetes components...\n",
      "  - Using image gcr.io/k8s-minikube/storage-provisioner:v5\n",
      "  - Using image registry.k8s.io/metrics-server/metrics-server:v0.6.4\n",
      "  - Using image docker.io/kubernetesui/dashboard:v2.7.0\n",
      "  - Using image docker.io/kubernetesui/metrics-scraper:v1.0.8\n",
      "* Some dashboard features require the metrics-server addon. To enable all features please run:\n",
      "\n",
      "\tminikube addons enable metrics-server\t\n",
      "\n",
      "\n",
      "* Enabled addons: storage-provisioner, default-storageclass, metrics-server, dashboard\n",
      "* Done! kubectl is now configured to use \"minikube\" cluster and \"default\" namespace by default\n",
      "namespace/scavenger created\n",
      "Context \"minikube\" modified.\n",
      "deployment.apps/nginx-deployment created\n",
      "pod/nginx created\n",
      "pod/postgres created\n"
     ]
    }
   ],
   "source": [
    "%%bash\n",
    "./scavenger-setup.sh"
   ]
  },
  {
   "cell_type": "markdown",
   "metadata": {},
   "source": [
    "## Explore"
   ]
  },
  {
   "cell_type": "markdown",
   "metadata": {},
   "source": [
    "### Mark I: New Beginnings"
   ]
  },
  {
   "cell_type": "markdown",
   "metadata": {},
   "source": [
    "__1. What are the total number of Pods?__"
   ]
  },
  {
   "cell_type": "code",
   "execution_count": 78,
   "metadata": {},
   "outputs": [
    {
     "name": "stdout",
     "output_type": "stream",
     "text": [
      "NAME                               READY   STATUS             RESTARTS        AGE\n",
      "nginx                              1/1     Running            0               10m\n",
      "nginx-deployment-55f598f8d-bjrqh   1/1     Running            0               10m\n",
      "nginx-deployment-55f598f8d-km79w   1/1     Running            0               10m\n",
      "nginx-deployment-55f598f8d-wtcnh   1/1     Running            0               10m\n",
      "postgres                           0/1     CrashLoopBackOff   6 (4m34s ago)   10m\n"
     ]
    }
   ],
   "source": [
    "!kubectl get pods"
   ]
  },
  {
   "cell_type": "code",
   "execution_count": 48,
   "metadata": {},
   "outputs": [
    {
     "name": "stdout",
     "output_type": "stream",
     "text": [
      "Number of Total Pods: 5\n"
     ]
    }
   ],
   "source": [
    "%%bash\n",
    "NB_PODS_TOTAL=$(kubectl get pods | tail -n +2 | wc -l)\n",
    "echo \"Number of Total Pods: $NB_PODS_TOTAL\""
   ]
  },
  {
   "cell_type": "markdown",
   "metadata": {},
   "source": [
    "__2. How many namespaces are there?__"
   ]
  },
  {
   "cell_type": "code",
   "execution_count": 49,
   "metadata": {},
   "outputs": [
    {
     "name": "stdout",
     "output_type": "stream",
     "text": [
      "NAME                   STATUS   AGE\n",
      "default                Active   2d\n",
      "kube-node-lease        Active   53m\n",
      "kube-public            Active   2d\n",
      "kube-system            Active   2d\n",
      "kubernetes-dashboard   Active   53m\n",
      "scavenger              Active   13s\n"
     ]
    }
   ],
   "source": [
    "!kubectl get namespaces"
   ]
  },
  {
   "cell_type": "code",
   "execution_count": 50,
   "metadata": {},
   "outputs": [
    {
     "name": "stdout",
     "output_type": "stream",
     "text": [
      "Number of Namespaces: 6\n"
     ]
    }
   ],
   "source": [
    "%%bash\n",
    "NB_NAMESPACES=$(kubectl get namespaces | tail -n +2 | wc -l)\n",
    "echo \"Number of Namespaces: $NB_NAMESPACES\""
   ]
  },
  {
   "cell_type": "markdown",
   "metadata": {},
   "source": [
    "__3. How many nodes do we have?__"
   ]
  },
  {
   "cell_type": "code",
   "execution_count": 51,
   "metadata": {},
   "outputs": [
    {
     "name": "stdout",
     "output_type": "stream",
     "text": [
      "NAME       STATUS   ROLES           AGE   VERSION\n",
      "minikube   Ready    control-plane   2d    v1.27.4\n"
     ]
    }
   ],
   "source": [
    "!kubectl get nodes"
   ]
  },
  {
   "cell_type": "code",
   "execution_count": 52,
   "metadata": {},
   "outputs": [
    {
     "name": "stdout",
     "output_type": "stream",
     "text": [
      "Number of Nodes: 1\n"
     ]
    }
   ],
   "source": [
    "%%bash\n",
    "NB_NODES=$(kubectl get nodes | tail -n +2 | wc -l)\n",
    "echo \"Number of Nodes: $NB_NODES\""
   ]
  },
  {
   "cell_type": "markdown",
   "metadata": {},
   "source": [
    "__4. How many failing Pods are there?__"
   ]
  },
  {
   "cell_type": "code",
   "execution_count": 69,
   "metadata": {},
   "outputs": [
    {
     "name": "stdout",
     "output_type": "stream",
     "text": [
      "NAME                               READY   STATUS             RESTARTS      AGE\n",
      "nginx                              0/1     ImagePullBackOff   0             4m40s\n",
      "postgres                           0/1     CrashLoopBackOff   5 (86s ago)   4m40s\n"
     ]
    }
   ],
   "source": [
    "!kubectl get pods | grep -Pv '\\s+([1-9]+[\\d]*)\\/\\1\\s+'"
   ]
  },
  {
   "cell_type": "code",
   "execution_count": 70,
   "metadata": {},
   "outputs": [
    {
     "name": "stdout",
     "output_type": "stream",
     "text": [
      "Number of Pods Failing: 2\n"
     ]
    }
   ],
   "source": [
    "%%bash\n",
    "NB_PODS_FAILING=$(kubectl get pods \\\n",
    "  | grep -Pv '\\s+([1-9]+[\\d]*)\\/\\1\\s+' \\\n",
    "  | tail -n +2 \\\n",
    "  | wc -l\n",
    ")\n",
    "echo \"Number of Pods Failing: $NB_PODS_FAILING\""
   ]
  },
  {
   "cell_type": "markdown",
   "metadata": {},
   "source": [
    "__5. How many Deployments do we have?__"
   ]
  },
  {
   "cell_type": "code",
   "execution_count": 71,
   "metadata": {},
   "outputs": [
    {
     "name": "stdout",
     "output_type": "stream",
     "text": [
      "NAME               READY   UP-TO-DATE   AVAILABLE   AGE\n",
      "nginx-deployment   3/3     3            3           5m23s\n"
     ]
    }
   ],
   "source": [
    "%%bash\n",
    "kubectl get deployments"
   ]
  },
  {
   "cell_type": "code",
   "execution_count": 72,
   "metadata": {},
   "outputs": [
    {
     "name": "stdout",
     "output_type": "stream",
     "text": [
      "1\n"
     ]
    }
   ],
   "source": [
    "%%bash\n",
    "NB_DEPLOYMENTS=$(kubectl get deployments | tail -n +2 | wc -l)\n",
    "echo $NB_DEPLOYMENTS"
   ]
  },
  {
   "cell_type": "markdown",
   "metadata": {},
   "source": [
    "__6. For the Deployments you discovered, how many ReplicaSets are there in total?__\n"
   ]
  },
  {
   "cell_type": "code",
   "execution_count": 73,
   "metadata": {},
   "outputs": [
    {
     "name": "stdout",
     "output_type": "stream",
     "text": [
      "NAME                         DESIRED   CURRENT   READY   AGE\n",
      "nginx-deployment-55f598f8d   3         3         3       5m34s\n"
     ]
    }
   ],
   "source": [
    "!kubectl get rs"
   ]
  },
  {
   "cell_type": "markdown",
   "metadata": {},
   "source": [
    "### Mark II: Not-So-New Beginnings"
   ]
  },
  {
   "cell_type": "markdown",
   "metadata": {},
   "source": [
    "__7. Locate a Postgres Pod within our cluster. Why is it failing? Please provide the variable name(s) that is missing.__"
   ]
  },
  {
   "cell_type": "markdown",
   "metadata": {},
   "source": [
    "The `postgres` pod was failing because the environment variable `POSTGRESS_PASSWORD` was not set."
   ]
  },
  {
   "cell_type": "code",
   "execution_count": 75,
   "metadata": {},
   "outputs": [
    {
     "name": "stdout",
     "output_type": "stream",
     "text": [
      "Error: Database is uninitialized and superuser password is not specified.\n",
      "       You must specify POSTGRES_PASSWORD to a non-empty value for the\n",
      "       superuser. For example, \"-e POSTGRES_PASSWORD=password\" on \"docker run\".\n",
      "\n",
      "       You may also use \"POSTGRES_HOST_AUTH_METHOD=trust\" to allow all\n",
      "       connections without a password. This is *not* recommended.\n",
      "\n",
      "       See PostgreSQL documentation about \"trust\":\n",
      "       https://www.postgresql.org/docs/current/auth-trust.html\n"
     ]
    }
   ],
   "source": [
    "!kubectl logs postgres"
   ]
  },
  {
   "cell_type": "markdown",
   "metadata": {},
   "source": [
    "__8. Locate a failed Nginx Pod within our cluster. Why is it failing? Please copy and paste the specific kubectl log you find. Please escape \" with \\\".__"
   ]
  },
  {
   "cell_type": "code",
   "execution_count": 74,
   "metadata": {},
   "outputs": [
    {
     "name": "stdout",
     "output_type": "stream",
     "text": [
      "Error from server (BadRequest): container \"nginx\" in pod \"nginx\" is waiting to start: trying and failing to pull image\n"
     ]
    }
   ],
   "source": [
    "!kubectl logs nginx"
   ]
  },
  {
   "cell_type": "markdown",
   "metadata": {},
   "source": [
    "### Mark III: Fixing Our Bugs\n",
    "\n"
   ]
  },
  {
   "cell_type": "markdown",
   "metadata": {},
   "source": [
    "__9. For the Postgres Pod, can you fix the ./k8s/postgres-pod.yml file to spin up the image correctly? Please add the environment variable needed, with the value \"supersecret\". added to your lines of code.__"
   ]
  },
  {
   "cell_type": "markdown",
   "metadata": {},
   "source": [
    "We can fix the `postgres` pod by adding an environment variable for `POSTGRES_PASSWORD`"
   ]
  },
  {
   "cell_type": "code",
   "execution_count": 83,
   "metadata": {},
   "outputs": [
    {
     "name": "stdout",
     "output_type": "stream",
     "text": [
      "Overwriting k8s/postgres-pod.yml\n"
     ]
    }
   ],
   "source": [
    "%%writefile k8s/postgres-pod.yml\n",
    "apiVersion: v1\n",
    "kind: Pod\n",
    "metadata:\n",
    "  name: postgres\n",
    "spec:\n",
    "  containers:\n",
    "    - name: postgres\n",
    "      image: postgres\n",
    "      env:\n",
    "        - name: POSTGRES_PASSWORD\n",
    "          value: supersecret"
   ]
  },
  {
   "cell_type": "markdown",
   "metadata": {},
   "source": [
    "We can delete the failing pod and apply the corrected config to create a new pod."
   ]
  },
  {
   "cell_type": "code",
   "execution_count": 84,
   "metadata": {},
   "outputs": [
    {
     "name": "stdout",
     "output_type": "stream",
     "text": [
      "pod \"postgres\" deleted\n",
      "pod/postgres created\n"
     ]
    }
   ],
   "source": [
    "%%bash\n",
    "kubectl delete pod postgres\n",
    "kubectl apply -f k8s/postgres-pod.yml"
   ]
  },
  {
   "cell_type": "markdown",
   "metadata": {},
   "source": [
    "We can confirm that the `postgres` pod is running now!"
   ]
  },
  {
   "cell_type": "code",
   "execution_count": 85,
   "metadata": {},
   "outputs": [
    {
     "name": "stdout",
     "output_type": "stream",
     "text": [
      "NAME                               READY   STATUS    RESTARTS   AGE\n",
      "nginx                              1/1     Running   0          4m26s\n",
      "nginx-deployment-55f598f8d-bjrqh   1/1     Running   0          15m\n",
      "nginx-deployment-55f598f8d-km79w   1/1     Running   0          15m\n",
      "nginx-deployment-55f598f8d-wtcnh   1/1     Running   0          15m\n",
      "postgres                           1/1     Running   0          12s\n"
     ]
    }
   ],
   "source": [
    "!kubectl get pods"
   ]
  },
  {
   "cell_type": "markdown",
   "metadata": {},
   "source": [
    "__10. For the failed Nginx Pod, can you fix the ./k8s/nignx-pod.yml file to spin up the image correctly? Add the lines of code you added/corrected, and please escape \" with \\\".__"
   ]
  },
  {
   "cell_type": "markdown",
   "metadata": {},
   "source": [
    "The `nginx` pod is failing because of a typo in the image name (`nginz` instead of `nginx`). We can overwrite the config with the correct image name. "
   ]
  },
  {
   "cell_type": "code",
   "execution_count": 76,
   "metadata": {},
   "outputs": [
    {
     "name": "stdout",
     "output_type": "stream",
     "text": [
      "Overwriting k8s/nginx-pod.yml\n"
     ]
    }
   ],
   "source": [
    "%%writefile k8s/nginx-pod.yml\n",
    "apiVersion: v1\n",
    "kind: Pod\n",
    "metadata:\n",
    "  name: nginx\n",
    "spec:\n",
    "  containers:\n",
    "    - name: nginx\n",
    "      image: nginx"
   ]
  },
  {
   "cell_type": "markdown",
   "metadata": {},
   "source": [
    "We can delete the pod and apply the correct pod configuration."
   ]
  },
  {
   "cell_type": "code",
   "execution_count": 80,
   "metadata": {},
   "outputs": [
    {
     "name": "stdout",
     "output_type": "stream",
     "text": [
      "pod \"nginx\" deleted\n",
      "pod/nginx created\n"
     ]
    }
   ],
   "source": [
    "%%bash\n",
    "kubectl delete pod nginx\n",
    "kubectl apply -f k8s/nginx-pod.yml"
   ]
  },
  {
   "cell_type": "markdown",
   "metadata": {},
   "source": [
    "We can confirm that the `nginx` pod is up and running after we fixed the pod config."
   ]
  },
  {
   "cell_type": "code",
   "execution_count": 82,
   "metadata": {},
   "outputs": [
    {
     "name": "stdout",
     "output_type": "stream",
     "text": [
      "NAME                               READY   STATUS             RESTARTS     AGE\n",
      "nginx                              1/1     Running            0            7s\n",
      "nginx-deployment-55f598f8d-bjrqh   1/1     Running            0            11m\n",
      "nginx-deployment-55f598f8d-km79w   1/1     Running            0            11m\n",
      "nginx-deployment-55f598f8d-wtcnh   1/1     Running            0            11m\n",
      "postgres                           0/1     CrashLoopBackOff   7 (5s ago)   11m\n"
     ]
    }
   ],
   "source": [
    "!kubectl get pods"
   ]
  },
  {
   "cell_type": "markdown",
   "metadata": {},
   "source": [
    "## Teardown"
   ]
  },
  {
   "cell_type": "markdown",
   "metadata": {},
   "source": [
    "Let us teardown the resources we created by deleting all pods, deployments and namespaces, and stopping the minikube server."
   ]
  },
  {
   "cell_type": "code",
   "execution_count": 45,
   "metadata": {},
   "outputs": [
    {
     "name": "stdout",
     "output_type": "stream",
     "text": [
      "pod \"nginx\" deleted\n",
      "pod \"nginx-deployment-55f598f8d-g7ntj\" deleted\n",
      "pod \"nginx-deployment-55f598f8d-q7p2w\" deleted\n",
      "pod \"nginx-deployment-55f598f8d-swb2r\" deleted\n",
      "pod \"postgres\" deleted\n",
      "deployment.apps \"nginx-deployment\" deleted\n",
      "namespace \"scavenger\" deleted\n",
      "* Stopping node \"minikube\"  ...\n",
      "* Powering off \"minikube\" via SSH ...\n",
      "* 1 node stopped.\n"
     ]
    }
   ],
   "source": [
    "%%bash\n",
    "kubectl delete pods --all\n",
    "kubectl delete deployments --all\n",
    "kubectl delete namespace scavenger\n",
    "minikube stop"
   ]
  }
 ],
 "metadata": {
  "kernelspec": {
   "display_name": "Python 3",
   "language": "python",
   "name": "python3"
  },
  "language_info": {
   "codemirror_mode": {
    "name": "ipython",
    "version": 3
   },
   "file_extension": ".py",
   "mimetype": "text/x-python",
   "name": "python",
   "nbconvert_exporter": "python",
   "pygments_lexer": "ipython3",
   "version": "3.10.8"
  },
  "orig_nbformat": 4
 },
 "nbformat": 4,
 "nbformat_minor": 2
}
