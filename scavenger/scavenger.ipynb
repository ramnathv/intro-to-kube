{
 "cells": [
  {
   "cell_type": "markdown",
   "metadata": {},
   "source": [
    "# Scavenger"
   ]
  },
  {
   "cell_type": "markdown",
   "metadata": {},
   "source": [
    "## Setup"
   ]
  },
  {
   "cell_type": "markdown",
   "metadata": {},
   "source": [
    "The setup script `scavenger-setup.sh` starts the `minikube` server, creates a namespace `scavenger`, sets the current context to the newly created namespace, and creates the resources defined in the `k8s` directory."
   ]
  },
  {
   "cell_type": "code",
   "execution_count": 1,
   "metadata": {},
   "outputs": [
    {
     "name": "stdout",
     "output_type": "stream",
     "text": [
      "\u001b[0;31m# Run only once minikube and relevant dependencies installed\u001b[0m\u001b[0;34m\u001b[0m\n",
      "\u001b[0;34m\u001b[0m\u001b[0;32mif\u001b[0m \u001b[0;34m[\u001b[0m\u001b[0;31m \u001b[0m\u001b[0;31m!\u001b[0m \u001b[0;34m-\u001b[0m\u001b[0mf\u001b[0m \u001b[0;34m/\u001b[0m\u001b[0musr\u001b[0m\u001b[0;34m/\u001b[0m\u001b[0mlocal\u001b[0m\u001b[0;34m/\u001b[0m\u001b[0mbin\u001b[0m\u001b[0;34m/\u001b[0m\u001b[0mminikube\u001b[0m \u001b[0;34m]\u001b[0m\u001b[0;34m;\u001b[0m \u001b[0mthen\u001b[0m\u001b[0;34m\u001b[0m\n",
      "\u001b[0;34m\u001b[0m  \u001b[0mecho\u001b[0m \u001b[0;34m\"Minikube not found. Please follow installation instructions in README.md\"\u001b[0m\u001b[0;34m\u001b[0m\n",
      "\u001b[0;34m\u001b[0m\u001b[0mfi\u001b[0m\u001b[0;34m\u001b[0m\n",
      "\u001b[0;34m\u001b[0m\u001b[0mminikube\u001b[0m \u001b[0mstart\u001b[0m\u001b[0;34m\u001b[0m\n",
      "\u001b[0;34m\u001b[0m\u001b[0mkubectl\u001b[0m \u001b[0mcreate\u001b[0m \u001b[0mnamespace\u001b[0m \u001b[0mscavenger\u001b[0m\u001b[0;34m\u001b[0m\n",
      "\u001b[0;34m\u001b[0m\u001b[0mkubectl\u001b[0m \u001b[0mconfig\u001b[0m \u001b[0mset\u001b[0m\u001b[0;34m-\u001b[0m\u001b[0mcontext\u001b[0m \u001b[0;34m-\u001b[0m\u001b[0;34m-\u001b[0m\u001b[0mcurrent\u001b[0m \u001b[0;34m-\u001b[0m\u001b[0;34m-\u001b[0m\u001b[0mnamespace\u001b[0m\u001b[0;34m=\u001b[0m\u001b[0mscavenger\u001b[0m\u001b[0;34m\u001b[0m\n",
      "\u001b[0;34m\u001b[0m\u001b[0mcd\u001b[0m \u001b[0mk8s\u001b[0m\u001b[0;34m\u001b[0m\n",
      "\u001b[0;34m\u001b[0m\u001b[0mIFS\u001b[0m\u001b[0;34m=\u001b[0m\u001b[0;31m$\u001b[0m\u001b[0;34m'\\n\\t'\u001b[0m\u001b[0;34m\u001b[0m\n",
      "\u001b[0;34m\u001b[0m\u001b[0;32mfor\u001b[0m \u001b[0mf\u001b[0m \u001b[0;32min\u001b[0m\u001b[0;31m \u001b[0m\u001b[0;31m$\u001b[0m\u001b[0;34m(\u001b[0m\u001b[0mls\u001b[0m\u001b[0;34m)\u001b[0m\u001b[0;34m\u001b[0m\n",
      "\u001b[0;34m\u001b[0m\u001b[0mdo\u001b[0m\u001b[0;34m\u001b[0m\n",
      "\u001b[0;34m\u001b[0m        \u001b[0muntil\u001b[0m \u001b[0mkubectl\u001b[0m \u001b[0mcreate\u001b[0m \u001b[0;34m-\u001b[0m\u001b[0mf\u001b[0m\u001b[0;31m \u001b[0m\u001b[0;31m$\u001b[0m\u001b[0mf\u001b[0m \u001b[0;36m2\u001b[0m\u001b[0;34m>\u001b[0m \u001b[0;34m/\u001b[0m\u001b[0mdev\u001b[0m\u001b[0;34m/\u001b[0m\u001b[0mnull\u001b[0m\u001b[0;34m\u001b[0m\n",
      "\u001b[0;34m\u001b[0m        \u001b[0mdo\u001b[0m\u001b[0;34m\u001b[0m\n",
      "\u001b[0;34m\u001b[0m                \u001b[0msleep\u001b[0m \u001b[0;36m10\u001b[0m\u001b[0;34m\u001b[0m\n",
      "\u001b[0;34m\u001b[0m        \u001b[0mdone\u001b[0m\u001b[0;34m\u001b[0m\n",
      "\u001b[0;34m\u001b[0m\u001b[0mdone\u001b[0m\u001b[0;34m\u001b[0m\u001b[0;34m\u001b[0m\u001b[0m\n"
     ]
    }
   ],
   "source": [
    "%pycat scavenger-setup.sh"
   ]
  },
  {
   "cell_type": "markdown",
   "metadata": {},
   "source": [
    "Let us execute the setup script"
   ]
  },
  {
   "cell_type": "code",
   "execution_count": 2,
   "metadata": {},
   "outputs": [
    {
     "name": "stdout",
     "output_type": "stream",
     "text": [
      "* minikube v1.31.2 on Ubuntu 20.04 (docker/amd64)\n",
      "* Automatically selected the docker driver. Other choices: none, ssh\n",
      "* Using Docker driver with root privileges\n",
      "* Starting control plane node minikube in cluster minikube\n",
      "* Pulling base image ...\n",
      "* Creating docker container (CPUs=2, Memory=2200MB) ...\n",
      "* Preparing Kubernetes v1.27.4 on Docker 24.0.4 ...\n",
      "  - Generating certificates and keys ...\n",
      "  - Booting up control plane ...\n",
      "  - Configuring RBAC rules ...\n",
      "* Configuring bridge CNI (Container Networking Interface) ...\n",
      "  - Using image gcr.io/k8s-minikube/storage-provisioner:v5\n",
      "* Verifying Kubernetes components...\n",
      "* Enabled addons: storage-provisioner, default-storageclass\n",
      "* Done! kubectl is now configured to use \"minikube\" cluster and \"default\" namespace by default\n",
      "namespace/scavenger created\n",
      "Context \"minikube\" modified.\n",
      "deployment.apps/nginx-deployment created\n",
      "pod/nginx created\n",
      "pod/postgres created\n"
     ]
    }
   ],
   "source": [
    "%%bash\n",
    "./scavenger-setup.sh"
   ]
  },
  {
   "cell_type": "markdown",
   "metadata": {},
   "source": [
    "## Explore"
   ]
  },
  {
   "cell_type": "markdown",
   "metadata": {},
   "source": [
    "### Mark I: New Beginnings"
   ]
  },
  {
   "cell_type": "markdown",
   "metadata": {},
   "source": [
    "__0. What are the total number of Pods?__"
   ]
  },
  {
   "cell_type": "code",
   "execution_count": 3,
   "metadata": {},
   "outputs": [
    {
     "name": "stdout",
     "output_type": "stream",
     "text": [
      "NAMESPACE     NAME                               READY   STATUS              RESTARTS   AGE\n",
      "kube-system   coredns-5d78c9869d-zjggh           1/1     Running             0          13s\n",
      "kube-system   etcd-minikube                      1/1     Running             0          25s\n",
      "kube-system   kube-apiserver-minikube            1/1     Running             0          25s\n",
      "kube-system   kube-controller-manager-minikube   1/1     Running             0          28s\n",
      "kube-system   kube-proxy-2tp59                   1/1     Running             0          14s\n",
      "kube-system   kube-scheduler-minikube            1/1     Running             0          25s\n",
      "kube-system   storage-provisioner                1/1     Running             0          22s\n",
      "scavenger     nginx                              0/1     ContainerCreating   0          9s\n",
      "scavenger     nginx-deployment-55f598f8d-cmthq   0/1     ContainerCreating   0          13s\n",
      "scavenger     nginx-deployment-55f598f8d-mq2ll   0/1     ContainerCreating   0          13s\n",
      "scavenger     nginx-deployment-55f598f8d-wwrmh   0/1     ContainerCreating   0          13s\n",
      "scavenger     postgres                           0/1     ContainerCreating   0          8s\n"
     ]
    }
   ],
   "source": [
    "!kubectl get pods -A"
   ]
  },
  {
   "cell_type": "code",
   "execution_count": 4,
   "metadata": {},
   "outputs": [
    {
     "name": "stdout",
     "output_type": "stream",
     "text": [
      "Number of Total Pods: 12\n"
     ]
    }
   ],
   "source": [
    "%%bash\n",
    "NB_PODS_TOTAL=$(kubectl get pods --all-namespaces | tail -n +2 | wc -l)\n",
    "echo \"Number of Total Pods: $NB_PODS_TOTAL\""
   ]
  },
  {
   "cell_type": "markdown",
   "metadata": {},
   "source": [
    "__1. How many namespaces are there?__"
   ]
  },
  {
   "cell_type": "code",
   "execution_count": 5,
   "metadata": {},
   "outputs": [
    {
     "name": "stdout",
     "output_type": "stream",
     "text": [
      "NAME              STATUS   AGE\n",
      "default           Active   36s\n",
      "kube-node-lease   Active   36s\n",
      "kube-public       Active   36s\n",
      "kube-system       Active   36s\n",
      "scavenger         Active   27s\n"
     ]
    }
   ],
   "source": [
    "!kubectl get namespaces"
   ]
  },
  {
   "cell_type": "code",
   "execution_count": 6,
   "metadata": {},
   "outputs": [
    {
     "name": "stdout",
     "output_type": "stream",
     "text": [
      "Number of Namespaces: 5\n"
     ]
    }
   ],
   "source": [
    "%%bash\n",
    "NB_NAMESPACES=$(kubectl get namespaces | tail -n +2 | wc -l)\n",
    "echo \"Number of Namespaces: $NB_NAMESPACES\""
   ]
  },
  {
   "cell_type": "markdown",
   "metadata": {},
   "source": [
    "__2. How many nodes do we have?__"
   ]
  },
  {
   "cell_type": "code",
   "execution_count": 7,
   "metadata": {},
   "outputs": [
    {
     "name": "stdout",
     "output_type": "stream",
     "text": [
      "NAME       STATUS   ROLES           AGE   VERSION\n",
      "minikube   Ready    control-plane   41s   v1.27.4\n"
     ]
    }
   ],
   "source": [
    "!kubectl get nodes"
   ]
  },
  {
   "cell_type": "code",
   "execution_count": 8,
   "metadata": {},
   "outputs": [
    {
     "name": "stdout",
     "output_type": "stream",
     "text": [
      "Number of Nodes: 1\n"
     ]
    }
   ],
   "source": [
    "%%bash\n",
    "NB_NODES=$(kubectl get nodes | tail -n +2 | wc -l)\n",
    "echo \"Number of Nodes: $NB_NODES\""
   ]
  },
  {
   "cell_type": "markdown",
   "metadata": {},
   "source": [
    "__3. How many failing Pods are there?__"
   ]
  },
  {
   "cell_type": "code",
   "execution_count": 9,
   "metadata": {},
   "outputs": [
    {
     "name": "stdout",
     "output_type": "stream",
     "text": [
      "NAME                               READY   STATUS             RESTARTS   AGE\n",
      "nginx                              0/1     ImagePullBackOff   0          25s\n",
      "postgres                           0/1     Error              0          24s\n"
     ]
    }
   ],
   "source": [
    "!kubectl get pods | grep -Pv '\\s+([1-9]+[\\d]*)\\/\\1\\s+'"
   ]
  },
  {
   "cell_type": "code",
   "execution_count": 10,
   "metadata": {},
   "outputs": [
    {
     "name": "stdout",
     "output_type": "stream",
     "text": [
      "Number of Pods Failing: 2\n"
     ]
    }
   ],
   "source": [
    "%%bash\n",
    "NB_PODS_FAILING=$(kubectl get pods \\\n",
    "  | grep -Pv '\\s+([1-9]+[\\d]*)\\/\\1\\s+' \\\n",
    "  | tail -n +2 \\\n",
    "  | wc -l\n",
    ")\n",
    "echo \"Number of Pods Failing: $NB_PODS_FAILING\""
   ]
  },
  {
   "cell_type": "markdown",
   "metadata": {},
   "source": [
    "__4. How many Deployments do we have?__"
   ]
  },
  {
   "cell_type": "code",
   "execution_count": 11,
   "metadata": {},
   "outputs": [
    {
     "name": "stdout",
     "output_type": "stream",
     "text": [
      "NAMESPACE     NAME               READY   UP-TO-DATE   AVAILABLE   AGE\n",
      "kube-system   coredns            1/1     1            1           49s\n",
      "scavenger     nginx-deployment   3/3     3            3           44s\n"
     ]
    }
   ],
   "source": [
    "%%bash\n",
    "kubectl get deployments -A"
   ]
  },
  {
   "cell_type": "code",
   "execution_count": 13,
   "metadata": {},
   "outputs": [
    {
     "name": "stdout",
     "output_type": "stream",
     "text": [
      "2\n"
     ]
    }
   ],
   "source": [
    "%%bash\n",
    "NB_DEPLOYMENTS=$(kubectl get deployments -A | tail -n +2 | wc -l)\n",
    "echo $NB_DEPLOYMENTS"
   ]
  },
  {
   "cell_type": "markdown",
   "metadata": {},
   "source": [
    "__5. For the Deployments you discovered, how many ReplicaSets are there in total?__\n"
   ]
  },
  {
   "cell_type": "code",
   "execution_count": 14,
   "metadata": {},
   "outputs": [
    {
     "name": "stdout",
     "output_type": "stream",
     "text": [
      "NAMESPACE     NAME                         DESIRED   CURRENT   READY   AGE\n",
      "kube-system   coredns-5d78c9869d           1         1         1       55s\n",
      "scavenger     nginx-deployment-55f598f8d   3         3         3       55s\n"
     ]
    }
   ],
   "source": [
    "!kubectl get rs -A"
   ]
  },
  {
   "cell_type": "markdown",
   "metadata": {},
   "source": [
    "### Mark II: Not-So-New Beginnings"
   ]
  },
  {
   "cell_type": "markdown",
   "metadata": {},
   "source": [
    "__6. Locate a Postgres Pod within our cluster. Why is it failing? Please provide the variable name(s) that is missing.__"
   ]
  },
  {
   "cell_type": "markdown",
   "metadata": {},
   "source": [
    "The `postgres` pod was failing because the environment variable `POSTGRESS_PASSWORD` was not set."
   ]
  },
  {
   "cell_type": "code",
   "execution_count": 15,
   "metadata": {},
   "outputs": [
    {
     "name": "stdout",
     "output_type": "stream",
     "text": [
      "Error: Database is uninitialized and superuser password is not specified.\n",
      "       You must specify POSTGRES_PASSWORD to a non-empty value for the\n",
      "       superuser. For example, \"-e POSTGRES_PASSWORD=password\" on \"docker run\".\n",
      "\n",
      "       You may also use \"POSTGRES_HOST_AUTH_METHOD=trust\" to allow all\n",
      "       connections without a password. This is *not* recommended.\n",
      "\n",
      "       See PostgreSQL documentation about \"trust\":\n",
      "       https://www.postgresql.org/docs/current/auth-trust.html\n"
     ]
    }
   ],
   "source": [
    "!kubectl logs postgres"
   ]
  },
  {
   "cell_type": "markdown",
   "metadata": {},
   "source": [
    "__7. Locate a failed Nginx Pod within our cluster. Why is it failing? Please copy and paste the specific kubectl log you find. Please escape \" with \\\".__"
   ]
  },
  {
   "cell_type": "code",
   "execution_count": 16,
   "metadata": {},
   "outputs": [
    {
     "name": "stdout",
     "output_type": "stream",
     "text": [
      "Error from server (BadRequest): container \"nginx\" in pod \"nginx\" is waiting to start: image can't be pulled\n"
     ]
    }
   ],
   "source": [
    "!kubectl logs nginx"
   ]
  },
  {
   "cell_type": "markdown",
   "metadata": {},
   "source": [
    "### Mark III: Fixing Our Bugs\n",
    "\n"
   ]
  },
  {
   "cell_type": "markdown",
   "metadata": {},
   "source": [
    "__8. For the Postgres Pod, can you fix the ./k8s/postgres-pod.yml file to spin up the image correctly? Please add the environment variable needed, with the value \"supersecret\". added to your lines of code.__"
   ]
  },
  {
   "cell_type": "markdown",
   "metadata": {},
   "source": [
    "We can fix the `postgres` pod by adding an environment variable for `POSTGRES_PASSWORD`"
   ]
  },
  {
   "cell_type": "code",
   "execution_count": 17,
   "metadata": {},
   "outputs": [
    {
     "name": "stdout",
     "output_type": "stream",
     "text": [
      "Overwriting k8s/postgres-pod.yml\n"
     ]
    }
   ],
   "source": [
    "%%writefile k8s/postgres-pod.yml\n",
    "apiVersion: v1\n",
    "kind: Pod\n",
    "metadata:\n",
    "  name: postgres\n",
    "spec:\n",
    "  containers:\n",
    "    - name: postgres\n",
    "      image: postgres\n",
    "      env:\n",
    "        - name: POSTGRES_PASSWORD\n",
    "          value: supersecret"
   ]
  },
  {
   "cell_type": "markdown",
   "metadata": {},
   "source": [
    "We can delete the failing pod and apply the corrected config to create a new pod."
   ]
  },
  {
   "cell_type": "code",
   "execution_count": 18,
   "metadata": {},
   "outputs": [
    {
     "name": "stdout",
     "output_type": "stream",
     "text": [
      "pod \"postgres\" deleted\n",
      "pod/postgres created\n"
     ]
    }
   ],
   "source": [
    "%%bash\n",
    "kubectl delete pod postgres\n",
    "kubectl apply -f k8s/postgres-pod.yml"
   ]
  },
  {
   "cell_type": "markdown",
   "metadata": {},
   "source": [
    "We can confirm that the `postgres` pod is running now!"
   ]
  },
  {
   "cell_type": "code",
   "execution_count": 20,
   "metadata": {},
   "outputs": [
    {
     "name": "stdout",
     "output_type": "stream",
     "text": [
      "NAME                               READY   STATUS             RESTARTS   AGE\n",
      "nginx                              0/1     ImagePullBackOff   0          81s\n",
      "nginx-deployment-55f598f8d-cmthq   1/1     Running            0          85s\n",
      "nginx-deployment-55f598f8d-mq2ll   1/1     Running            0          85s\n",
      "nginx-deployment-55f598f8d-wwrmh   1/1     Running            0          85s\n",
      "postgres                           1/1     Running            0          5s\n"
     ]
    }
   ],
   "source": [
    "!kubectl get pods"
   ]
  },
  {
   "cell_type": "markdown",
   "metadata": {},
   "source": [
    "__9. For the failed Nginx Pod, can you fix the ./k8s/nignx-pod.yml file to spin up the image correctly? Add the lines of code you added/corrected, and please escape \" with \\\".__"
   ]
  },
  {
   "cell_type": "markdown",
   "metadata": {},
   "source": [
    "The `nginx` pod is failing because of a typo in the image name (`nginz` instead of `nginx`). We can overwrite the config with the correct image name. "
   ]
  },
  {
   "cell_type": "code",
   "execution_count": 21,
   "metadata": {},
   "outputs": [
    {
     "name": "stdout",
     "output_type": "stream",
     "text": [
      "Overwriting k8s/nginx-pod.yml\n"
     ]
    }
   ],
   "source": [
    "%%writefile k8s/nginx-pod.yml\n",
    "apiVersion: v1\n",
    "kind: Pod\n",
    "metadata:\n",
    "  name: nginx\n",
    "spec:\n",
    "  containers:\n",
    "    - name: nginx\n",
    "      image: nginx"
   ]
  },
  {
   "cell_type": "markdown",
   "metadata": {},
   "source": [
    "We can delete the pod and apply the correct pod configuration."
   ]
  },
  {
   "cell_type": "code",
   "execution_count": 22,
   "metadata": {},
   "outputs": [
    {
     "name": "stdout",
     "output_type": "stream",
     "text": [
      "pod \"nginx\" deleted\n",
      "pod/nginx created\n"
     ]
    }
   ],
   "source": [
    "%%bash\n",
    "kubectl delete pod nginx\n",
    "kubectl apply -f k8s/nginx-pod.yml"
   ]
  },
  {
   "cell_type": "markdown",
   "metadata": {},
   "source": [
    "We can confirm that the `nginx` pod is up and running after we fixed the pod config."
   ]
  },
  {
   "cell_type": "code",
   "execution_count": 24,
   "metadata": {},
   "outputs": [
    {
     "name": "stdout",
     "output_type": "stream",
     "text": [
      "NAME                               READY   STATUS    RESTARTS   AGE\n",
      "nginx                              1/1     Running   0          6s\n",
      "nginx-deployment-55f598f8d-cmthq   1/1     Running   0          98s\n",
      "nginx-deployment-55f598f8d-mq2ll   1/1     Running   0          98s\n",
      "nginx-deployment-55f598f8d-wwrmh   1/1     Running   0          98s\n",
      "postgres                           1/1     Running   0          18s\n"
     ]
    }
   ],
   "source": [
    "!kubectl get pods"
   ]
  },
  {
   "cell_type": "markdown",
   "metadata": {},
   "source": [
    "## Teardown"
   ]
  },
  {
   "cell_type": "markdown",
   "metadata": {},
   "source": [
    "Let us teardown the resources we created by deleting all pods, deployments and namespaces, and stopping the minikube server."
   ]
  },
  {
   "cell_type": "code",
   "execution_count": 25,
   "metadata": {},
   "outputs": [
    {
     "name": "stdout",
     "output_type": "stream",
     "text": [
      "pod \"nginx\" deleted\n",
      "pod \"nginx-deployment-55f598f8d-cmthq\" deleted\n",
      "pod \"nginx-deployment-55f598f8d-mq2ll\" deleted\n",
      "pod \"nginx-deployment-55f598f8d-wwrmh\" deleted\n",
      "pod \"postgres\" deleted\n",
      "deployment.apps \"nginx-deployment\" deleted\n",
      "namespace \"scavenger\" deleted\n",
      "* Stopping node \"minikube\"  ...\n",
      "* Powering off \"minikube\" via SSH ...\n",
      "* 1 node stopped.\n",
      "* Deleting \"minikube\" in docker ...\n",
      "* Deleting container \"minikube\" ...\n",
      "* Removing /home/codespace/.minikube/machines/minikube ...\n",
      "* Removed all traces of the \"minikube\" cluster.\n"
     ]
    }
   ],
   "source": [
    "%%bash\n",
    "kubectl delete pods --all\n",
    "kubectl delete deployments --all\n",
    "kubectl delete namespace scavenger\n",
    "minikube stop\n",
    "minikube delete"
   ]
  }
 ],
 "metadata": {
  "kernelspec": {
   "display_name": "Python 3",
   "language": "python",
   "name": "python3"
  },
  "language_info": {
   "codemirror_mode": {
    "name": "ipython",
    "version": 3
   },
   "file_extension": ".py",
   "mimetype": "text/x-python",
   "name": "python",
   "nbconvert_exporter": "python",
   "pygments_lexer": "ipython3",
   "version": "3.10.8"
  },
  "orig_nbformat": 4
 },
 "nbformat": 4,
 "nbformat_minor": 2
}
