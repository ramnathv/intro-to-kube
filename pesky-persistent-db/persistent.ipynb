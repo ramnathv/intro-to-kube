{
 "cells": [
  {
   "cell_type": "markdown",
   "metadata": {},
   "source": [
    "# Pesky Persistent DB"
   ]
  },
  {
   "cell_type": "code",
   "execution_count": 1,
   "metadata": {},
   "outputs": [
    {
     "name": "stdout",
     "output_type": "stream",
     "text": [
      "😄  minikube v1.31.2 on Ubuntu 20.04 (docker/amd64)\n",
      "✨  Using the docker driver based on existing profile\n",
      "👍  Starting control plane node minikube in cluster minikube\n",
      "🚜  Pulling base image ...\n",
      "🏃  Updating the running docker \"minikube\" container ...\n",
      "🐳  Preparing Kubernetes v1.27.4 on Docker 24.0.4 ...\u001b[K\u001b[K\u001b[K\u001b[K\u001b[K\u001b[K\u001b[K\u001b[K\u001b[K\u001b[K\u001b[K\u001b[K\u001b[K\u001b[K\u001b[K\u001b[K\u001b[K\u001b[K\u001b[K\u001b[K\u001b[K\u001b[K\u001b[K\u001b[K\u001b[K\u001b[K\u001b[K\u001b[K\u001b[K\u001b[K\u001b[K\u001b[K\u001b[K\u001b[K\u001b[K\u001b[K\u001b[K\u001b[K\u001b[K\u001b[K\u001b[K\u001b[K\u001b[K\u001b[K\u001b[K\u001b[K\u001b[K\u001b[K\u001b[K\u001b[K\u001b[K\u001b[K\u001b[K\u001b[K\u001b[K\u001b[K\u001b[K\u001b[K\u001b[K\u001b[K\u001b[K\u001b[K\u001b[K\u001b[K\u001b[K\u001b[K\u001b[K\u001b[K\u001b[K\u001b[K\u001b[K\u001b[K\u001b[K\u001b[K\u001b[K\u001b[K\u001b[K\u001b[K\u001b[K\u001b[K\u001b[K\u001b[K\u001b[K\u001b[K\u001b[K\u001b[K\u001b[K\u001b[K\u001b[K\u001b[K\u001b[K\u001b[K\u001b[K\u001b[K\u001b[K\u001b[K\u001b[K\u001b[K\u001b[K\u001b[K\u001b[K\u001b[K\u001b[K\u001b[K\u001b[K\u001b[K\u001b[K\u001b[K\u001b[K\u001b[K\u001b[K\u001b[K\u001b[K\u001b[K\u001b[K\u001b[K\u001b[K\u001b[K\u001b[K\u001b[K\u001b[K\u001b[K\u001b[K\u001b[K\u001b[K\u001b[K\u001b[K\u001b[K\u001b[K\u001b[K\u001b[K\u001b[K\u001b[K\u001b[K\u001b[K\u001b[K\u001b[K\u001b[K\u001b[K\u001b[K\u001b[K\u001b[K\u001b[K\u001b[K\u001b[K\u001b[K\u001b[K\u001b[K\u001b[K\u001b[K\u001b[K\u001b[K\u001b[K\u001b[K\u001b[K\u001b[K\u001b[K\u001b[K\u001b[K\u001b[K\u001b[K\u001b[K\u001b[K\u001b[K\u001b[K\u001b[K\u001b[K\u001b[K\u001b[K\u001b[K\u001b[K\u001b[K\u001b[K\u001b[K\u001b[K\u001b[K\u001b[K\u001b[K\u001b[K\u001b[K\u001b[K\u001b[K\u001b[K\u001b[K\u001b[K\u001b[K\u001b[K\u001b[K\u001b[K\u001b[K\u001b[K\u001b[K\u001b[K\u001b[K\u001b[K\u001b[K\u001b[K\u001b[K\u001b[K\u001b[K\u001b[K\u001b[K\u001b[K\u001b[K\u001b[K\u001b[K\u001b[K\u001b[K\u001b[K\u001b[K\u001b[K\u001b[K\u001b[K\u001b[K\u001b[K\u001b[K\u001b[K\u001b[K\u001b[K\u001b[K\u001b[K\u001b[K\u001b[K\u001b[K\u001b[K\u001b[K\u001b[K\u001b[K\u001b[K\u001b[K\u001b[K\u001b[K\u001b[K\u001b[K\u001b[K\u001b[K\u001b[K\u001b[K\u001b[K\u001b[K\n",
      "🔎  Verifying Kubernetes components...\n",
      "    ▪ Using image gcr.io/k8s-minikube/storage-provisioner:v5\n",
      "🌟  Enabled addons: default-storageclass, storage-provisioner\n",
      "🏄  Done! kubectl is now configured to use \"minikube\" cluster and \"default\" namespace by default\n"
     ]
    }
   ],
   "source": [
    "!minikube start"
   ]
  },
  {
   "cell_type": "markdown",
   "metadata": {},
   "source": [
    "## Explore Example"
   ]
  },
  {
   "cell_type": "code",
   "execution_count": 3,
   "metadata": {},
   "outputs": [
    {
     "name": "stdout",
     "output_type": "stream",
     "text": [
      "deployment.apps/nginx-deployment created\n"
     ]
    }
   ],
   "source": [
    "%%bash\n",
    "kubectl apply -f examples/nginx-deployment.yml\n",
    "kubectl apply -f examples/nginx-service.yml"
   ]
  },
  {
   "cell_type": "code",
   "execution_count": 7,
   "metadata": {},
   "outputs": [
    {
     "name": "stdout",
     "output_type": "stream",
     "text": [
      "NAME                                READY   STATUS    RESTARTS   AGE   IP           NODE       NOMINATED NODE   READINESS GATES\n",
      "nginx-deployment-57d84f57dc-cbrq8   1/1     Running   0          22s   10.244.0.4   minikube   <none>           <none>\n",
      "nginx-deployment-57d84f57dc-gmkbv   1/1     Running   0          22s   10.244.0.5   minikube   <none>           <none>\n",
      "nginx-deployment-57d84f57dc-rw652   1/1     Running   0          22s   10.244.0.6   minikube   <none>           <none>\n"
     ]
    }
   ],
   "source": [
    "!kubectl get pods -o wide"
   ]
  },
  {
   "cell_type": "code",
   "execution_count": 9,
   "metadata": {},
   "outputs": [
    {
     "name": "stdout",
     "output_type": "stream",
     "text": [
      "|-----------|------------------------|-------------|---------------------------|\n",
      "| NAMESPACE |          NAME          | TARGET PORT |            URL            |\n",
      "|-----------|------------------------|-------------|---------------------------|\n",
      "| default   | nginx-nodeport-service |          80 | http://192.168.49.2:30000 |\n",
      "|-----------|------------------------|-------------|---------------------------|\n",
      "🎉  Opening service default/nginx-nodeport-service in default browser...\n",
      "👉  http://192.168.49.2:30000\n"
     ]
    }
   ],
   "source": [
    "!minikube service nginx-nodeport-service url"
   ]
  },
  {
   "cell_type": "code",
   "execution_count": 10,
   "metadata": {},
   "outputs": [
    {
     "name": "stdout",
     "output_type": "stream",
     "text": [
      "*   Trying 192.168.49.2:30000...\n",
      "* TCP_NODELAY set\n",
      "* Connected to 192.168.49.2 (192.168.49.2) port 30000 (#0)\n",
      "> GET / HTTP/1.1\n",
      "> Host: 192.168.49.2:30000\n",
      "> User-Agent: curl/7.68.0\n",
      "> Accept: */*\n",
      "> \n",
      "* Mark bundle as not supporting multiuse\n",
      "< HTTP/1.1 200 OK\n",
      "< Server: nginx/1.25.2\n",
      "< Date: Mon, 09 Oct 2023 00:08:54 GMT\n",
      "< Content-Type: text/html\n",
      "< Content-Length: 615\n",
      "< Last-Modified: Tue, 15 Aug 2023 17:03:04 GMT\n",
      "< Connection: keep-alive\n",
      "< ETag: \"64dbafc8-267\"\n",
      "< Accept-Ranges: bytes\n",
      "< \n",
      "<!DOCTYPE html>\n",
      "<html>\n",
      "<head>\n",
      "<title>Welcome to nginx!</title>\n",
      "<style>\n",
      "html { color-scheme: light dark; }\n",
      "body { width: 35em; margin: 0 auto;\n",
      "font-family: Tahoma, Verdana, Arial, sans-serif; }\n",
      "</style>\n",
      "</head>\n",
      "<body>\n",
      "<h1>Welcome to nginx!</h1>\n",
      "<p>If you see this page, the nginx web server is successfully installed and\n",
      "working. Further configuration is required.</p>\n",
      "\n",
      "<p>For online documentation and support please refer to\n",
      "<a href=\"http://nginx.org/\">nginx.org</a>.<br/>\n",
      "Commercial support is available at\n",
      "<a href=\"http://nginx.com/\">nginx.com</a>.</p>\n",
      "\n",
      "<p><em>Thank you for using nginx.</em></p>\n",
      "</body>\n",
      "</html>\n",
      "* Connection #0 to host 192.168.49.2 left intact\n"
     ]
    }
   ],
   "source": [
    "!curl -v http://192.168.49.2:30000"
   ]
  },
  {
   "cell_type": "code",
   "execution_count": 11,
   "metadata": {},
   "outputs": [
    {
     "name": "stdout",
     "output_type": "stream",
     "text": [
      "✋  Stopping node \"minikube\"  ...\n",
      "🛑  Powering off \"minikube\" via SSH ...\n",
      "🛑  1 node stopped.\n",
      "🔥  Deleting \"minikube\" in docker ...\n",
      "🔥  Deleting container \"minikube\" ...\n",
      "🔥  Removing /home/codespace/.minikube/machines/minikube ...\n",
      "💀  Removed all traces of the \"minikube\" cluster.\n"
     ]
    }
   ],
   "source": [
    "!minikube stop\n",
    "!minikube delete"
   ]
  },
  {
   "cell_type": "markdown",
   "metadata": {},
   "source": [
    "## Postgres"
   ]
  },
  {
   "cell_type": "code",
   "execution_count": 106,
   "metadata": {},
   "outputs": [
    {
     "name": "stdout",
     "output_type": "stream",
     "text": [
      "😄  minikube v1.31.2 on Ubuntu 20.04 (docker/amd64)\n",
      "✨  Automatically selected the docker driver. Other choices: none, ssh\n",
      "📌  Using Docker driver with root privileges\n",
      "👍  Starting control plane node minikube in cluster minikube\n",
      "🚜  Pulling base image ...\n",
      "🔥  Creating docker container (CPUs=2, Memory=2200MB) ...\u001b[K\u001b[K\u001b[K\u001b[K\u001b[K\u001b[K\u001b[K\u001b[K\u001b[K\u001b[K\u001b[K\u001b[K\u001b[K\u001b[K\u001b[K\u001b[K\u001b[K\u001b[K\u001b[K\u001b[K\u001b[K\u001b[K\u001b[K\u001b[K\u001b[K\u001b[K\u001b[K\u001b[K\u001b[K\u001b[K\u001b[K\u001b[K\u001b[K\u001b[K\u001b[K\u001b[K\u001b[K\u001b[K\u001b[K\u001b[K\u001b[K\u001b[K\u001b[K\u001b[K\u001b[K\u001b[K\u001b[K\u001b[K\u001b[K\u001b[K\u001b[K\u001b[K\u001b[K\u001b[K\u001b[K\u001b[K\u001b[K\u001b[K\u001b[K\u001b[K\u001b[K\u001b[K\u001b[K\u001b[K\u001b[K\u001b[K\u001b[K\u001b[K\u001b[K\u001b[K\u001b[K\u001b[K\u001b[K\u001b[K\u001b[K\u001b[K\u001b[K\u001b[K\u001b[K\u001b[K\u001b[K\u001b[K\u001b[K\u001b[K\u001b[K\u001b[K\u001b[K\u001b[K\u001b[K\u001b[K\u001b[K\u001b[K\u001b[K\u001b[K\u001b[K\u001b[K\u001b[K\u001b[K\u001b[K\u001b[K\u001b[K\u001b[K\u001b[K\u001b[K\u001b[K\u001b[K\u001b[K\u001b[K\u001b[K\u001b[K\u001b[K\u001b[K\u001b[K\u001b[K\u001b[K\u001b[K\u001b[K\u001b[K\u001b[K\u001b[K\u001b[K\u001b[K\u001b[K\u001b[K\u001b[K\u001b[K\u001b[K\u001b[K\u001b[K\u001b[K\u001b[K\u001b[K\u001b[K\u001b[K\u001b[K\u001b[K\u001b[K\u001b[K\u001b[K\u001b[K\u001b[K\u001b[K\u001b[K\u001b[K\u001b[K\u001b[K\u001b[K\u001b[K\u001b[K\u001b[K\u001b[K\u001b[K\u001b[K\u001b[K\u001b[K\u001b[K\u001b[K\u001b[K\u001b[K\u001b[K\u001b[K\u001b[K\u001b[K\u001b[K\u001b[K\u001b[K\u001b[K\u001b[K\u001b[K\u001b[K\u001b[K\u001b[K\u001b[K\u001b[K\u001b[K\u001b[K\u001b[K\u001b[K\u001b[K\u001b[K\u001b[K\u001b[K\u001b[K\u001b[K\u001b[K\u001b[K\u001b[K\u001b[K\u001b[K\u001b[K\u001b[K\u001b[K\u001b[K\u001b[K\u001b[K\u001b[K\u001b[K\u001b[K\u001b[K\u001b[K\u001b[K\u001b[K\u001b[K\u001b[K\u001b[K\u001b[K\u001b[K\u001b[K\u001b[K\u001b[K\u001b[K\u001b[K\u001b[K\u001b[K\u001b[K\u001b[K\u001b[K\u001b[K\u001b[K\u001b[K\u001b[K\u001b[K\u001b[K\u001b[K\u001b[K\u001b[K\u001b[K\u001b[K\u001b[K\u001b[K\u001b[K\u001b[K\u001b[K\u001b[K\u001b[K\u001b[K\u001b[K\u001b[K\u001b[K\u001b[K\u001b[K\u001b[K\u001b[K\u001b[K\u001b[K\u001b[K\u001b[K\u001b[K\u001b[K\u001b[K\u001b[K\u001b[K\u001b[K\u001b[K\u001b[K\u001b[K\u001b[K\u001b[K\u001b[K\u001b[K\u001b[K\u001b[K\u001b[K\u001b[K\u001b[K\u001b[K\u001b[K\u001b[K\u001b[K\u001b[K\u001b[K\u001b[K\u001b[K\u001b[K\u001b[K\u001b[K\u001b[K\u001b[K\u001b[K\u001b[K\u001b[K\u001b[K\u001b[K\u001b[K\u001b[K\u001b[K\u001b[K\u001b[K\u001b[K\u001b[K\u001b[K\u001b[K\u001b[K\u001b[K\u001b[K\u001b[K\u001b[K\u001b[K\u001b[K\u001b[K\u001b[K\u001b[K\u001b[K\u001b[K\u001b[K\u001b[K\u001b[K\u001b[K\u001b[K\u001b[K\u001b[K\u001b[K\u001b[K\u001b[K\u001b[K\u001b[K\u001b[K\u001b[K\u001b[K\u001b[K\u001b[K\u001b[K\u001b[K\u001b[K\u001b[K\u001b[K\u001b[K\u001b[K\u001b[K\u001b[K\u001b[K\u001b[K\u001b[K\u001b[K\u001b[K\u001b[K\u001b[K\u001b[K\u001b[K\u001b[K\u001b[K\u001b[K\u001b[K\u001b[K\u001b[K\u001b[K\u001b[K\u001b[K\u001b[K\u001b[K\u001b[K\u001b[K\u001b[K\u001b[K\u001b[K\u001b[K\u001b[K\u001b[K\u001b[K\u001b[K\u001b[K\u001b[K\u001b[K\u001b[K\u001b[K\u001b[K\u001b[K\u001b[K\u001b[K\u001b[K\u001b[K\u001b[K\u001b[K\u001b[K\u001b[K\u001b[K\u001b[K\u001b[K\u001b[K\u001b[K\u001b[K\u001b[K\u001b[K\u001b[K\n",
      "🐳  Preparing Kubernetes v1.27.4 on Docker 24.0.4 ...\u001b[K\u001b[K\u001b[K\u001b[K\u001b[K\u001b[K\u001b[K\u001b[K\u001b[K\u001b[K\u001b[K\u001b[K\u001b[K\u001b[K\u001b[K\u001b[K\u001b[K\u001b[K\u001b[K\u001b[K\u001b[K\u001b[K\u001b[K\u001b[K\u001b[K\u001b[K\u001b[K\u001b[K\u001b[K\u001b[K\u001b[K\u001b[K\u001b[K\u001b[K\u001b[K\u001b[K\u001b[K\u001b[K\u001b[K\u001b[K\u001b[K\u001b[K\n",
      "    ▪ Generating certificates and keys ...\u001b[K\u001b[K\u001b[K\u001b[K\u001b[K\u001b[K\u001b[K\u001b[K\u001b[K\u001b[K\u001b[K\u001b[K\u001b[K\u001b[K\u001b[K\u001b[K\u001b[K\u001b[K\u001b[K\u001b[K\u001b[K\u001b[K\u001b[K\u001b[K\u001b[K\u001b[K\u001b[K\u001b[K\u001b[K\u001b[K\u001b[K\u001b[K\u001b[K\u001b[K\u001b[K\u001b[K\u001b[K\u001b[K\u001b[K\u001b[K\n",
      "    ▪ Booting up control plane ...\u001b[K\u001b[K\u001b[K\u001b[K\u001b[K\u001b[K\u001b[K\u001b[K\u001b[K\u001b[K\u001b[K\u001b[K\u001b[K\u001b[K\u001b[K\u001b[K\u001b[K\u001b[K\u001b[K\u001b[K\u001b[K\u001b[K\u001b[K\u001b[K\u001b[K\u001b[K\u001b[K\u001b[K\u001b[K\u001b[K\u001b[K\u001b[K\u001b[K\u001b[K\u001b[K\u001b[K\u001b[K\u001b[K\u001b[K\u001b[K\u001b[K\u001b[K\u001b[K\u001b[K\u001b[K\u001b[K\u001b[K\u001b[K\u001b[K\u001b[K\u001b[K\u001b[K\u001b[K\u001b[K\u001b[K\u001b[K\u001b[K\u001b[K\u001b[K\u001b[K\u001b[K\u001b[K\u001b[K\u001b[K\u001b[K\u001b[K\u001b[K\u001b[K\u001b[K\u001b[K\u001b[K\u001b[K\u001b[K\u001b[K\u001b[K\u001b[K\u001b[K\u001b[K\u001b[K\u001b[K\u001b[K\u001b[K\u001b[K\u001b[K\u001b[K\u001b[K\u001b[K\u001b[K\u001b[K\u001b[K\u001b[K\u001b[K\u001b[K\u001b[K\u001b[K\u001b[K\u001b[K\u001b[K\u001b[K\u001b[K\u001b[K\u001b[K\u001b[K\u001b[K\u001b[K\u001b[K\u001b[K\u001b[K\u001b[K\u001b[K\u001b[K\u001b[K\u001b[K\u001b[K\u001b[K\u001b[K\u001b[K\u001b[K\u001b[K\u001b[K\u001b[K\u001b[K\u001b[K\u001b[K\u001b[K\u001b[K\u001b[K\u001b[K\u001b[K\u001b[K\u001b[K\u001b[K\u001b[K\u001b[K\u001b[K\u001b[K\u001b[K\u001b[K\u001b[K\u001b[K\u001b[K\u001b[K\u001b[K\u001b[K\u001b[K\u001b[K\u001b[K\u001b[K\u001b[K\u001b[K\u001b[K\u001b[K\u001b[K\u001b[K\u001b[K\u001b[K\u001b[K\u001b[K\u001b[K\u001b[K\u001b[K\u001b[K\u001b[K\u001b[K\u001b[K\u001b[K\u001b[K\u001b[K\u001b[K\u001b[K\u001b[K\u001b[K\u001b[K\u001b[K\u001b[K\u001b[K\u001b[K\u001b[K\u001b[K\u001b[K\u001b[K\u001b[K\u001b[K\u001b[K\u001b[K\u001b[K\u001b[K\u001b[K\u001b[K\u001b[K\u001b[K\u001b[K\n",
      "    ▪ Configuring RBAC rules ...\u001b[K\u001b[K\u001b[K\u001b[K\u001b[K\u001b[K\u001b[K\u001b[K\u001b[K\u001b[K\u001b[K\u001b[K\u001b[K\u001b[K\u001b[K\u001b[K\n",
      "🔗  Configuring bridge CNI (Container Networking Interface) ...\n",
      "    ▪ Using image gcr.io/k8s-minikube/storage-provisioner:v5\n",
      "🔎  Verifying Kubernetes components...\n",
      "🌟  Enabled addons: storage-provisioner, default-storageclass\n",
      "🏄  Done! kubectl is now configured to use \"minikube\" cluster and \"default\" namespace by default\n"
     ]
    }
   ],
   "source": [
    "!minikube start"
   ]
  },
  {
   "cell_type": "markdown",
   "metadata": {},
   "source": [
    "### Step 1\n",
    "\n",
    "__Create nodeport service for `postgres`__\n",
    "\n",
    "```yaml\n",
    "apiVersion: v1\n",
    "kind: Service\n",
    "metadata:\n",
    "  name: postgres\n",
    "  labels:\n",
    "    app: postgres\n",
    "spec:\n",
    "  type: NodePort\n",
    "  ports:\n",
    "    - port: 5432\n",
    "  selector:\n",
    "    app: postgres\n",
    "\n",
    "```"
   ]
  },
  {
   "cell_type": "code",
   "execution_count": 107,
   "metadata": {},
   "outputs": [
    {
     "name": "stdout",
     "output_type": "stream",
     "text": [
      "service/postgres created\n"
     ]
    }
   ],
   "source": [
    "!kubectl apply -f postgres-service.yml"
   ]
  },
  {
   "cell_type": "markdown",
   "metadata": {},
   "source": [
    "### Step 2\n",
    "\n",
    "__Add database connection info to configmap__"
   ]
  },
  {
   "cell_type": "code",
   "execution_count": 108,
   "metadata": {},
   "outputs": [
    {
     "name": "stdout",
     "output_type": "stream",
     "text": [
      "Overwriting postgres-configmap.yml\n"
     ]
    }
   ],
   "source": [
    "%%writefile postgres-configmap.yml\n",
    "apiVersion: v1\n",
    "kind: ConfigMap\n",
    "metadata:\n",
    "  name: postgres-config\n",
    "  labels:\n",
    "    app: postgres\n",
    "data:\n",
    "  POSTGRES_DB: postgresdb\n",
    "  POSTGRES_USER: admin\n",
    "  POSTGRES_PASSWORD: psltest"
   ]
  },
  {
   "cell_type": "code",
   "execution_count": 109,
   "metadata": {},
   "outputs": [
    {
     "name": "stdout",
     "output_type": "stream",
     "text": [
      "configmap/postgres-config created\n"
     ]
    }
   ],
   "source": [
    "!kubectl apply -f postgres-configmap.yml"
   ]
  },
  {
   "cell_type": "markdown",
   "metadata": {},
   "source": [
    "### Step 3\n",
    "\n",
    "__Define PersistentVolumn (PV) and PersistentVolumeClaim (PVC)__"
   ]
  },
  {
   "cell_type": "code",
   "execution_count": 110,
   "metadata": {},
   "outputs": [
    {
     "name": "stdout",
     "output_type": "stream",
     "text": [
      "Overwriting postgres-persistent.yml\n"
     ]
    }
   ],
   "source": [
    "%%writefile postgres-persistent.yml\n",
    "kind: PersistentVolume\n",
    "apiVersion: v1\n",
    "metadata:\n",
    "  name: postgres-pv-volume\n",
    "  labels:\n",
    "    type: local\n",
    "    app: postgres\n",
    "spec:\n",
    "  storageClassName: manual\n",
    "  capacity: \n",
    "    storage: 5Gi\n",
    "  accessModes: \n",
    "    - ReadWriteMany\n",
    "  hostPath: \n",
    "    path: /mnt/data\n",
    "---\n",
    "kind: PersistentVolumeClaim\n",
    "apiVersion: v1\n",
    "metadata:\n",
    "  name: postgres-pv-claim\n",
    "  labels:\n",
    "    app: postgres\n",
    "spec:\n",
    "  storageClassName: manual\n",
    "  accessModes: \n",
    "    - ReadWriteMany\n",
    "  resources: \n",
    "    requests:\n",
    "      storage: 5Gi"
   ]
  },
  {
   "cell_type": "code",
   "execution_count": 111,
   "metadata": {},
   "outputs": [
    {
     "name": "stdout",
     "output_type": "stream",
     "text": [
      "persistentvolume/postgres-pv-volume created\n",
      "persistentvolumeclaim/postgres-pv-claim created\n"
     ]
    }
   ],
   "source": [
    "!kubectl apply -f postgres-persistent.yml"
   ]
  },
  {
   "cell_type": "markdown",
   "metadata": {},
   "source": [
    "__Tip__: Use these commands to get an explanation of the spec.\n",
    "\n",
    "```bash\n",
    "kubectl explain pv.spec --recursive\n",
    "kubectl explain pvc.spec --recursive\n",
    "```"
   ]
  },
  {
   "cell_type": "markdown",
   "metadata": {},
   "source": [
    "### Step 4\n",
    "\n",
    "__Configure the deloyment__"
   ]
  },
  {
   "cell_type": "code",
   "execution_count": 114,
   "metadata": {},
   "outputs": [
    {
     "name": "stdout",
     "output_type": "stream",
     "text": [
      "Overwriting postgres-deployment.yml\n"
     ]
    }
   ],
   "source": [
    "%%writefile postgres-deployment.yml\n",
    "# TODO:\n",
    "# a. Add a config map reference to your secrets\n",
    "# b. Add the following volumeMounts:\n",
    "#        mountPath: /var/lib/postgresql/data\n",
    "#        name to be postgredb\n",
    "# c. Add the persistent volume claim from postgres-persistent.yml\n",
    "apiVersion: apps/v1\n",
    "kind: Deployment\n",
    "metadata:\n",
    "  name: postgres\n",
    "spec:\n",
    "  replicas: 1\n",
    "  selector:\n",
    "    matchLabels:\n",
    "      app: postgres\n",
    "  template:\n",
    "    metadata:\n",
    "      labels:\n",
    "        app: postgres\n",
    "    spec:\n",
    "      containers:\n",
    "        - name: postgres\n",
    "          image: postgres:10.1\n",
    "          imagePullPolicy: \"IfNotPresent\"\n",
    "          ports:\n",
    "            - containerPort: 5432\n",
    "          envFrom:\n",
    "            - configMapRef:\n",
    "                name: postgres-config\n",
    "          volumeMounts:\n",
    "            - name: postgresdb\n",
    "              mountPath: /var/lib/postgresql/data\n",
    "      volumes:\n",
    "        - name: postgresdb\n",
    "          persistentVolumeClaim:\n",
    "            claimName: postgres-pv-claim\n"
   ]
  },
  {
   "cell_type": "code",
   "execution_count": 115,
   "metadata": {},
   "outputs": [
    {
     "name": "stdout",
     "output_type": "stream",
     "text": [
      "deployment.apps/postgres created\n"
     ]
    }
   ],
   "source": [
    "!kubectl apply -f postgres-deployment.yml"
   ]
  },
  {
   "cell_type": "code",
   "execution_count": 121,
   "metadata": {},
   "outputs": [
    {
     "name": "stdout",
     "output_type": "stream",
     "text": [
      "NAME                        READY   STATUS    RESTARTS   AGE\n",
      "postgres-6d8577568d-vggn9   1/1     Running   0          25s\n"
     ]
    }
   ],
   "source": [
    "!kubectl get pod"
   ]
  },
  {
   "cell_type": "code",
   "execution_count": 62,
   "metadata": {},
   "outputs": [
    {
     "name": "stdout",
     "output_type": "stream",
     "text": [
      "pod \"postgres-85989586bd-4wp4q\" deleted\n"
     ]
    }
   ],
   "source": [
    "!kubectl delete pod postgres-85989586bd-4wp4q"
   ]
  },
  {
   "cell_type": "code",
   "execution_count": 41,
   "metadata": {},
   "outputs": [
    {
     "name": "stdout",
     "output_type": "stream",
     "text": [
      "I1009 00:53:47.441068   83805 log.go:194] (0xc0000e64d0) (0xc000529860) Create stream\n",
      "I1009 00:53:47.441139   83805 log.go:194] (0xc0000e64d0) (0xc000529860) Stream added, broadcasting: 1\n",
      "I1009 00:53:47.444365   83805 log.go:194] (0xc0000e64d0) Reply frame received for 1\n",
      "I1009 00:53:47.444400   83805 log.go:194] (0xc0000e64d0) (0xc000528000) Create stream\n",
      "I1009 00:53:47.444417   83805 log.go:194] (0xc0000e64d0) (0xc000528000) Stream added, broadcasting: 3\n",
      "I1009 00:53:47.445004   83805 log.go:194] (0xc0000e64d0) Reply frame received for 3\n",
      "I1009 00:53:47.445044   83805 log.go:194] (0xc0000e64d0) (0xc0004ec000) Create stream\n",
      "I1009 00:53:47.445055   83805 log.go:194] (0xc0000e64d0) (0xc0004ec000) Stream added, broadcasting: 5\n",
      "I1009 00:53:47.445743   83805 log.go:194] (0xc0000e64d0) Reply frame received for 5\n",
      "I1009 00:53:47.445770   83805 log.go:194] (0xc0000e64d0) (0xc0004ec0a0) Create stream\n",
      "I1009 00:53:47.445783   83805 log.go:194] (0xc0000e64d0) (0xc0004ec0a0) Stream added, broadcasting: 7\n",
      "I1009 00:53:47.447593   83805 log.go:194] (0xc0000e64d0) Reply frame received for 7\n",
      "I1009 00:53:47.447704   83805 log.go:194] (0xc0004ec0a0) (7) Writing data frame\n",
      "I1009 00:53:47.449701   83805 log.go:194] (0xc0000e64d0) Data frame received for 5\n",
      "I1009 00:53:47.449750   83805 log.go:194] (0xc0004ec000) (5) Data frame handling\n",
      "I1009 00:53:47.539511   83805 log.go:194] (0xc0000e64d0) Data frame received for 5\n",
      "I1009 00:53:47.539528   83805 log.go:194] (0xc0004ec000) (5) Data frame handling\n",
      "I1009 00:53:47.539566   83805 log.go:194] (0xc0004ec000) (5) Data frame sent\n",
      "Password for user admin: I1009 00:53:52.052562   83805 log.go:194] (0xc000528000) (3) Writing data frame\n",
      "I1009 00:53:52.055883   83805 log.go:194] (0xc0000e64d0) (0xc000528000) Stream removed, broadcasting: 3\n",
      "I1009 00:53:52.055904   83805 log.go:194] (0xc0000e64d0) (0xc000528000) Stream removed, broadcasting: 3\n",
      "I1009 00:53:52.055933   83805 log.go:194] (0xc0000e64d0) Data frame received for 1\n",
      "I1009 00:53:52.055946   83805 log.go:194] (0xc000529860) (1) Data frame handling\n",
      "I1009 00:53:52.055958   83805 log.go:194] (0xc000529860) (1) Data frame sent\n",
      "I1009 00:53:52.055965   83805 log.go:194] (0xc0000e64d0) (0xc000529860) Stream removed, broadcasting: 1\n",
      "I1009 00:53:52.056134   83805 log.go:194] (0xc0000e64d0) (0xc0004ec000) Stream removed, broadcasting: 5\n",
      "I1009 00:53:52.056163   83805 log.go:194] (0xc0000e64d0) (0xc000529860) Stream removed, broadcasting: 1\n",
      "I1009 00:53:52.056173   83805 log.go:194] (0xc0000e64d0) (0xc000528000) Stream removed, broadcasting: 3\n",
      "I1009 00:53:52.056184   83805 log.go:194] (0xc0000e64d0) (0xc0004ec000) Stream removed, broadcasting: 5\n",
      "I1009 00:53:52.056195   83805 log.go:194] (0xc0000e64d0) (0xc0004ec0a0) Stream removed, broadcasting: 7\n",
      "I1009 00:53:52.056310   83805 log.go:194] (0xc0000e64d0) Go away received\n",
      "command terminated with exit code 130\n"
     ]
    }
   ],
   "source": [
    "!kubectl exec -it  postgres-6d8577568d-vggn9 -- psql -h localhost -U admin --password -p 5432 postgresdb"
   ]
  },
  {
   "cell_type": "code",
   "execution_count": 122,
   "metadata": {},
   "outputs": [
    {
     "name": "stdout",
     "output_type": "stream",
     "text": [
      "Name:             postgres-6d8577568d-vggn9\n",
      "Namespace:        default\n",
      "Priority:         0\n",
      "Service Account:  default\n",
      "Node:             minikube/192.168.49.2\n",
      "Start Time:       Mon, 09 Oct 2023 01:35:28 +0000\n",
      "Labels:           app=postgres\n",
      "                  pod-template-hash=6d8577568d\n",
      "Annotations:      <none>\n",
      "Status:           Running\n",
      "IP:               10.244.0.3\n",
      "IPs:\n",
      "  IP:           10.244.0.3\n",
      "Controlled By:  ReplicaSet/postgres-6d8577568d\n",
      "Containers:\n",
      "  postgres:\n",
      "    Container ID:   docker://ade25e1aa53de299feddead61a3a3e37bde598498a82ee26a671a04b19891fb7\n",
      "    Image:          postgres:10.1\n",
      "    Image ID:       docker-pullable://postgres@sha256:3f4441460029e12905a5d447a3549ae2ac13323d045391b0cb0cf8b48ea17463\n",
      "    Port:           5432/TCP\n",
      "    Host Port:      0/TCP\n",
      "    State:          Running\n",
      "      Started:      Mon, 09 Oct 2023 01:35:41 +0000\n",
      "    Ready:          True\n",
      "    Restart Count:  0\n",
      "    Environment Variables from:\n",
      "      postgres-config  ConfigMap  Optional: false\n",
      "    Environment:       <none>\n",
      "    Mounts:\n",
      "      /var/lib/postgresql/data from postgresdb (rw)\n",
      "      /var/run/secrets/kubernetes.io/serviceaccount from kube-api-access-w2kxv (ro)\n",
      "Conditions:\n",
      "  Type              Status\n",
      "  Initialized       True \n",
      "  Ready             True \n",
      "  ContainersReady   True \n",
      "  PodScheduled      True \n",
      "Volumes:\n",
      "  postgresdb:\n",
      "    Type:       PersistentVolumeClaim (a reference to a PersistentVolumeClaim in the same namespace)\n",
      "    ClaimName:  postgres-pv-claim\n",
      "    ReadOnly:   false\n",
      "  kube-api-access-w2kxv:\n",
      "    Type:                    Projected (a volume that contains injected data from multiple sources)\n",
      "    TokenExpirationSeconds:  3607\n",
      "    ConfigMapName:           kube-root-ca.crt\n",
      "    ConfigMapOptional:       <nil>\n",
      "    DownwardAPI:             true\n",
      "QoS Class:                   BestEffort\n",
      "Node-Selectors:              <none>\n",
      "Tolerations:                 node.kubernetes.io/not-ready:NoExecute op=Exists for 300s\n",
      "                             node.kubernetes.io/unreachable:NoExecute op=Exists for 300s\n",
      "Events:\n",
      "  Type    Reason     Age   From               Message\n",
      "  ----    ------     ----  ----               -------\n",
      "  Normal  Scheduled  2m8s  default-scheduler  Successfully assigned default/postgres-6d8577568d-vggn9 to minikube\n",
      "  Normal  Pulling    2m7s  kubelet            Pulling image \"postgres:10.1\"\n",
      "  Normal  Pulled     115s  kubelet            Successfully pulled image \"postgres:10.1\" in 11.552951722s (11.552964536s including waiting)\n",
      "  Normal  Created    115s  kubelet            Created container postgres\n",
      "  Normal  Started    115s  kubelet            Started container postgres\n"
     ]
    }
   ],
   "source": [
    "!kubectl describe pod postgres-6d8577568d-vggn9"
   ]
  },
  {
   "cell_type": "code",
   "execution_count": 123,
   "metadata": {},
   "outputs": [
    {
     "name": "stdout",
     "output_type": "stream",
     "text": [
      "Name:                   postgres\n",
      "Namespace:              default\n",
      "CreationTimestamp:      Mon, 09 Oct 2023 01:35:28 +0000\n",
      "Labels:                 <none>\n",
      "Annotations:            deployment.kubernetes.io/revision: 1\n",
      "Selector:               app=postgres\n",
      "Replicas:               1 desired | 1 updated | 1 total | 1 available | 0 unavailable\n",
      "StrategyType:           RollingUpdate\n",
      "MinReadySeconds:        0\n",
      "RollingUpdateStrategy:  25% max unavailable, 25% max surge\n",
      "Pod Template:\n",
      "  Labels:  app=postgres\n",
      "  Containers:\n",
      "   postgres:\n",
      "    Image:      postgres:10.1\n",
      "    Port:       5432/TCP\n",
      "    Host Port:  0/TCP\n",
      "    Environment Variables from:\n",
      "      postgres-config  ConfigMap  Optional: false\n",
      "    Environment:       <none>\n",
      "    Mounts:\n",
      "      /var/lib/postgresql/data from postgresdb (rw)\n",
      "  Volumes:\n",
      "   postgresdb:\n",
      "    Type:       PersistentVolumeClaim (a reference to a PersistentVolumeClaim in the same namespace)\n",
      "    ClaimName:  postgres-pv-claim\n",
      "    ReadOnly:   false\n",
      "Conditions:\n",
      "  Type           Status  Reason\n",
      "  ----           ------  ------\n",
      "  Available      True    MinimumReplicasAvailable\n",
      "  Progressing    True    NewReplicaSetAvailable\n",
      "OldReplicaSets:  <none>\n",
      "NewReplicaSet:   postgres-6d8577568d (1/1 replicas created)\n",
      "Events:\n",
      "  Type    Reason             Age    From                   Message\n",
      "  ----    ------             ----   ----                   -------\n",
      "  Normal  ScalingReplicaSet  4m14s  deployment-controller  Scaled up replica set postgres-6d8577568d to 1\n"
     ]
    }
   ],
   "source": [
    "!kubectl describe deployment postgres"
   ]
  },
  {
   "cell_type": "markdown",
   "metadata": {},
   "source": [
    "### Challenge"
   ]
  },
  {
   "cell_type": "code",
   "execution_count": 2,
   "metadata": {},
   "outputs": [
    {
     "name": "stdout",
     "output_type": "stream",
     "text": [
      "cG9zdGdyZXNkYg==\n",
      "YWRtaW4=\n",
      "cHNsdGVzdA==\n"
     ]
    }
   ],
   "source": [
    "!echo -n postgresdb | base64\n",
    "!echo  -n admin | base64\n",
    "!echo -n psltest | base64\n"
   ]
  },
  {
   "cell_type": "code",
   "execution_count": 14,
   "metadata": {},
   "outputs": [
    {
     "name": "stdout",
     "output_type": "stream",
     "text": [
      "Overwriting postgres-secret.yml\n"
     ]
    }
   ],
   "source": [
    "%%writefile postgres-secret.yml\n",
    "apiVersion: v1\n",
    "kind: Secret\n",
    "metadata:\n",
    "  name: postgres-secret\n",
    "type: Opaque\n",
    "data:\n",
    "  POSTGRES_USER: YWRtaW4=\n",
    "  POSTGRES_PASSWORD: cHNsdGVzdA=="
   ]
  },
  {
   "cell_type": "code",
   "execution_count": 15,
   "metadata": {},
   "outputs": [
    {
     "name": "stdout",
     "output_type": "stream",
     "text": [
      "Overwriting postgres-deployment.yml\n"
     ]
    }
   ],
   "source": [
    "%%writefile postgres-deployment.yml\n",
    "apiVersion: apps/v1\n",
    "kind: Deployment\n",
    "metadata:\n",
    "  name: postgres\n",
    "spec:\n",
    "  replicas: 1\n",
    "  selector:\n",
    "    matchLabels:\n",
    "      app: postgres\n",
    "  template:\n",
    "    metadata:\n",
    "      labels:\n",
    "        app: postgres\n",
    "    spec:\n",
    "      containers:\n",
    "        - name: postgres\n",
    "          image: postgres:10.1\n",
    "          imagePullPolicy: \"IfNotPresent\"\n",
    "          ports:\n",
    "            - containerPort: 5432\n",
    "          envFrom:\n",
    "            - configMapRef:\n",
    "                name: postgres-config\n",
    "          # Reference secrets from postgres-secret.yml\n",
    "          env:\n",
    "            - name: POSTGRES_USER\n",
    "              valueFrom:\n",
    "                secretKeyRef:\n",
    "                  name: postgres-secret\n",
    "                  key: POSTGRES_USER\n",
    "            - name:  POSTGRES_PASSWORD\n",
    "              valueFrom:\n",
    "                secretKeyRef:\n",
    "                  name: postgres-secret\n",
    "                  key: POSTGRES_PASSWORD\n",
    "          volumeMounts:\n",
    "            - name: postgresdb\n",
    "              mountPath: /var/lib/postgresql/data\n",
    "              # Mount the secrets as a volume\n",
    "            - name: postgres-secret-volume\n",
    "              mountPath: /etc/secrets\n",
    "              readOnly: true\n",
    "      volumes:\n",
    "        - name: postgresdb\n",
    "          persistentVolumeClaim:\n",
    "            claimName: postgres-pv-claim\n",
    "        - name: postgres-secret-volume\n",
    "          secret:\n",
    "            secretName: postgres-secret"
   ]
  },
  {
   "cell_type": "code",
   "execution_count": 16,
   "metadata": {},
   "outputs": [
    {
     "name": "stdout",
     "output_type": "stream",
     "text": [
      "service/postgres unchanged\n",
      "persistentvolume/postgres-pv-volume unchanged\n",
      "persistentvolumeclaim/postgres-pv-claim unchanged\n",
      "configmap/postgres-config configured\n",
      "secret/postgres-secret configured\n",
      "deployment.apps/postgres configured\n"
     ]
    }
   ],
   "source": [
    "%%bash\n",
    "# minikube start\n",
    "kubectl apply -f postgres-service.yml\n",
    "kubectl apply -f postgres-persistent.yml\n",
    "kubectl apply -f postgres-configmap.yml\n",
    "kubectl apply -f postgres-secret.yml\n",
    "kubectl apply -f postgres-deployment.yml"
   ]
  },
  {
   "cell_type": "code",
   "execution_count": 85,
   "metadata": {},
   "outputs": [
    {
     "name": "stdout",
     "output_type": "stream",
     "text": [
      "✅ Value for POSTGRES_DB is correct\n",
      "✅ Value for POSTGRES_PASSWORD is correct\n",
      "✅ Value for POSTGRES_USER is correct\n",
      "✅ Access Mode for Persistent Volume is correct\n",
      "✅ Capacity for Persistent Volume is correct\n",
      "✅ StorageClass for Persistent Volume is correct\n",
      "✅ Host Path for Persistent Volume is correct\n",
      "RWX\n",
      "✅ Access Mode for Persistent Volume Claim is correct\n",
      "✅ Capacity for Persistent Volume Claim is correct\n",
      "✅ StorageClass for Persistent Volume Claim is correct\n",
      "✅ Deployment ConfigMap setup is correct\n",
      "✅ Deployment Persistent Volume Claim setup is correct\n"
     ]
    }
   ],
   "source": [
    "import subprocess\n",
    "import yaml\n",
    "def run_checks(gh_actions_file: str):\n",
    "    with open(gh_actions_file) as f:\n",
    "        actions = yaml.safe_load(f)\n",
    "    steps = actions['jobs']['scavenger']['steps']\n",
    "    checks = [step for step in steps if 'Check ' in step['name']]\n",
    "    for check in checks:\n",
    "        subprocess.run(check[\"run\"], capture_output=False, shell=True, executable='/bin/bash')\n",
    "\n",
    "run_checks('/workspaces/intro-to-kube/.github/workflows/pesky-persistent-db.yml')"
   ]
  }
 ],
 "metadata": {
  "kernelspec": {
   "display_name": "Python 3",
   "language": "python",
   "name": "python3"
  },
  "language_info": {
   "codemirror_mode": {
    "name": "ipython",
    "version": 3
   },
   "file_extension": ".py",
   "mimetype": "text/x-python",
   "name": "python",
   "nbconvert_exporter": "python",
   "pygments_lexer": "ipython3",
   "version": "3.10.8"
  }
 },
 "nbformat": 4,
 "nbformat_minor": 2
}
