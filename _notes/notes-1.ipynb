{
 "cells": [
  {
   "cell_type": "markdown",
   "metadata": {},
   "source": [
    "# Secrets"
   ]
  },
  {
   "cell_type": "markdown",
   "metadata": {},
   "source": [
    "## Create"
   ]
  },
  {
   "cell_type": "markdown",
   "metadata": {},
   "source": [
    "### File (YAML)"
   ]
  },
  {
   "cell_type": "code",
   "execution_count": 18,
   "metadata": {},
   "outputs": [
    {
     "name": "stdout",
     "output_type": "stream",
     "text": [
      "YWdhaW4tdXBkYXRlZC1zdXBlcnNlY3JldAo=\n"
     ]
    }
   ],
   "source": [
    "!echo \"again-updated-supersecret\" | base64"
   ]
  },
  {
   "cell_type": "code",
   "execution_count": 21,
   "metadata": {},
   "outputs": [
    {
     "name": "stdout",
     "output_type": "stream",
     "text": [
      "Overwriting /tmp/secret.yaml\n"
     ]
    }
   ],
   "source": [
    "%%writefile /tmp/secret.yaml\n",
    "apiVersion: v1\n",
    "kind: Secret\n",
    "metadata:\n",
    "  name: my-secret\n",
    "type: Opaque\n",
    "data:\n",
    "  password: YWdhaW4tdXBkYXRlZC1zdXBlcnNlY3JldAo="
   ]
  },
  {
   "cell_type": "code",
   "execution_count": 22,
   "metadata": {},
   "outputs": [
    {
     "name": "stdout",
     "output_type": "stream",
     "text": [
      "secret/my-secret configured\n"
     ]
    }
   ],
   "source": [
    "# !kubectl create -f /tmp/secret.yaml\n",
    "!kubectl apply -f /tmp/secret.yaml"
   ]
  },
  {
   "cell_type": "markdown",
   "metadata": {},
   "source": [
    "### Inline"
   ]
  },
  {
   "cell_type": "code",
   "execution_count": 10,
   "metadata": {},
   "outputs": [
    {
     "name": "stdout",
     "output_type": "stream",
     "text": [
      "secret/my-new-secret created\n"
     ]
    }
   ],
   "source": [
    "!kubectl create secret generic my-new-secret --from-literal=password='supersecret'"
   ]
  },
  {
   "cell_type": "markdown",
   "metadata": {},
   "source": [
    "## Get"
   ]
  },
  {
   "cell_type": "markdown",
   "metadata": {},
   "source": [
    "|Command                               |Function                  |\n",
    "|:-------------------------------------|:-------------------------|\n",
    "| `kubectl get secrets`                | Get all secrets          |\n",
    "|`kubectl describe secret my-secret`   | Describe a secret        |\n",
    "|`kubectl delete secret my-secret`     | Delete a secret          |"
   ]
  },
  {
   "cell_type": "code",
   "execution_count": 11,
   "metadata": {},
   "outputs": [
    {
     "name": "stdout",
     "output_type": "stream",
     "text": [
      "NAME            TYPE     DATA   AGE\n",
      "my-new-secret   Opaque   1      1s\n",
      "my-secret       Opaque   1      2m18s\n"
     ]
    }
   ],
   "source": [
    "!kubectl get secrets"
   ]
  },
  {
   "cell_type": "code",
   "execution_count": 13,
   "metadata": {},
   "outputs": [
    {
     "name": "stdout",
     "output_type": "stream",
     "text": [
      "Name:         my-secret\n",
      "Namespace:    default\n",
      "Labels:       <none>\n",
      "Annotations:  <none>\n",
      "\n",
      "Type:  Opaque\n",
      "\n",
      "Data\n",
      "====\n",
      "password:  12 bytes\n"
     ]
    }
   ],
   "source": [
    "!kubectl describe secrets my-secret"
   ]
  },
  {
   "cell_type": "markdown",
   "metadata": {},
   "source": [
    "## Use"
   ]
  },
  {
   "cell_type": "markdown",
   "metadata": {},
   "source": [
    "### Mount as File\n",
    "\n",
    "```yaml\n",
    "spec:\n",
    "  containers:\n",
    "  - name: my-container\n",
    "    image: my-image\n",
    "    volumeMounts:\n",
    "    - name: secret-volume\n",
    "      mountPath: /etc/secret\n",
    "  volumes:\n",
    "  - name: secret-volume\n",
    "    secret:\n",
    "      secretName: my-secret\n",
    "```"
   ]
  },
  {
   "cell_type": "markdown",
   "metadata": {},
   "source": [
    "### Set Environment Variables\n",
    "\n",
    "```yaml\n",
    "spec:\n",
    "  containers:\n",
    "  - name: my-container\n",
    "    image: my-image\n",
    "    env:\n",
    "    - name: PASSWORD\n",
    "      valueFrom:\n",
    "        secretKeyRef:\n",
    "          name: my-secret\n",
    "          key: password\n",
    "```"
   ]
  }
 ],
 "metadata": {
  "kernelspec": {
   "display_name": "Python 3",
   "language": "python",
   "name": "python3"
  },
  "language_info": {
   "codemirror_mode": {
    "name": "ipython",
    "version": 3
   },
   "file_extension": ".py",
   "mimetype": "text/x-python",
   "name": "python",
   "nbconvert_exporter": "python",
   "pygments_lexer": "ipython3",
   "version": "3.10.8"
  }
 },
 "nbformat": 4,
 "nbformat_minor": 2
}
