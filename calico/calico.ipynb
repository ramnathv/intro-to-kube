{
 "cells": [
  {
   "cell_type": "markdown",
   "metadata": {},
   "source": [
    "# Calico"
   ]
  },
  {
   "cell_type": "markdown",
   "metadata": {},
   "source": [
    "## Setup Minikube"
   ]
  },
  {
   "cell_type": "code",
   "execution_count": 30,
   "metadata": {},
   "outputs": [],
   "source": [
    "import subprocess\n",
    "import yaml\n",
    "from typing import List\n",
    "def get_checks(gh_actions_file: str):\n",
    "    \"\"\"Get checks from a GitHub Actions file\"\"\"\n",
    "    with open(gh_actions_file) as f:\n",
    "        actions = yaml.safe_load(f)\n",
    "    steps = actions['jobs']['scavenger']['steps']\n",
    "    checks = [step for step in steps if 'Check ' in step['name']]\n",
    "    return checks\n",
    "\n",
    "def run_check(check):\n",
    "    # cmd = f\"cd /workspaces/intro-to-kube\\n{check['run']}\"\n",
    "    cmd = check['run']\n",
    "    subprocess.run(\n",
    "        cmd, \n",
    "        capture_output=False, \n",
    "        shell=True, \n",
    "        executable='/bin/bash',\n",
    "        cwd = '/workspaces/intro-to-kube'\n",
    "    )\n",
    "\n",
    "def run_checks(checks: List):\n",
    "    \"\"\"Run checks\"\"\"\n",
    "    for check in checks:\n",
    "        run_check(check)\n",
    "        \n",
    "checks = get_checks('/workspaces/intro-to-kube/.github/workflows/calico.yml')"
   ]
  },
  {
   "cell_type": "code",
   "execution_count": 31,
   "metadata": {},
   "outputs": [
    {
     "name": "stdout",
     "output_type": "stream",
     "text": [
      "😄  minikube v1.31.2 on Ubuntu 20.04 (docker/amd64)\n",
      "✨  Automatically selected the docker driver. Other choices: none, ssh\n",
      "❗  With --network-plugin=cni, you will need to provide your own CNI. See --cni flag as a user-friendly alternative\n",
      "📌  Using Docker driver with root privileges\n",
      "👍  Starting control plane node minikube in cluster minikube\n",
      "🚜  Pulling base image ...\n",
      "🔥  Creating docker container (CPUs=2, Memory=2200MB) ...\u001b[K\u001b[K\u001b[K\u001b[K\u001b[K\u001b[K\u001b[K\u001b[K\u001b[K\u001b[K\u001b[K\u001b[K\u001b[K\u001b[K\u001b[K\u001b[K\u001b[K\u001b[K\u001b[K\u001b[K\u001b[K\u001b[K\u001b[K\u001b[K\u001b[K\u001b[K\u001b[K\u001b[K\u001b[K\u001b[K\u001b[K\u001b[K\u001b[K\u001b[K\u001b[K\u001b[K\u001b[K\u001b[K\u001b[K\u001b[K\u001b[K\u001b[K\u001b[K\u001b[K\u001b[K\u001b[K\u001b[K\u001b[K\u001b[K\u001b[K\u001b[K\u001b[K\u001b[K\u001b[K\u001b[K\u001b[K\u001b[K\u001b[K\u001b[K\u001b[K\u001b[K\u001b[K\u001b[K\u001b[K\u001b[K\u001b[K\u001b[K\u001b[K\u001b[K\u001b[K\u001b[K\u001b[K\u001b[K\u001b[K\u001b[K\u001b[K\u001b[K\u001b[K\u001b[K\u001b[K\u001b[K\u001b[K\u001b[K\u001b[K\u001b[K\u001b[K\u001b[K\u001b[K\u001b[K\u001b[K\u001b[K\u001b[K\u001b[K\u001b[K\u001b[K\u001b[K\u001b[K\u001b[K\u001b[K\u001b[K\u001b[K\u001b[K\u001b[K\u001b[K\u001b[K\u001b[K\u001b[K\u001b[K\u001b[K\u001b[K\u001b[K\u001b[K\u001b[K\u001b[K\u001b[K\u001b[K\u001b[K\u001b[K\u001b[K\u001b[K\u001b[K\u001b[K\u001b[K\u001b[K\u001b[K\u001b[K\u001b[K\u001b[K\u001b[K\u001b[K\u001b[K\u001b[K\u001b[K\u001b[K\u001b[K\u001b[K\u001b[K\u001b[K\u001b[K\u001b[K\u001b[K\u001b[K\u001b[K\u001b[K\u001b[K\u001b[K\u001b[K\u001b[K\u001b[K\u001b[K\u001b[K\u001b[K\u001b[K\u001b[K\u001b[K\u001b[K\u001b[K\u001b[K\u001b[K\u001b[K\u001b[K\u001b[K\u001b[K\u001b[K\u001b[K\u001b[K\u001b[K\u001b[K\u001b[K\u001b[K\u001b[K\u001b[K\u001b[K\u001b[K\u001b[K\u001b[K\u001b[K\u001b[K\u001b[K\u001b[K\u001b[K\u001b[K\u001b[K\u001b[K\u001b[K\u001b[K\u001b[K\u001b[K\u001b[K\u001b[K\u001b[K\u001b[K\u001b[K\u001b[K\u001b[K\u001b[K\u001b[K\u001b[K\u001b[K\u001b[K\u001b[K\u001b[K\u001b[K\u001b[K\u001b[K\u001b[K\u001b[K\u001b[K\u001b[K\u001b[K\u001b[K\u001b[K\u001b[K\u001b[K\u001b[K\u001b[K\u001b[K\u001b[K\u001b[K\u001b[K\u001b[K\u001b[K\u001b[K\u001b[K\u001b[K\u001b[K\u001b[K\u001b[K\u001b[K\u001b[K\u001b[K\u001b[K\u001b[K\u001b[K\u001b[K\u001b[K\u001b[K\u001b[K\u001b[K\u001b[K\u001b[K\u001b[K\u001b[K\u001b[K\u001b[K\u001b[K\u001b[K\u001b[K\u001b[K\u001b[K\u001b[K\u001b[K\u001b[K\u001b[K\u001b[K\u001b[K\u001b[K\u001b[K\u001b[K\u001b[K\u001b[K\u001b[K\u001b[K\u001b[K\u001b[K\u001b[K\u001b[K\u001b[K\u001b[K\u001b[K\u001b[K\u001b[K\u001b[K\u001b[K\u001b[K\u001b[K\u001b[K\u001b[K\u001b[K\u001b[K\u001b[K\u001b[K\u001b[K\u001b[K\u001b[K\u001b[K\u001b[K\u001b[K\u001b[K\u001b[K\u001b[K\u001b[K\u001b[K\u001b[K\u001b[K\u001b[K\u001b[K\u001b[K\u001b[K\u001b[K\u001b[K\u001b[K\u001b[K\u001b[K\u001b[K\u001b[K\u001b[K\u001b[K\u001b[K\u001b[K\u001b[K\u001b[K\u001b[K\u001b[K\u001b[K\u001b[K\u001b[K\u001b[K\u001b[K\u001b[K\u001b[K\u001b[K\u001b[K\u001b[K\u001b[K\u001b[K\u001b[K\u001b[K\u001b[K\u001b[K\u001b[K\u001b[K\u001b[K\u001b[K\u001b[K\u001b[K\u001b[K\u001b[K\u001b[K\u001b[K\u001b[K\u001b[K\u001b[K\u001b[K\u001b[K\u001b[K\u001b[K\u001b[K\u001b[K\u001b[K\u001b[K\u001b[K\u001b[K\u001b[K\u001b[K\u001b[K\u001b[K\u001b[K\u001b[K\u001b[K\u001b[K\u001b[K\u001b[K\u001b[K\u001b[K\u001b[K\u001b[K\u001b[K\u001b[K\u001b[K\u001b[K\u001b[K\u001b[K\u001b[K\u001b[K\u001b[K\u001b[K\u001b[K\u001b[K\u001b[K\u001b[K\u001b[K\u001b[K\u001b[K\u001b[K\u001b[K\u001b[K\u001b[K\u001b[K\u001b[K\u001b[K\u001b[K\u001b[K\u001b[K\u001b[K\u001b[K\u001b[K\u001b[K\u001b[K\u001b[K\u001b[K\u001b[K\u001b[K\u001b[K\u001b[K\u001b[K\u001b[K\u001b[K\u001b[K\u001b[K\u001b[K\u001b[K\u001b[K\u001b[K\u001b[K\u001b[K\u001b[K\u001b[K\u001b[K\u001b[K\u001b[K\u001b[K\u001b[K\u001b[K\u001b[K\u001b[K\u001b[K\u001b[K\u001b[K\u001b[K\u001b[K\u001b[K\u001b[K\u001b[K\u001b[K\u001b[K\u001b[K\u001b[K\u001b[K\u001b[K\u001b[K\u001b[K\u001b[K\u001b[K\u001b[K\u001b[K\u001b[K\u001b[K\n",
      "🐳  Preparing Kubernetes v1.27.4 on Docker 24.0.4 ...\u001b[K\u001b[K\u001b[K\u001b[K\u001b[K\u001b[K\u001b[K\u001b[K\u001b[K\u001b[K\u001b[K\u001b[K\u001b[K\u001b[K\u001b[K\u001b[K\u001b[K\u001b[K\u001b[K\u001b[K\u001b[K\u001b[K\u001b[K\u001b[K\u001b[K\u001b[K\u001b[K\u001b[K\u001b[K\u001b[K\u001b[K\u001b[K\u001b[K\u001b[K\u001b[K\u001b[K\u001b[K\u001b[K\u001b[K\u001b[K\u001b[K\u001b[K\u001b[K\u001b[K\u001b[K\u001b[K\u001b[K\u001b[K\u001b[K\u001b[K\u001b[K\u001b[K\u001b[K\u001b[K\u001b[K\u001b[K\u001b[K\u001b[K\u001b[K\u001b[K\u001b[K\u001b[K\u001b[K\u001b[K\u001b[K\u001b[K\u001b[K\u001b[K\u001b[K\u001b[K\u001b[K\u001b[K\u001b[K\u001b[K\u001b[K\u001b[K\u001b[K\u001b[K\u001b[K\u001b[K\u001b[K\u001b[K\u001b[K\u001b[K\u001b[K\u001b[K\u001b[K\u001b[K\u001b[K\u001b[K\u001b[K\u001b[K\u001b[K\u001b[K\u001b[K\u001b[K\u001b[K\u001b[K\u001b[K\u001b[K\u001b[K\u001b[K\u001b[K\u001b[K\u001b[K\u001b[K\u001b[K\u001b[K\u001b[K\u001b[K\u001b[K\u001b[K\u001b[K\u001b[K\u001b[K\u001b[K\u001b[K\u001b[K\u001b[K\u001b[K\u001b[K\u001b[K\u001b[K\u001b[K\u001b[K\u001b[K\u001b[K\u001b[K\u001b[K\u001b[K\u001b[K\u001b[K\u001b[K\u001b[K\u001b[K\u001b[K\u001b[K\u001b[K\u001b[K\u001b[K\u001b[K\u001b[K\u001b[K\u001b[K\u001b[K\u001b[K\u001b[K\u001b[K\u001b[K\u001b[K\u001b[K\u001b[K\u001b[K\u001b[K\u001b[K\u001b[K\u001b[K\u001b[K\u001b[K\u001b[K\u001b[K\u001b[K\u001b[K\u001b[K\u001b[K\u001b[K\u001b[K\u001b[K\u001b[K\u001b[K\u001b[K\u001b[K\u001b[K\u001b[K\u001b[K\u001b[K\u001b[K\u001b[K\u001b[K\u001b[K\u001b[K\u001b[K\u001b[K\u001b[K\u001b[K\u001b[K\u001b[K\u001b[K\u001b[K\u001b[K\u001b[K\u001b[K\u001b[K\u001b[K\u001b[K\u001b[K\u001b[K\u001b[K\u001b[K\u001b[K\u001b[K\u001b[K\u001b[K\u001b[K\u001b[K\u001b[K\u001b[K\u001b[K\u001b[K\u001b[K\u001b[K\u001b[K\u001b[K\u001b[K\u001b[K\u001b[K\u001b[K\u001b[K\u001b[K\u001b[K\u001b[K\u001b[K\u001b[K\u001b[K\u001b[K\u001b[K\u001b[K\u001b[K\u001b[K\u001b[K\u001b[K\u001b[K\u001b[K\u001b[K\u001b[K\u001b[K\u001b[K\u001b[K\u001b[K\u001b[K\u001b[K\u001b[K\u001b[K\u001b[K\u001b[K\u001b[K\u001b[K\u001b[K\u001b[K\u001b[K\u001b[K\u001b[K\u001b[K\u001b[K\u001b[K\u001b[K\u001b[K\u001b[K\u001b[K\u001b[K\u001b[K\u001b[K\u001b[K\u001b[K\u001b[K\u001b[K\u001b[K\u001b[K\u001b[K\u001b[K\u001b[K\u001b[K\u001b[K\u001b[K\u001b[K\u001b[K\u001b[K\u001b[K\u001b[K\u001b[K\u001b[K\u001b[K\u001b[K\u001b[K\u001b[K\u001b[K\u001b[K\u001b[K\u001b[K\u001b[K\u001b[K\u001b[K\u001b[K\u001b[K\u001b[K\u001b[K\u001b[K\u001b[K\u001b[K\u001b[K\u001b[K\u001b[K\u001b[K\u001b[K\u001b[K\u001b[K\u001b[K\u001b[K\u001b[K\u001b[K\u001b[K\u001b[K\u001b[K\u001b[K\u001b[K\u001b[K\u001b[K\u001b[K\u001b[K\u001b[K\u001b[K\u001b[K\u001b[K\u001b[K\u001b[K\u001b[K\u001b[K\u001b[K\u001b[K\u001b[K\u001b[K\u001b[K\u001b[K\u001b[K\u001b[K\u001b[K\u001b[K\u001b[K\u001b[K\u001b[K\u001b[K\u001b[K\u001b[K\u001b[K\n",
      "    ▪ Generating certificates and keys ...\n",
      "    ▪ Booting up control plane ...\n",
      "    ▪ Configuring RBAC rules ...\u001b[K\u001b[K\n",
      "🔗  Configuring Calico (Container Networking Interface) ...\n",
      "    ▪ Using image gcr.io/k8s-minikube/storage-provisioner:v5\n",
      "🔎  Verifying Kubernetes components...\n",
      "🌟  Enabled addons: storage-provisioner, default-storageclass\n",
      "🏄  Done! kubectl is now configured to use \"minikube\" cluster and \"default\" namespace by default\n"
     ]
    }
   ],
   "source": [
    "!minikube start --network-plugin=cni --cni=calico"
   ]
  },
  {
   "cell_type": "markdown",
   "metadata": {},
   "source": [
    "## Create Pods"
   ]
  },
  {
   "cell_type": "code",
   "execution_count": 32,
   "metadata": {},
   "outputs": [
    {
     "name": "stdout",
     "output_type": "stream",
     "text": [
      "namespace/namespace-a created\n",
      "Context \"minikube\" modified.\n",
      "pod/nginx created\n",
      "namespace/namespace-b created\n",
      "Context \"minikube\" modified.\n",
      "pod/nginx created\n",
      "namespace/namespace-c created\n",
      "Context \"minikube\" modified.\n",
      "pod/postgres created\n"
     ]
    }
   ],
   "source": [
    "%%bash\n",
    "# Add sleep to wait for minikube to start\n",
    "sleep 5\n",
    "\n",
    "# Create nginx pod in namespace a\n",
    "kubectl create ns namespace-a\n",
    "kubectl config set-context --current --namespace=namespace-a\n",
    "kubectl create -f ./k8s/nginx-pod.yml --namespace=namespace-a\n",
    "\n",
    "# Create nginx pod in namespace b\n",
    "kubectl create ns namespace-b\n",
    "kubectl config set-context --current --namespace=namespace-b\n",
    "kubectl create -f ./k8s/nginx-pod.yml --namespace=namespace-b\n",
    "\n",
    "# Create some postgres pod inside namespace c\n",
    "kubectl create ns namespace-c\n",
    "kubectl config set-context --current --namespace=namespace-c\n",
    "kubectl create -f ./k8s/postgres-pod.yml --namespace=namespace-c"
   ]
  },
  {
   "cell_type": "markdown",
   "metadata": {},
   "source": [
    "Let us wait till all pods are running"
   ]
  },
  {
   "cell_type": "code",
   "execution_count": 60,
   "metadata": {},
   "outputs": [],
   "source": [
    "%%bash\n",
    "\n",
    "# Define the list of pod names and namespaces to check\n",
    "pod_names=(\"nginx\" \"nginx\" \"postgres\")\n",
    "namespaces=(\"namespace-a\" \"namespace-b\" \"namespace-c\")\n",
    "\n",
    "# Loop until all pods are running\n",
    "while true; do\n",
    "  # Check if all pods are running\n",
    "  all_running=true\n",
    "  for i in \"${!pod_names[@]}\"; do\n",
    "    if ! kubectl get pod \"${pod_names[$i]}\" -n \"${namespaces[$i]}\" -o jsonpath='{.status.phase}' | grep -q \"Running\"; then\n",
    "      all_running=false\n",
    "      break\n",
    "    fi\n",
    "  done\n",
    "\n",
    "  # If all pods are running, exit the loop\n",
    "  if \"$all_running\"; then\n",
    "    break\n",
    "  fi\n",
    "\n",
    "  # Wait for a few seconds before checking again\n",
    "  sleep 5\n",
    "done"
   ]
  },
  {
   "cell_type": "code",
   "execution_count": 61,
   "metadata": {},
   "outputs": [
    {
     "name": "stdout",
     "output_type": "stream",
     "text": [
      "NAMESPACE     NAME                                       READY   STATUS    RESTARTS      AGE     IP              NODE       NOMINATED NODE   READINESS GATES\n",
      "kube-system   calico-kube-controllers-85578c44bf-rsftw   1/1     Running   1 (13m ago)   14m     10.244.120.66   minikube   <none>           <none>\n",
      "kube-system   calico-node-9gcq2                          1/1     Running   0             14m     192.168.49.2    minikube   <none>           <none>\n",
      "kube-system   coredns-5d78c9869d-5dzx7                   1/1     Running   1 (13m ago)   14m     10.244.120.65   minikube   <none>           <none>\n",
      "kube-system   etcd-minikube                              1/1     Running   0             14m     192.168.49.2    minikube   <none>           <none>\n",
      "kube-system   kube-apiserver-minikube                    1/1     Running   0             14m     192.168.49.2    minikube   <none>           <none>\n",
      "kube-system   kube-controller-manager-minikube           1/1     Running   0             14m     192.168.49.2    minikube   <none>           <none>\n",
      "kube-system   kube-proxy-wmwpx                           1/1     Running   0             14m     192.168.49.2    minikube   <none>           <none>\n",
      "kube-system   kube-scheduler-minikube                    1/1     Running   0             14m     192.168.49.2    minikube   <none>           <none>\n",
      "kube-system   storage-provisioner                        1/1     Running   1 (13m ago)   14m     192.168.49.2    minikube   <none>           <none>\n",
      "namespace-a   nginx                                      1/1     Running   0             8s      10.244.120.71   minikube   <none>           <none>\n",
      "namespace-b   nginx                                      1/1     Running   0             13m     10.244.120.68   minikube   <none>           <none>\n",
      "namespace-c   postgres                                   1/1     Running   0             7m47s   10.244.120.70   minikube   <none>           <none>\n"
     ]
    }
   ],
   "source": [
    "!kubectl get pods -o wide -A"
   ]
  },
  {
   "cell_type": "code",
   "execution_count": 52,
   "metadata": {},
   "outputs": [
    {
     "name": "stdout",
     "output_type": "stream",
     "text": [
      "Get:1 http://deb.debian.org/debian bookworm InRelease [151 kB]\n",
      "Get:2 http://deb.debian.org/debian bookworm-updates InRelease [52.1 kB]        \n",
      "Get:3 http://deb.debian.org/debian-security bookworm-security InRelease [48.0 kB]\n",
      "Get:4 http://deb.debian.org/debian bookworm/main amd64 Packages [8,780 kB]     \n",
      "Get:5 http://apt.postgresql.org/pub/repos/apt bookworm-pgdg InRelease [123 kB]\n",
      "Get:6 http://deb.debian.org/debian bookworm-updates/main amd64 Packages [6,408 B]\n",
      "Get:7 http://deb.debian.org/debian-security bookworm-security/main amd64 Packages [79.7 kB]\n",
      "Get:8 http://apt.postgresql.org/pub/repos/apt bookworm-pgdg/main amd64 Packages [296 kB]\n",
      "Fetched 9,536 kB in 1s (6,737 kB/s)                       \n",
      "Reading package lists... Done\n",
      "Reading package lists... Done\n",
      "Building dependency tree... Done\n",
      "Reading state information... Done\n",
      "The following additional packages will be installed:\n",
      "  ca-certificates libbrotli1 libcurl4 libnghttp2-14 libpsl5 librtmp1 libssh2-1\n",
      "  publicsuffix\n",
      "The following NEW packages will be installed:\n",
      "  ca-certificates curl libbrotli1 libcurl4 libnghttp2-14 libpsl5 librtmp1\n",
      "  libssh2-1 publicsuffix\n",
      "0 upgraded, 9 newly installed, 0 to remove and 0 not upgraded.\n",
      "Need to get 1,630 kB of archives.\n",
      "After this operation, 3,740 kB of additional disk space will be used.\n",
      "Get:1 http://deb.debian.org/debian bookworm/main amd64 ca-certificates all 20230311 [153 kB]\n",
      "Get:2 http://deb.debian.org/debian bookworm/main amd64 libbrotli1 amd64 1.0.9-2+b6 [275 kB]\n",
      "Get:3 http://deb.debian.org/debian bookworm/main amd64 libnghttp2-14 amd64 1.52.0-1 [72.3 kB]\n",
      "Get:4 http://deb.debian.org/debian bookworm/main amd64 libpsl5 amd64 0.21.2-1 [58.7 kB]\n",
      "Get:5 http://deb.debian.org/debian bookworm/main amd64 librtmp1 amd64 2.4+20151223.gitfa8646d.1-2+b2 [60.8 kB]\n",
      "Get:6 http://deb.debian.org/debian bookworm/main amd64 libssh2-1 amd64 1.10.0-3+b1 [179 kB]\n",
      "Get:7 http://deb.debian.org/debian-security bookworm-security/main amd64 libcurl4 amd64 7.88.1-10+deb12u4 [390 kB]\n",
      "Get:8 http://deb.debian.org/debian-security bookworm-security/main amd64 curl amd64 7.88.1-10+deb12u4 [315 kB]\n",
      "Get:9 http://deb.debian.org/debian bookworm/main amd64 publicsuffix all 20230209.2326-1 [126 kB]\n",
      "Fetched 1,630 kB in 0s (28.0 MB/s)\n",
      "debconf: delaying package configuration, since apt-utils is not installed\n",
      "Selecting previously unselected package ca-certificates.\n",
      "(Reading database ... 12085 files and directories currently installed.)\n",
      "Preparing to unpack .../0-ca-certificates_20230311_all.deb ...\n",
      "Unpacking ca-certificates (20230311) ...\n",
      "Selecting previously unselected package libbrotli1:amd64.\n",
      "Preparing to unpack .../1-libbrotli1_1.0.9-2+b6_amd64.deb ...\n",
      "Unpacking libbrotli1:amd64 (1.0.9-2+b6) ...\n",
      "Selecting previously unselected package libnghttp2-14:amd64.\n",
      "Preparing to unpack .../2-libnghttp2-14_1.52.0-1_amd64.deb ...\n",
      "Unpacking libnghttp2-14:amd64 (1.52.0-1) ...\n",
      "Selecting previously unselected package libpsl5:amd64.\n",
      "Preparing to unpack .../3-libpsl5_0.21.2-1_amd64.deb ...\n",
      "Unpacking libpsl5:amd64 (0.21.2-1) ...\n",
      "Selecting previously unselected package librtmp1:amd64.\n",
      "Preparing to unpack .../4-librtmp1_2.4+20151223.gitfa8646d.1-2+b2_amd64.deb ...\n",
      "Unpacking librtmp1:amd64 (2.4+20151223.gitfa8646d.1-2+b2) ...\n",
      "Selecting previously unselected package libssh2-1:amd64.\n",
      "Preparing to unpack .../5-libssh2-1_1.10.0-3+b1_amd64.deb ...\n",
      "Unpacking libssh2-1:amd64 (1.10.0-3+b1) ...\n",
      "Selecting previously unselected package libcurl4:amd64.\n",
      "Preparing to unpack .../6-libcurl4_7.88.1-10+deb12u4_amd64.deb ...\n",
      "Unpacking libcurl4:amd64 (7.88.1-10+deb12u4) ...\n",
      "Selecting previously unselected package curl.\n",
      "Preparing to unpack .../7-curl_7.88.1-10+deb12u4_amd64.deb ...\n",
      "Unpacking curl (7.88.1-10+deb12u4) ...\n",
      "Selecting previously unselected package publicsuffix.\n",
      "Preparing to unpack .../8-publicsuffix_20230209.2326-1_all.deb ...\n",
      "Unpacking publicsuffix (20230209.2326-1) ...\n",
      "Setting up libpsl5:amd64 (0.21.2-1) ...\n",
      "Setting up libbrotli1:amd64 (1.0.9-2+b6) ...\n",
      "Setting up libnghttp2-14:amd64 (1.52.0-1) ...\n",
      "Setting up ca-certificates (20230311) ...\n",
      "debconf: unable to initialize frontend: Dialog\n",
      "debconf: (No usable dialog-like program is installed, so the dialog based frontend cannot be used. at /usr/share/perl5/Debconf/FrontEnd/Dialog.pm line 78.)\n",
      "debconf: falling back to frontend: Readline\n",
      "Updating certificates in /etc/ssl/certs...\n",
      "140 added, 0 removed; done.\n",
      "Setting up librtmp1:amd64 (2.4+20151223.gitfa8646d.1-2+b2) ...\n",
      "Setting up libssh2-1:amd64 (1.10.0-3+b1) ...\n",
      "Setting up publicsuffix (20230209.2326-1) ...\n",
      "Setting up libcurl4:amd64 (7.88.1-10+deb12u4) ...\n",
      "Setting up curl (7.88.1-10+deb12u4) ...\n",
      "Processing triggers for libc-bin (2.36-9+deb12u3) ...\n",
      "Processing triggers for ca-certificates (20230311) ...\n",
      "Updating certificates in /etc/ssl/certs...\n",
      "0 added, 0 removed; done.\n",
      "Running hooks in /etc/ca-certificates/update.d...\n",
      "done.\n"
     ]
    }
   ],
   "source": [
    "# Install curl in postgres pod\n",
    "!kubectl exec -it postgres -n namespace-c -- su -c \"apt-get -y update && apt-get -y install curl\" root 2>/dev/null"
   ]
  },
  {
   "cell_type": "code",
   "execution_count": 53,
   "metadata": {},
   "outputs": [
    {
     "name": "stdout",
     "output_type": "stream",
     "text": [
      "curl 7.88.1 (x86_64-pc-linux-gnu) libcurl/7.88.1 OpenSSL/3.0.11 zlib/1.2.13 brotli/1.0.9 zstd/1.5.4 libidn2/2.3.3 libpsl/0.21.2 (+libidn2/2.3.3) libssh2/1.10.0 nghttp2/1.52.0 librtmp/2.3 OpenLDAP/2.5.13\n",
      "Release-Date: 2023-02-20\n",
      "Protocols: dict file ftp ftps gopher gophers http https imap imaps ldap ldaps mqtt pop3 pop3s rtmp rtsp scp sftp smb smbs smtp smtps telnet tftp\n",
      "Features: alt-svc AsynchDNS brotli GSS-API HSTS HTTP2 HTTPS-proxy IDN IPv6 Kerberos Largefile libz NTLM NTLM_WB PSL SPNEGO SSL threadsafe TLS-SRP UnixSockets zstd\n"
     ]
    }
   ],
   "source": [
    "# Check curl version in postgres pod\n",
    "!kubectl exec -it postgres -n namespace-c -- sh -c \"curl --version\" 2>/dev/null"
   ]
  },
  {
   "cell_type": "markdown",
   "metadata": {},
   "source": [
    "## Set Networking Policies\n",
    "\n",
    "![networking](https://uplimit.com/_next/image?url=https%3A%2F%2Fuplimit-ugc.com%2Fstatic%2Fcourse%2Fkubernetes-managing-containers-at-scale%2Fassets%2Fclm9w6ld001hk12ad3lx6dequ%2Fdiagram.png&w=750&q=75)"
   ]
  },
  {
   "cell_type": "markdown",
   "metadata": {},
   "source": [
    "### Namespace A"
   ]
  },
  {
   "cell_type": "code",
   "execution_count": 62,
   "metadata": {},
   "outputs": [
    {
     "name": "stdout",
     "output_type": "stream",
     "text": [
      "Overwriting network-policy-namespace-a.yml\n"
     ]
    }
   ],
   "source": [
    "%%writefile network-policy-namespace-a.yml\n",
    "apiVersion: networking.k8s.io/v1\n",
    "kind: NetworkPolicy\n",
    "metadata:\n",
    "  name: network-policy-for-namespace-a\n",
    "  namespace: namespace-a\n",
    "spec:\n",
    "  policyTypes: [Egress]\n",
    "  egress:\n",
    "  - to:\n",
    "    - namespaceSelector:\n",
    "        matchLabels:\n",
    "          name: namespace-c"
   ]
  },
  {
   "cell_type": "code",
   "execution_count": 63,
   "metadata": {},
   "outputs": [
    {
     "name": "stdout",
     "output_type": "stream",
     "text": [
      "networkpolicy.networking.k8s.io/network-policy-for-namespace-a unchanged\n",
      "Name:         network-policy-for-namespace-a\n",
      "Namespace:    namespace-a\n",
      "Created on:   2023-10-14 12:51:23 +0000 UTC\n",
      "Labels:       <none>\n",
      "Annotations:  <none>\n",
      "Spec:\n",
      "  PodSelector:     <none> (Allowing the specific traffic to all pods in this namespace)\n",
      "  Not affecting ingress traffic\n",
      "  Allowing egress traffic:\n",
      "    To Port: <any> (traffic allowed to all ports)\n",
      "    To:\n",
      "      NamespaceSelector: name=namespace-c\n",
      "  Policy Types: Egress\n"
     ]
    }
   ],
   "source": [
    "%%bash\n",
    "kubectl apply -f network-policy-namespace-a.yml\n",
    "kubectl describe networkpolicy network-policy-for-namespace-a -n namespace-a"
   ]
  },
  {
   "cell_type": "code",
   "execution_count": null,
   "metadata": {},
   "outputs": [],
   "source": [
    "%%bash\n",
    "\n",
    "kubectl apply -f network-policy-namespace-a.yml\n",
    "sleep 5\n",
    "\n",
    "POD_B_PORT=80\n",
    "POD_C_PORT=5432\n",
    "POD_B_IP=`kubectl get pod --all_namespaces -o wide | grep namespace-b | grep -E -o  '([0-9]{1,3}\\.){3}[0-9]{1,3}'`\n",
    "POD_C_IP=`kubectl get pod --all_namespaces -o wide | grep namespace-c | grep -E -o  '([0-9]{1,3}\\.){3}[0-9]{1,3}'`\n",
    "\n",
    "# CONNECT_TO_B=`kubectl exec nginx -n namespace-a -- timeout 5s curl $POD_B_IP:$POD_B_PORT &>/dev/null; echo $?`\n",
    "# if [ \"$CONNECT_TO_B\" == \"0\" ]; then\n",
    "# echo \"✅ Can ping pods in namespace-b\"\n",
    "# else\n",
    "# echo \"❌ Cannot ping pods in namespace-b\"\n",
    "# fi\n",
    "\n",
    "C_CONNECT_OUTPUT=`kubectl exec nginx -n namespace-a -- apt-get update && sudo apt-get install curl -y && timeout 5s curl $POD_C_IP:$POD_C_PORT &>/dev/null; echo $?`\n",
    "CONNECT_TO_C=`echo $C_CONNECT_OUTPUT | grep -oE '\\w+$'`\n",
    "if [ \"$CONNECT_TO_C\" == \"52\" ]; then\n",
    "echo \"✅ Can ping pods in namespace-c\"\n",
    "else\n",
    "echo \"❌ Cannot ping pods in namespace-c\"\n",
    "fi"
   ]
  },
  {
   "cell_type": "markdown",
   "metadata": {},
   "source": [
    "### Namespace B"
   ]
  },
  {
   "cell_type": "code",
   "execution_count": 27,
   "metadata": {},
   "outputs": [
    {
     "name": "stdout",
     "output_type": "stream",
     "text": [
      "Overwriting network-policy-namespace-b.yml\n"
     ]
    }
   ],
   "source": [
    "%%writefile network-policy-namespace-b.yml\n",
    "apiVersion: networking.k8s.io/v1\n",
    "kind: NetworkPolicy\n",
    "metadata:\n",
    "  name: network-policy-for-namespace-b\n",
    "  namespace: namespace-b\n",
    "spec:\n",
    "  policyTypes: [Ingress, Egress]\n",
    "  ingress:\n",
    "  - from:\n",
    "    - namespaceSelector:\n",
    "        matchLabels:\n",
    "          name: namespace-a\n",
    "  egress:\n",
    "  - to:\n",
    "    - namespaceSelector:\n",
    "        matchLabels:\n",
    "          name: namespace-a"
   ]
  },
  {
   "cell_type": "markdown",
   "metadata": {},
   "source": [
    "### Namespace C"
   ]
  },
  {
   "cell_type": "code",
   "execution_count": 216,
   "metadata": {},
   "outputs": [
    {
     "name": "stdout",
     "output_type": "stream",
     "text": [
      "Overwriting network-policy-namespace-c.yml\n"
     ]
    }
   ],
   "source": [
    "%%writefile network-policy-namespace-c.yml\n",
    "apiVersion: networking.k8s.io/v1\n",
    "kind: NetworkPolicy\n",
    "metadata:\n",
    "  name: network-policy-for-namespace-c\n",
    "  namespace: namespace-c\n",
    "spec:\n",
    "  podSelector:\n",
    "    matchLabels:\n",
    "      name: postgres\n",
    "  ingress:\n",
    "    - from: \n",
    "      - namespaceSelector:\n",
    "          matchLabels:\n",
    "            kubernetes.io/metadata.name: namespace-a\n",
    "        podSelector:\n",
    "          matchLabels:\n",
    "            name: nginx"
   ]
  },
  {
   "cell_type": "code",
   "execution_count": 221,
   "metadata": {},
   "outputs": [
    {
     "name": "stdout",
     "output_type": "stream",
     "text": [
      "networkpolicy.networking.k8s.io/network-policy-for-namespace-c configured\n"
     ]
    }
   ],
   "source": [
    "!kubectl apply -f network-policy-namespace-c.yml"
   ]
  },
  {
   "cell_type": "code",
   "execution_count": null,
   "metadata": {},
   "outputs": [],
   "source": [
    "%%bash\n",
    "kubectl config use-context minikube\n",
    "POD_PORT=80\n",
    "POD_A_IP=`kubectl get pod --all_namespaces -o wide | grep namespace-a | grep -E -o  '([0-9]{1,3}\\.){3}[0-9]{1,3}'`\n",
    "POD_B_IP=`kubectl get pod --all_namespaces -o wide | grep namespace-b | grep -E -o  '([0-9]{1,3}\\.){3}[0-9]{1,3}'`\n",
    "\n",
    "CONNECT_TO_A=`kubectl exec postgres -n namespace-c -- timeout 5s curl $POD_A_IP:$POD_PORT &>/dev/null; echo $?`\n",
    "if [ \"$CONNECT_TO_A\" != \"0\" ]; then\n",
    "echo \"✅ Cannot ping pods in namespace-a\"\n",
    "else\n",
    "echo \"❌ Can ping pods in namespace-a\"\n",
    "fi\n",
    "\n",
    "CONNECT_TO_B=`kubectl exec postgres -n namespace-c -- timeout 5s curl $POD_B_IP:$POD_PORT &>/dev/null; echo $?`\n",
    "if [ \"$CONNECT_TO_B\" != \"0\" ]; then\n",
    "echo \"✅ Cannot ping pods in namespace-b\"\n",
    "else\n",
    "echo \"❌ Can ping pods in namespace-b\"\n",
    "fi"
   ]
  },
  {
   "cell_type": "markdown",
   "metadata": {},
   "source": [
    "## Teardown"
   ]
  },
  {
   "cell_type": "code",
   "execution_count": 65,
   "metadata": {},
   "outputs": [
    {
     "name": "stdout",
     "output_type": "stream",
     "text": [
      "✋  Stopping node \"minikube\"  ...\n",
      "🛑  Powering off \"minikube\" via SSH ...\n",
      "🛑  1 node stopped.\n",
      "🔥  Deleting \"minikube\" in docker ...\n",
      "🔥  Deleting container \"minikube\" ...\n",
      "🔥  Removing /home/codespace/.minikube/machines/minikube ...\n",
      "💀  Removed all traces of the \"minikube\" cluster.\n"
     ]
    }
   ],
   "source": [
    "!minikube stop\n",
    "!minikube delete"
   ]
  }
 ],
 "metadata": {
  "kernelspec": {
   "display_name": "Python 3",
   "language": "python",
   "name": "python3"
  },
  "language_info": {
   "codemirror_mode": {
    "name": "ipython",
    "version": 3
   },
   "file_extension": ".py",
   "mimetype": "text/x-python",
   "name": "python",
   "nbconvert_exporter": "python",
   "pygments_lexer": "ipython3",
   "version": "3.10.8"
  }
 },
 "nbformat": 4,
 "nbformat_minor": 2
}
