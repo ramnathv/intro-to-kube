{
 "cells": [
  {
   "cell_type": "markdown",
   "metadata": {},
   "source": [
    "# Calico"
   ]
  },
  {
   "cell_type": "markdown",
   "metadata": {},
   "source": [
    "## Setup Minikube"
   ]
  },
  {
   "cell_type": "code",
   "execution_count": 171,
   "metadata": {},
   "outputs": [],
   "source": [
    "import subprocess\n",
    "import yaml\n",
    "from typing import List\n",
    "def get_checks(gh_actions_file: str):\n",
    "    \"\"\"Get checks from a GitHub Actions file\"\"\"\n",
    "    with open(gh_actions_file) as f:\n",
    "        actions = yaml.safe_load(f)\n",
    "    steps = actions['jobs']['scavenger']['steps']\n",
    "    checks = [step for step in steps if 'Check ' in step['name']]\n",
    "    return checks\n",
    "\n",
    "def run_check(check):\n",
    "    # cmd = f\"cd /workspaces/intro-to-kube\\n{check['run']}\"\n",
    "    cmd = check['run']\n",
    "    subprocess.run(\n",
    "        cmd, \n",
    "        capture_output=False, \n",
    "        shell=True, \n",
    "        executable='/bin/bash',\n",
    "        cwd = '/workspaces/intro-to-kube'\n",
    "    )\n",
    "\n",
    "def run_checks(checks: List):\n",
    "    \"\"\"Run checks\"\"\"\n",
    "    for check in checks:\n",
    "        run_check(check)\n",
    "        \n",
    "checks = get_checks('/workspaces/intro-to-kube/.github/workflows/calico.yml')"
   ]
  },
  {
   "cell_type": "code",
   "execution_count": 172,
   "metadata": {},
   "outputs": [
    {
     "name": "stdout",
     "output_type": "stream",
     "text": [
      "😄  minikube v1.31.2 on Ubuntu 20.04 (docker/amd64)\n",
      "✨  Automatically selected the docker driver. Other choices: none, ssh\n",
      "❗  With --network-plugin=cni, you will need to provide your own CNI. See --cni flag as a user-friendly alternative\n",
      "📌  Using Docker driver with root privileges\n",
      "👍  Starting control plane node minikube in cluster minikube\n",
      "🚜  Pulling base image ...\n",
      "🔥  Creating docker container (CPUs=2, Memory=2200MB) ...\u001b[K\u001b[K\u001b[K\u001b[K\u001b[K\u001b[K\u001b[K\u001b[K\u001b[K\u001b[K\u001b[K\u001b[K\u001b[K\u001b[K\u001b[K\u001b[K\u001b[K\u001b[K\u001b[K\u001b[K\u001b[K\u001b[K\u001b[K\u001b[K\u001b[K\u001b[K\u001b[K\u001b[K\u001b[K\u001b[K\u001b[K\u001b[K\u001b[K\u001b[K\u001b[K\u001b[K\u001b[K\u001b[K\u001b[K\u001b[K\u001b[K\u001b[K\u001b[K\u001b[K\u001b[K\u001b[K\u001b[K\u001b[K\u001b[K\u001b[K\u001b[K\u001b[K\u001b[K\u001b[K\u001b[K\u001b[K\u001b[K\u001b[K\u001b[K\u001b[K\u001b[K\u001b[K\u001b[K\u001b[K\u001b[K\u001b[K\u001b[K\u001b[K\u001b[K\u001b[K\u001b[K\u001b[K\u001b[K\u001b[K\u001b[K\u001b[K\u001b[K\u001b[K\u001b[K\u001b[K\u001b[K\u001b[K\u001b[K\u001b[K\u001b[K\u001b[K\u001b[K\u001b[K\u001b[K\u001b[K\u001b[K\u001b[K\u001b[K\u001b[K\u001b[K\u001b[K\u001b[K\u001b[K\u001b[K\u001b[K\u001b[K\u001b[K\u001b[K\u001b[K\u001b[K\u001b[K\u001b[K\u001b[K\u001b[K\u001b[K\u001b[K\u001b[K\u001b[K\u001b[K\u001b[K\u001b[K\u001b[K\u001b[K\u001b[K\u001b[K\u001b[K\u001b[K\u001b[K\u001b[K\u001b[K\u001b[K\u001b[K\u001b[K\u001b[K\u001b[K\u001b[K\u001b[K\u001b[K\u001b[K\u001b[K\u001b[K\u001b[K\u001b[K\u001b[K\u001b[K\u001b[K\u001b[K\u001b[K\u001b[K\u001b[K\u001b[K\u001b[K\u001b[K\u001b[K\u001b[K\u001b[K\u001b[K\u001b[K\u001b[K\u001b[K\u001b[K\u001b[K\u001b[K\u001b[K\u001b[K\u001b[K\u001b[K\u001b[K\u001b[K\u001b[K\u001b[K\u001b[K\u001b[K\u001b[K\u001b[K\u001b[K\u001b[K\u001b[K\u001b[K\u001b[K\u001b[K\u001b[K\u001b[K\u001b[K\u001b[K\u001b[K\u001b[K\u001b[K\u001b[K\u001b[K\u001b[K\u001b[K\u001b[K\u001b[K\u001b[K\u001b[K\u001b[K\u001b[K\u001b[K\u001b[K\u001b[K\u001b[K\u001b[K\u001b[K\u001b[K\u001b[K\u001b[K\u001b[K\u001b[K\u001b[K\u001b[K\u001b[K\u001b[K\u001b[K\u001b[K\u001b[K\u001b[K\u001b[K\u001b[K\u001b[K\u001b[K\u001b[K\u001b[K\u001b[K\u001b[K\u001b[K\u001b[K\u001b[K\u001b[K\u001b[K\u001b[K\u001b[K\u001b[K\u001b[K\u001b[K\u001b[K\u001b[K\u001b[K\u001b[K\u001b[K\u001b[K\u001b[K\u001b[K\u001b[K\u001b[K\u001b[K\u001b[K\u001b[K\u001b[K\u001b[K\u001b[K\u001b[K\u001b[K\u001b[K\u001b[K\u001b[K\u001b[K\u001b[K\u001b[K\u001b[K\u001b[K\u001b[K\u001b[K\u001b[K\u001b[K\u001b[K\u001b[K\u001b[K\u001b[K\u001b[K\u001b[K\u001b[K\u001b[K\u001b[K\u001b[K\u001b[K\u001b[K\u001b[K\u001b[K\u001b[K\u001b[K\u001b[K\u001b[K\u001b[K\u001b[K\u001b[K\u001b[K\u001b[K\u001b[K\u001b[K\u001b[K\u001b[K\u001b[K\u001b[K\u001b[K\u001b[K\u001b[K\u001b[K\u001b[K\u001b[K\u001b[K\u001b[K\u001b[K\u001b[K\u001b[K\u001b[K\u001b[K\u001b[K\u001b[K\u001b[K\u001b[K\u001b[K\u001b[K\u001b[K\u001b[K\u001b[K\u001b[K\u001b[K\u001b[K\u001b[K\u001b[K\u001b[K\u001b[K\u001b[K\u001b[K\u001b[K\u001b[K\u001b[K\u001b[K\u001b[K\u001b[K\u001b[K\u001b[K\u001b[K\u001b[K\u001b[K\u001b[K\u001b[K\u001b[K\u001b[K\u001b[K\u001b[K\u001b[K\u001b[K\u001b[K\u001b[K\u001b[K\u001b[K\u001b[K\u001b[K\u001b[K\u001b[K\u001b[K\u001b[K\u001b[K\u001b[K\u001b[K\u001b[K\u001b[K\u001b[K\u001b[K\u001b[K\u001b[K\u001b[K\u001b[K\u001b[K\u001b[K\u001b[K\u001b[K\u001b[K\u001b[K\u001b[K\u001b[K\u001b[K\u001b[K\u001b[K\u001b[K\u001b[K\u001b[K\u001b[K\u001b[K\u001b[K\u001b[K\u001b[K\u001b[K\u001b[K\u001b[K\u001b[K\u001b[K\u001b[K\u001b[K\u001b[K\u001b[K\u001b[K\u001b[K\u001b[K\u001b[K\u001b[K\u001b[K\u001b[K\u001b[K\u001b[K\u001b[K\u001b[K\u001b[K\u001b[K\u001b[K\u001b[K\u001b[K\u001b[K\u001b[K\u001b[K\u001b[K\u001b[K\u001b[K\u001b[K\u001b[K\u001b[K\u001b[K\u001b[K\u001b[K\u001b[K\u001b[K\u001b[K\u001b[K\u001b[K\u001b[K\u001b[K\u001b[K\u001b[K\u001b[K\u001b[K\u001b[K\u001b[K\u001b[K\u001b[K\u001b[K\u001b[K\u001b[K\u001b[K\u001b[K\u001b[K\u001b[K\u001b[K\u001b[K\u001b[K\u001b[K\u001b[K\u001b[K\u001b[K\u001b[K\u001b[K\u001b[K\u001b[K\u001b[K\u001b[K\u001b[K\n",
      "🐳  Preparing Kubernetes v1.27.4 on Docker 24.0.4 ...\u001b[K\u001b[K\u001b[K\u001b[K\u001b[K\u001b[K\u001b[K\u001b[K\u001b[K\u001b[K\u001b[K\u001b[K\u001b[K\u001b[K\u001b[K\u001b[K\u001b[K\u001b[K\u001b[K\u001b[K\u001b[K\u001b[K\u001b[K\u001b[K\u001b[K\u001b[K\u001b[K\u001b[K\u001b[K\u001b[K\u001b[K\u001b[K\u001b[K\u001b[K\u001b[K\u001b[K\u001b[K\u001b[K\u001b[K\u001b[K\u001b[K\u001b[K\u001b[K\u001b[K\u001b[K\u001b[K\u001b[K\u001b[K\u001b[K\u001b[K\u001b[K\u001b[K\u001b[K\u001b[K\u001b[K\u001b[K\u001b[K\u001b[K\n",
      "    ▪ Generating certificates and keys ...\u001b[K\u001b[K\u001b[K\u001b[K\u001b[K\u001b[K\u001b[K\u001b[K\u001b[K\u001b[K\u001b[K\u001b[K\u001b[K\u001b[K\u001b[K\u001b[K\u001b[K\u001b[K\u001b[K\u001b[K\u001b[K\u001b[K\u001b[K\u001b[K\u001b[K\u001b[K\u001b[K\u001b[K\u001b[K\u001b[K\u001b[K\u001b[K\u001b[K\u001b[K\u001b[K\u001b[K\u001b[K\u001b[K\u001b[K\u001b[K\u001b[K\u001b[K\u001b[K\u001b[K\n",
      "    ▪ Booting up control plane ...\u001b[K\u001b[K\u001b[K\u001b[K\u001b[K\u001b[K\u001b[K\u001b[K\u001b[K\u001b[K\u001b[K\u001b[K\u001b[K\u001b[K\u001b[K\u001b[K\u001b[K\u001b[K\u001b[K\u001b[K\u001b[K\u001b[K\u001b[K\u001b[K\u001b[K\u001b[K\u001b[K\u001b[K\u001b[K\u001b[K\u001b[K\u001b[K\u001b[K\u001b[K\u001b[K\u001b[K\u001b[K\u001b[K\u001b[K\u001b[K\u001b[K\u001b[K\u001b[K\u001b[K\u001b[K\u001b[K\u001b[K\u001b[K\u001b[K\u001b[K\u001b[K\u001b[K\u001b[K\u001b[K\u001b[K\u001b[K\u001b[K\u001b[K\u001b[K\u001b[K\u001b[K\u001b[K\u001b[K\u001b[K\u001b[K\u001b[K\u001b[K\u001b[K\u001b[K\u001b[K\u001b[K\u001b[K\u001b[K\u001b[K\u001b[K\u001b[K\u001b[K\u001b[K\u001b[K\u001b[K\u001b[K\u001b[K\u001b[K\u001b[K\u001b[K\u001b[K\u001b[K\u001b[K\u001b[K\u001b[K\u001b[K\u001b[K\u001b[K\u001b[K\u001b[K\u001b[K\u001b[K\u001b[K\u001b[K\u001b[K\u001b[K\u001b[K\u001b[K\u001b[K\u001b[K\u001b[K\u001b[K\u001b[K\u001b[K\u001b[K\u001b[K\u001b[K\u001b[K\u001b[K\u001b[K\u001b[K\u001b[K\u001b[K\u001b[K\u001b[K\u001b[K\u001b[K\u001b[K\u001b[K\u001b[K\u001b[K\u001b[K\u001b[K\u001b[K\u001b[K\u001b[K\u001b[K\u001b[K\u001b[K\u001b[K\u001b[K\u001b[K\u001b[K\u001b[K\u001b[K\u001b[K\u001b[K\u001b[K\u001b[K\u001b[K\u001b[K\u001b[K\u001b[K\u001b[K\u001b[K\u001b[K\u001b[K\u001b[K\u001b[K\u001b[K\u001b[K\u001b[K\u001b[K\u001b[K\u001b[K\u001b[K\u001b[K\u001b[K\u001b[K\u001b[K\u001b[K\u001b[K\u001b[K\u001b[K\u001b[K\u001b[K\u001b[K\u001b[K\u001b[K\u001b[K\u001b[K\u001b[K\u001b[K\u001b[K\u001b[K\u001b[K\u001b[K\n",
      "    ▪ Configuring RBAC rules ...\u001b[K\u001b[K\u001b[K\u001b[K\u001b[K\u001b[K\u001b[K\u001b[K\u001b[K\u001b[K\u001b[K\u001b[K\n",
      "🔗  Configuring Calico (Container Networking Interface) ...\n",
      "🔎  Verifying Kubernetes components...\n",
      "    ▪ Using image gcr.io/k8s-minikube/storage-provisioner:v5\n",
      "🌟  Enabled addons: storage-provisioner, default-storageclass\n",
      "🏄  Done! kubectl is now configured to use \"minikube\" cluster and \"default\" namespace by default\n"
     ]
    }
   ],
   "source": [
    "!minikube start --network-plugin=cni --cni=calico"
   ]
  },
  {
   "cell_type": "markdown",
   "metadata": {},
   "source": [
    "## Create Pods"
   ]
  },
  {
   "cell_type": "code",
   "execution_count": 173,
   "metadata": {},
   "outputs": [
    {
     "name": "stdout",
     "output_type": "stream",
     "text": [
      "namespace/namespace-a created\n",
      "Context \"minikube\" modified.\n",
      "pod/nginx created\n",
      "namespace/namespace-b created\n",
      "Context \"minikube\" modified.\n",
      "pod/nginx created\n",
      "namespace/namespace-c created\n",
      "Context \"minikube\" modified.\n",
      "pod/postgres created\n"
     ]
    }
   ],
   "source": [
    "%%bash\n",
    "# Create nginx pod in namespace a\n",
    "kubectl create ns namespace-a\n",
    "kubectl config set-context --current --namespace=namespace-a\n",
    "kubectl create -f ./k8s/nginx-pod.yml --namespace=namespace-a\n",
    "\n",
    "# Create nginx pod in namespace b\n",
    "kubectl create ns namespace-b\n",
    "kubectl config set-context --current --namespace=namespace-b\n",
    "kubectl create -f ./k8s/nginx-pod.yml --namespace=namespace-b\n",
    "\n",
    "# Create some postgres pod inside namespace c\n",
    "kubectl create ns namespace-c\n",
    "kubectl config set-context --current --namespace=namespace-c\n",
    "kubectl create -f ./k8s/postgres-pod.yml --namespace=namespace-c"
   ]
  },
  {
   "cell_type": "code",
   "execution_count": 208,
   "metadata": {},
   "outputs": [
    {
     "name": "stdout",
     "output_type": "stream",
     "text": [
      "NAMESPACE     NAME                                       READY   STATUS    RESTARTS        AGE     IP              NODE       NOMINATED NODE   READINESS GATES\n",
      "kube-system   calico-kube-controllers-85578c44bf-lmn6n   1/1     Running   4 (8m52s ago)   9m26s   10.244.120.68   minikube   <none>           <none>\n",
      "kube-system   calico-node-rpzzj                          1/1     Running   0               9m27s   192.168.49.2    minikube   <none>           <none>\n",
      "kube-system   coredns-5d78c9869d-k6244                   1/1     Running   3 (8m41s ago)   9m26s   10.244.120.67   minikube   <none>           <none>\n",
      "kube-system   etcd-minikube                              1/1     Running   0               9m40s   192.168.49.2    minikube   <none>           <none>\n",
      "kube-system   kube-apiserver-minikube                    1/1     Running   0               9m39s   192.168.49.2    minikube   <none>           <none>\n",
      "kube-system   kube-controller-manager-minikube           1/1     Running   0               9m39s   192.168.49.2    minikube   <none>           <none>\n",
      "kube-system   kube-proxy-mgw76                           1/1     Running   0               9m27s   192.168.49.2    minikube   <none>           <none>\n",
      "kube-system   kube-scheduler-minikube                    1/1     Running   0               9m39s   192.168.49.2    minikube   <none>           <none>\n",
      "kube-system   storage-provisioner                        1/1     Running   0               9m34s   192.168.49.2    minikube   <none>           <none>\n",
      "namespace-a   nginx                                      1/1     Running   2 (8m43s ago)   9m27s   10.244.120.65   minikube   <none>           <none>\n",
      "namespace-b   nginx                                      1/1     Running   2 (8m41s ago)   9m26s   10.244.120.66   minikube   <none>           <none>\n",
      "namespace-c   postgres                                   1/1     Running   1 (8m15s ago)   9m25s   10.244.120.69   minikube   <none>           <none>\n"
     ]
    }
   ],
   "source": [
    "!kubectl get pods -o wide -A"
   ]
  },
  {
   "cell_type": "code",
   "execution_count": 210,
   "metadata": {},
   "outputs": [
    {
     "name": "stdout",
     "output_type": "stream",
     "text": [
      "Switched to context \"minikube\".\n"
     ]
    },
    {
     "name": "stdout",
     "output_type": "stream",
     "text": [
      "Error while terminating subprocess (pid=256013): \n"
     ]
    },
    {
     "name": "stderr",
     "output_type": "stream",
     "text": [
      "I1010 23:50:10.062227  255104 log.go:194] (0xc0001651e0) (0xc0003bd180) Stream removed, broadcasting: 3\n",
      "I1010 23:50:10.062267  255104 log.go:194] (0xc0001651e0) (0xc0005005a0) Stream removed, broadcasting: 5\n",
      "I1010 23:50:10.062282  255104 log.go:194] (0xc0001651e0) Data frame received for 1\n",
      "I1010 23:50:10.062287  255104 log.go:194] (0xc000500500) (1) Data frame handling\n",
      "I1010 23:50:10.062290  255104 log.go:194] (0xc000500500) (1) Data frame sent\n",
      "I1010 23:50:10.062293  255104 log.go:194] (0xc0001651e0) (0xc000500500) Stream removed, broadcasting: 1\n",
      "I1010 23:50:10.062918  255104 log.go:194] (0xc0001651e0) (0xc0003bd220) Stream removed, broadcasting: 7\n",
      "I1010 23:50:10.062937  255104 log.go:194] (0xc0001651e0) (0xc000500500) Stream removed, broadcasting: 1\n",
      "I1010 23:50:10.062944  255104 log.go:194] (0xc0001651e0) (0xc0003bd180) Stream removed, broadcasting: 3\n",
      "I1010 23:50:10.062949  255104 log.go:194] (0xc0001651e0) (0xc0005005a0) Stream removed, broadcasting: 5\n",
      "I1010 23:50:10.062955  255104 log.go:194] (0xc0001651e0) (0xc0003bd220) Stream removed, broadcasting: 7\n",
      "command terminated with exit code 28\n"
     ]
    }
   ],
   "source": [
    "%%bash\n",
    "kubectl config use-context minikube\n",
    "IP_POD_A=$(kubectl get pod nginx -n namespace-b -o jsonpath='{.status.podIP}')\n",
    "kubectl exec -it nginx -n namespace-a -- sh -c \"curl -s $IP_POD_A:80\" 2>/dev/null"
   ]
  },
  {
   "cell_type": "code",
   "execution_count": 192,
   "metadata": {},
   "outputs": [
    {
     "name": "stdout",
     "output_type": "stream",
     "text": [
      "Get:1 http://deb.debian.org/debian bookworm InRelease [151 kB]\n",
      "Get:2 http://deb.debian.org/debian bookworm-updates InRelease [52.1 kB]\n",
      "Get:3 http://deb.debian.org/debian-security bookworm-security InRelease [48.0 kB]\n",
      "Get:4 http://apt.postgresql.org/pub/repos/apt bookworm-pgdg InRelease [123 kB]\n",
      "Get:5 http://deb.debian.org/debian bookworm/main amd64 Packages [8,780 kB]\n",
      "Get:6 http://deb.debian.org/debian bookworm-updates/main amd64 Packages [6,408 B]\n",
      "Get:7 http://deb.debian.org/debian-security bookworm-security/main amd64 Packages [79.4 kB]\n",
      "Get:8 http://apt.postgresql.org/pub/repos/apt bookworm-pgdg/main amd64 Packages [296 kB]\n",
      "Fetched 9,536 kB in 1s (6,646 kB/s)                      \n",
      "Reading package lists... Done\n",
      "Reading package lists... Done\n",
      "Building dependency tree... Done\n",
      "Reading state information... Done\n",
      "The following additional packages will be installed:\n",
      "  ca-certificates libbrotli1 libcurl4 libnghttp2-14 libpsl5 librtmp1 libssh2-1\n",
      "  publicsuffix\n",
      "The following NEW packages will be installed:\n",
      "  ca-certificates curl libbrotli1 libcurl4 libnghttp2-14 libpsl5 librtmp1\n",
      "  libssh2-1 publicsuffix\n",
      "0 upgraded, 9 newly installed, 0 to remove and 19 not upgraded.\n",
      "Need to get 1,631 kB of archives.\n",
      "After this operation, 3,740 kB of additional disk space will be used.\n",
      "Get:1 http://deb.debian.org/debian bookworm/main amd64 ca-certificates all 20230311 [153 kB]\n",
      "Get:2 http://deb.debian.org/debian bookworm/main amd64 libbrotli1 amd64 1.0.9-2+b6 [275 kB]\n",
      "Get:3 http://deb.debian.org/debian bookworm/main amd64 libnghttp2-14 amd64 1.52.0-1 [72.3 kB]\n",
      "Get:4 http://deb.debian.org/debian bookworm/main amd64 libpsl5 amd64 0.21.2-1 [58.7 kB]\n",
      "Get:5 http://deb.debian.org/debian bookworm/main amd64 librtmp1 amd64 2.4+20151223.gitfa8646d.1-2+b2 [60.8 kB]\n",
      "Get:6 http://deb.debian.org/debian bookworm/main amd64 libssh2-1 amd64 1.10.0-3+b1 [179 kB]\n",
      "Get:7 http://deb.debian.org/debian bookworm/main amd64 libcurl4 amd64 7.88.1-10+deb12u3 [390 kB]\n",
      "Get:8 http://deb.debian.org/debian bookworm/main amd64 curl amd64 7.88.1-10+deb12u3 [315 kB]\n",
      "Get:9 http://deb.debian.org/debian bookworm/main amd64 publicsuffix all 20230209.2326-1 [126 kB]\n",
      "Fetched 1,631 kB in 0s (22.0 MB/s)    \n",
      "debconf: delaying package configuration, since apt-utils is not installed\n",
      "Selecting previously unselected package ca-certificates.\n",
      "(Reading database ... 12085 files and directories currently installed.)\n",
      "Preparing to unpack .../0-ca-certificates_20230311_all.deb ...\n",
      "Unpacking ca-certificates (20230311) ...\n",
      "Selecting previously unselected package libbrotli1:amd64.\n",
      "Preparing to unpack .../1-libbrotli1_1.0.9-2+b6_amd64.deb ...\n",
      "Unpacking libbrotli1:amd64 (1.0.9-2+b6) ...\n",
      "Selecting previously unselected package libnghttp2-14:amd64.\n",
      "Preparing to unpack .../2-libnghttp2-14_1.52.0-1_amd64.deb ...\n",
      "Unpacking libnghttp2-14:amd64 (1.52.0-1) ...\n",
      "Selecting previously unselected package libpsl5:amd64.\n",
      "Preparing to unpack .../3-libpsl5_0.21.2-1_amd64.deb ...\n",
      "Unpacking libpsl5:amd64 (0.21.2-1) ...\n",
      "Selecting previously unselected package librtmp1:amd64.\n",
      "Preparing to unpack .../4-librtmp1_2.4+20151223.gitfa8646d.1-2+b2_amd64.deb ...\n",
      "Unpacking librtmp1:amd64 (2.4+20151223.gitfa8646d.1-2+b2) ...\n",
      "Selecting previously unselected package libssh2-1:amd64.\n",
      "Preparing to unpack .../5-libssh2-1_1.10.0-3+b1_amd64.deb ...\n",
      "Unpacking libssh2-1:amd64 (1.10.0-3+b1) ...\n",
      "Selecting previously unselected package libcurl4:amd64.\n",
      "Preparing to unpack .../6-libcurl4_7.88.1-10+deb12u3_amd64.deb ...\n",
      "Unpacking libcurl4:amd64 (7.88.1-10+deb12u3) ...\n",
      "Selecting previously unselected package curl.\n",
      "Preparing to unpack .../7-curl_7.88.1-10+deb12u3_amd64.deb ...\n",
      "Unpacking curl (7.88.1-10+deb12u3) ...\n",
      "Selecting previously unselected package publicsuffix.\n",
      "Preparing to unpack .../8-publicsuffix_20230209.2326-1_all.deb ...\n",
      "Unpacking publicsuffix (20230209.2326-1) ...\n",
      "Setting up libpsl5:amd64 (0.21.2-1) ...\n",
      "Setting up libbrotli1:amd64 (1.0.9-2+b6) ...\n",
      "Setting up libnghttp2-14:amd64 (1.52.0-1) ...\n",
      "Setting up ca-certificates (20230311) ...\n",
      "debconf: unable to initialize frontend: Dialog\n",
      "debconf: (No usable dialog-like program is installed, so the dialog based frontend cannot be used. at /usr/share/perl5/Debconf/FrontEnd/Dialog.pm line 78.)\n",
      "debconf: falling back to frontend: Readline\n",
      "Updating certificates in /etc/ssl/certs...\n",
      "140 added, 0 removed; done.\n",
      "Setting up librtmp1:amd64 (2.4+20151223.gitfa8646d.1-2+b2) ...\n",
      "Setting up libssh2-1:amd64 (1.10.0-3+b1) ...\n",
      "Setting up publicsuffix (20230209.2326-1) ...\n",
      "Setting up libcurl4:amd64 (7.88.1-10+deb12u3) ...\n",
      "Setting up curl (7.88.1-10+deb12u3) ...\n",
      "Processing triggers for libc-bin (2.36-9+deb12u1) ...\n",
      "Processing triggers for ca-certificates (20230311) ...\n",
      "Updating certificates in /etc/ssl/certs...\n",
      "0 added, 0 removed; done.\n",
      "Running hooks in /etc/ca-certificates/update.d...\n",
      "done.\n"
     ]
    }
   ],
   "source": [
    "# Install curl in postgres pod\n",
    "!kubectl exec -it postgres -n namespace-c -- su -c \"apt-get -y update && apt-get -y install curl\" root 2>/dev/null"
   ]
  },
  {
   "cell_type": "code",
   "execution_count": 193,
   "metadata": {},
   "outputs": [
    {
     "name": "stdout",
     "output_type": "stream",
     "text": [
      "curl 7.88.1 (x86_64-pc-linux-gnu) libcurl/7.88.1 OpenSSL/3.0.9 zlib/1.2.13 brotli/1.0.9 zstd/1.5.4 libidn2/2.3.3 libpsl/0.21.2 (+libidn2/2.3.3) libssh2/1.10.0 nghttp2/1.52.0 librtmp/2.3 OpenLDAP/2.5.13\n",
      "Release-Date: 2023-02-20\n",
      "Protocols: dict file ftp ftps gopher gophers http https imap imaps ldap ldaps mqtt pop3 pop3s rtmp rtsp scp sftp smb smbs smtp smtps telnet tftp\n",
      "Features: alt-svc AsynchDNS brotli GSS-API HSTS HTTP2 HTTPS-proxy IDN IPv6 Kerberos Largefile libz NTLM NTLM_WB PSL SPNEGO SSL threadsafe TLS-SRP UnixSockets zstd\n"
     ]
    }
   ],
   "source": [
    "# Check curl version in postgres pod\n",
    "!kubectl exec -it postgres -n namespace-c -- sh -c \"curl --version\" 2>/dev/null"
   ]
  },
  {
   "cell_type": "markdown",
   "metadata": {},
   "source": [
    "## Set Networking Policies\n",
    "\n",
    "![networking](https://uplimit.com/_next/image?url=https%3A%2F%2Fuplimit-ugc.com%2Fstatic%2Fcourse%2Fkubernetes-managing-containers-at-scale%2Fassets%2Fclm9w6ld001hk12ad3lx6dequ%2Fdiagram.png&w=750&q=75)"
   ]
  },
  {
   "cell_type": "markdown",
   "metadata": {},
   "source": [
    "### Namespace A"
   ]
  },
  {
   "cell_type": "code",
   "execution_count": 211,
   "metadata": {},
   "outputs": [
    {
     "name": "stdout",
     "output_type": "stream",
     "text": [
      "Overwriting network-policy-namespace-a.yml\n"
     ]
    }
   ],
   "source": [
    "%%writefile network-policy-namespace-a.yml\n",
    "apiVersion: networking.k8s.io/v1\n",
    "kind: NetworkPolicy\n",
    "metadata:\n",
    "  name: network-policy-for-namespace-a\n",
    "  namespace: namespace-a\n",
    "spec:\n",
    "  ingress:\n",
    "  - from:\n",
    "    - namespaceSelector:\n",
    "        matchLabels:\n",
    "          name: namespace-b\n",
    "    ports:\n",
    "      - protocol: TCP\n",
    "        port: 80\n",
    "  egress:\n",
    "  - to:\n",
    "    - namespaceSelector:\n",
    "        matchLabels:\n",
    "          name: namespace-c\n",
    "    ports:\n",
    "      - protocol: TCP\n",
    "        port: 5432\n"
   ]
  },
  {
   "cell_type": "code",
   "execution_count": 212,
   "metadata": {},
   "outputs": [
    {
     "name": "stdout",
     "output_type": "stream",
     "text": [
      "networkpolicy.networking.k8s.io/network-policy-for-namespace-a unchanged\n"
     ]
    }
   ],
   "source": [
    "!kubectl apply -f network-policy-namespace-a.yml"
   ]
  },
  {
   "cell_type": "code",
   "execution_count": 213,
   "metadata": {},
   "outputs": [
    {
     "name": "stdout",
     "output_type": "stream",
     "text": [
      "Name:         network-policy-for-namespace-a\n",
      "Namespace:    namespace-a\n",
      "Created on:   2023-10-10 23:42:09 +0000 UTC\n",
      "Labels:       <none>\n",
      "Annotations:  <none>\n",
      "Spec:\n",
      "  PodSelector:     <none> (Allowing the specific traffic to all pods in this namespace)\n",
      "  Allowing ingress traffic:\n",
      "    To Port: 80/TCP\n",
      "    From:\n",
      "      NamespaceSelector: name=namespace-b\n",
      "  Allowing egress traffic:\n",
      "    To Port: 5432/TCP\n",
      "    To:\n",
      "      NamespaceSelector: name=namespace-c\n",
      "  Policy Types: Ingress, Egress\n"
     ]
    }
   ],
   "source": [
    "!kubectl describe networkpolicy network-policy-for-namespace-a -n namespace-a"
   ]
  },
  {
   "cell_type": "code",
   "execution_count": 201,
   "metadata": {},
   "outputs": [
    {
     "name": "stdout",
     "output_type": "stream",
     "text": [
      "networkpolicy.networking.k8s.io/network-policy-for-namespace-a unchanged\n",
      "❌ Cannot ping pods in namespace-b\n",
      "❌ Cannot ping pods in namespace-c\n"
     ]
    },
    {
     "name": "stderr",
     "output_type": "stream",
     "text": [
      "I1010 23:45:16.748400  249742 log.go:194] (0xc0000e4420) (0xc00051d540) Create stream\n",
      "I1010 23:45:16.748903  249742 log.go:194] (0xc0000e4420) (0xc00051d540) Stream added, broadcasting: 1\n",
      "I1010 23:45:16.752284  249742 log.go:194] (0xc0000e4420) Reply frame received for 1\n",
      "I1010 23:45:16.752326  249742 log.go:194] (0xc0000e4420) (0xc00062fea0) Create stream\n",
      "I1010 23:45:16.752499  249742 log.go:194] (0xc0000e4420) (0xc00062fea0) Stream added, broadcasting: 3\n",
      "I1010 23:45:16.753335  249742 log.go:194] (0xc0000e4420) Reply frame received for 3\n",
      "I1010 23:45:16.753353  249742 log.go:194] (0xc0000e4420) (0xc00051d5e0) Create stream\n",
      "I1010 23:45:16.753360  249742 log.go:194] (0xc0000e4420) (0xc00051d5e0) Stream added, broadcasting: 5\n",
      "I1010 23:45:16.754174  249742 log.go:194] (0xc0000e4420) Reply frame received for 5\n",
      "I1010 23:45:16.848706  249742 log.go:194] (0xc0000e4420) Data frame received for 5\n",
      "I1010 23:45:16.848725  249742 log.go:194] (0xc00051d5e0) (5) Data frame handling\n",
      "I1010 23:45:16.848733  249742 log.go:194] (0xc00051d5e0) (5) Data frame sent\n",
      "\n",
      "I1010 23:45:16.849026  249742 log.go:194] (0xc0000e4420) Data frame received for 5\n",
      "I1010 23:45:16.849040  249742 log.go:194] (0xc00051d5e0) (5) Data frame handling\n",
      "I1010 23:45:16.849047  249742 log.go:194] (0xc00051d5e0) (5) Data frame sent\n",
      "WARNING: I1010 23:45:16.849277  249742 log.go:194] (0xc0000e4420) Data frame received for 5\n",
      "I1010 23:45:16.849290  249742 log.go:194] (0xc00051d5e0) (5) Data frame handling\n",
      "I1010 23:45:16.849305  249742 log.go:194] (0xc00051d5e0) (5) Data frame sent\n",
      "aptI1010 23:45:16.849591  249742 log.go:194] (0xc0000e4420) Data frame received for 5\n",
      "I1010 23:45:16.849604  249742 log.go:194] (0xc00051d5e0) (5) Data frame handling\n",
      "I1010 23:45:16.849610  249742 log.go:194] (0xc00051d5e0) (5) Data frame sent\n",
      " I1010 23:45:16.849891  249742 log.go:194] (0xc0000e4420) Data frame received for 5\n",
      "I1010 23:45:16.849906  249742 log.go:194] (0xc00051d5e0) (5) Data frame handling\n",
      "I1010 23:45:16.849912  249742 log.go:194] (0xc00051d5e0) (5) Data frame sent\n",
      "does not have a stable CLI interface. I1010 23:45:16.850184  249742 log.go:194] (0xc0000e4420) Data frame received for 5\n",
      "I1010 23:45:16.850198  249742 log.go:194] (0xc00051d5e0) (5) Data frame handling\n",
      "I1010 23:45:16.850209  249742 log.go:194] (0xc00051d5e0) (5) Data frame sent\n",
      "Use with caution in scripts.I1010 23:45:16.850525  249742 log.go:194] (0xc0000e4420) Data frame received for 5\n",
      "I1010 23:45:16.850535  249742 log.go:194] (0xc00051d5e0) (5) Data frame handling\n",
      "I1010 23:45:16.850540  249742 log.go:194] (0xc00051d5e0) (5) Data frame sent\n",
      "\n",
      "I1010 23:45:16.850918  249742 log.go:194] (0xc0000e4420) Data frame received for 5\n",
      "I1010 23:45:16.850932  249742 log.go:194] (0xc00051d5e0) (5) Data frame handling\n",
      "I1010 23:45:16.850939  249742 log.go:194] (0xc00051d5e0) (5) Data frame sent\n",
      "\n",
      "I1010 23:45:16.853366  249742 log.go:194] (0xc0000e4420) Data frame received for 3\n",
      "I1010 23:45:16.853387  249742 log.go:194] (0xc00062fea0) (3) Data frame handling\n",
      "I1010 23:45:16.853395  249742 log.go:194] (0xc00062fea0) (3) Data frame sent\n",
      "I1010 23:45:16.869167  249742 log.go:194] (0xc0000e4420) Data frame received for 3\n",
      "I1010 23:45:16.869185  249742 log.go:194] (0xc00062fea0) (3) Data frame handling\n",
      "I1010 23:45:16.869192  249742 log.go:194] (0xc00062fea0) (3) Data frame sent\n",
      "I1010 23:45:16.881722  249742 log.go:194] (0xc0000e4420) Data frame received for 5\n",
      "I1010 23:45:16.881734  249742 log.go:194] (0xc00051d5e0) (5) Data frame handling\n",
      "I1010 23:45:16.881740  249742 log.go:194] (0xc00051d5e0) (5) Data frame sent\n",
      "EI1010 23:45:16.882221  249742 log.go:194] (0xc0000e4420) Data frame received for 5\n",
      "I1010 23:45:16.882229  249742 log.go:194] (0xc00051d5e0) (5) Data frame handling\n",
      "I1010 23:45:16.882235  249742 log.go:194] (0xc00051d5e0) (5) Data frame sent\n",
      ": Could not get lock /var/lib/apt/lists/lock. It is held by process 59 (apt)\n",
      "E: Unable to lock directory /var/lib/apt/lists/\n",
      "I1010 23:45:16.884935  249742 log.go:194] (0xc0000e4420) (0xc00051d5e0) Stream removed, broadcasting: 5\n",
      "I1010 23:45:16.884964  249742 log.go:194] (0xc0000e4420) Data frame received for 1\n",
      "I1010 23:45:16.884969  249742 log.go:194] (0xc00051d540) (1) Data frame handling\n",
      "I1010 23:45:16.884976  249742 log.go:194] (0xc00051d540) (1) Data frame sent\n",
      "I1010 23:45:16.884981  249742 log.go:194] (0xc0000e4420) (0xc00051d540) Stream removed, broadcasting: 1\n",
      "I1010 23:45:16.885373  249742 log.go:194] (0xc0000e4420) (0xc00062fea0) Stream removed, broadcasting: 3\n",
      "I1010 23:45:16.885460  249742 log.go:194] (0xc0000e4420) Go away received\n",
      "I1010 23:45:16.885722  249742 log.go:194] (0xc0000e4420) (0xc00051d540) Stream removed, broadcasting: 1\n",
      "I1010 23:45:16.885731  249742 log.go:194] (0xc0000e4420) (0xc00062fea0) Stream removed, broadcasting: 3\n",
      "I1010 23:45:16.885741  249742 log.go:194] (0xc0000e4420) (0xc00051d5e0) Stream removed, broadcasting: 5\n",
      "command terminated with exit code 100\n"
     ]
    }
   ],
   "source": [
    "run_check(checks[0])"
   ]
  },
  {
   "cell_type": "markdown",
   "metadata": {},
   "source": [
    "### Namespace B"
   ]
  },
  {
   "cell_type": "code",
   "execution_count": 203,
   "metadata": {},
   "outputs": [
    {
     "name": "stdout",
     "output_type": "stream",
     "text": [
      "Overwriting network-policy-namespace-b.yml\n"
     ]
    }
   ],
   "source": [
    "%%writefile network-policy-namespace-b.yml\n",
    "apiVersion: networking.k8s.io/v1\n",
    "kind: NetworkPolicy\n",
    "metadata:\n",
    "  name: network-policy-for-namespace-b\n",
    "  namespace: namespace-b\n",
    "spec:\n",
    "  ingress:\n",
    "  - from:\n",
    "    - namespaceSelector:\n",
    "        matchLabels:\n",
    "          name: namespace-a\n",
    "  egress:\n",
    "  - to:\n",
    "    - namespaceSelector:\n",
    "        matchLabels:\n",
    "          name: namespace-a"
   ]
  },
  {
   "cell_type": "code",
   "execution_count": 204,
   "metadata": {},
   "outputs": [
    {
     "name": "stdout",
     "output_type": "stream",
     "text": [
      "networkpolicy.networking.k8s.io/network-policy-for-namespace-b created\n",
      "❌ Cannot ping pods in namespace-a\n"
     ]
    },
    {
     "name": "stderr",
     "output_type": "stream",
     "text": [
      "I1010 23:46:32.143011  252186 log.go:194] (0xc0001d4000) (0xc0003c2000) Create stream\n",
      "I1010 23:46:32.143674  252186 log.go:194] (0xc0001d4000) (0xc0003c2000) Stream added, broadcasting: 1\n",
      "I1010 23:46:32.144984  252186 log.go:194] (0xc0001d4000) Reply frame received for 1\n",
      "I1010 23:46:32.145010  252186 log.go:194] (0xc0001d4000) (0xc000674960) Create stream\n",
      "I1010 23:46:32.145017  252186 log.go:194] (0xc0001d4000) (0xc000674960) Stream added, broadcasting: 3\n",
      "I1010 23:46:32.145847  252186 log.go:194] (0xc0001d4000) Reply frame received for 3\n",
      "I1010 23:46:32.146020  252186 log.go:194] (0xc0001d4000) (0xc0006757c0) Create stream\n",
      "I1010 23:46:32.146140  252186 log.go:194] (0xc0001d4000) (0xc0006757c0) Stream added, broadcasting: 5\n",
      "I1010 23:46:32.147158  252186 log.go:194] (0xc0001d4000) Reply frame received for 5\n",
      "I1010 23:46:32.211907  252186 log.go:194] (0xc0001d4000) Data frame received for 5\n",
      "I1010 23:46:32.212299  252186 log.go:194] (0xc0006757c0) (5) Data frame handling\n",
      "I1010 23:46:32.212424  252186 log.go:194] (0xc0006757c0) (5) Data frame sent\n",
      "I1010 23:46:32.212541  252186 log.go:194] (0xc0001d4000) Data frame received for 5\n",
      "I1010 23:46:32.212656  252186 log.go:194] (0xc0006757c0) (5) Data frame handling\n",
      "\n",
      "WARNING: aptI1010 23:46:32.212996  252186 log.go:194] (0xc0006757c0) (5) Data frame sent\n",
      "I1010 23:46:32.213252  252186 log.go:194] (0xc0001d4000) Data frame received for 5\n",
      "I1010 23:46:32.213264  252186 log.go:194] (0xc0006757c0) (5) Data frame handling\n",
      "I1010 23:46:32.213275  252186 log.go:194] (0xc0006757c0) (5) Data frame sent\n",
      " does not have a stable CLI interface. I1010 23:46:32.213574  252186 log.go:194] (0xc0001d4000) Data frame received for 5\n",
      "I1010 23:46:32.213694  252186 log.go:194] (0xc0006757c0) (5) Data frame handling\n",
      "I1010 23:46:32.213798  252186 log.go:194] (0xc0006757c0) (5) Data frame sent\n",
      "Use with caution in scripts.\n",
      "I1010 23:46:32.214269  252186 log.go:194] (0xc0001d4000) Data frame received for 5\n",
      "I1010 23:46:32.214386  252186 log.go:194] (0xc0006757c0) (5) Data frame handling\n",
      "I1010 23:46:32.214475  252186 log.go:194] (0xc0006757c0) (5) Data frame sent\n",
      "\n",
      "I1010 23:46:52.239258  252186 log.go:194] (0xc0001d4000) Data frame received for 3\n",
      "I1010 23:46:52.239278  252186 log.go:194] (0xc000674960) (3) Data frame handling\n",
      "I1010 23:46:52.239290  252186 log.go:194] (0xc000674960) (3) Data frame sent\n"
     ]
    },
    {
     "ename": "KeyboardInterrupt",
     "evalue": "",
     "output_type": "error",
     "traceback": [
      "\u001b[0;31m---------------------------------------------------------------------------\u001b[0m",
      "\u001b[0;31mKeyboardInterrupt\u001b[0m                         Traceback (most recent call last)",
      "\u001b[1;32m/workspaces/intro-to-kube/calico/calico.ipynb Cell 19\u001b[0m line \u001b[0;36m1\n\u001b[0;32m----> <a href='vscode-notebook-cell://codespaces%2Beffective-fishstick-4v6p9645jhjpgv/workspaces/intro-to-kube/calico/calico.ipynb#X32sdnNjb2RlLXJlbW90ZQ%3D%3D?line=0'>1</a>\u001b[0m run_check(checks[\u001b[39m1\u001b[39;49m])\n",
      "\u001b[1;32m/workspaces/intro-to-kube/calico/calico.ipynb Cell 19\u001b[0m line \u001b[0;36m1\n\u001b[1;32m     <a href='vscode-notebook-cell://codespaces%2Beffective-fishstick-4v6p9645jhjpgv/workspaces/intro-to-kube/calico/calico.ipynb#X32sdnNjb2RlLXJlbW90ZQ%3D%3D?line=11'>12</a>\u001b[0m \u001b[39mdef\u001b[39;00m \u001b[39mrun_check\u001b[39m(check):\n\u001b[1;32m     <a href='vscode-notebook-cell://codespaces%2Beffective-fishstick-4v6p9645jhjpgv/workspaces/intro-to-kube/calico/calico.ipynb#X32sdnNjb2RlLXJlbW90ZQ%3D%3D?line=12'>13</a>\u001b[0m     \u001b[39m# cmd = f\"cd /workspaces/intro-to-kube\\n{check['run']}\"\u001b[39;00m\n\u001b[1;32m     <a href='vscode-notebook-cell://codespaces%2Beffective-fishstick-4v6p9645jhjpgv/workspaces/intro-to-kube/calico/calico.ipynb#X32sdnNjb2RlLXJlbW90ZQ%3D%3D?line=13'>14</a>\u001b[0m     cmd \u001b[39m=\u001b[39m check[\u001b[39m'\u001b[39m\u001b[39mrun\u001b[39m\u001b[39m'\u001b[39m]\n\u001b[0;32m---> <a href='vscode-notebook-cell://codespaces%2Beffective-fishstick-4v6p9645jhjpgv/workspaces/intro-to-kube/calico/calico.ipynb#X32sdnNjb2RlLXJlbW90ZQ%3D%3D?line=14'>15</a>\u001b[0m     subprocess\u001b[39m.\u001b[39;49mrun(\n\u001b[1;32m     <a href='vscode-notebook-cell://codespaces%2Beffective-fishstick-4v6p9645jhjpgv/workspaces/intro-to-kube/calico/calico.ipynb#X32sdnNjb2RlLXJlbW90ZQ%3D%3D?line=15'>16</a>\u001b[0m         cmd, \n\u001b[1;32m     <a href='vscode-notebook-cell://codespaces%2Beffective-fishstick-4v6p9645jhjpgv/workspaces/intro-to-kube/calico/calico.ipynb#X32sdnNjb2RlLXJlbW90ZQ%3D%3D?line=16'>17</a>\u001b[0m         capture_output\u001b[39m=\u001b[39;49m\u001b[39mFalse\u001b[39;49;00m, \n\u001b[1;32m     <a href='vscode-notebook-cell://codespaces%2Beffective-fishstick-4v6p9645jhjpgv/workspaces/intro-to-kube/calico/calico.ipynb#X32sdnNjb2RlLXJlbW90ZQ%3D%3D?line=17'>18</a>\u001b[0m         shell\u001b[39m=\u001b[39;49m\u001b[39mTrue\u001b[39;49;00m, \n\u001b[1;32m     <a href='vscode-notebook-cell://codespaces%2Beffective-fishstick-4v6p9645jhjpgv/workspaces/intro-to-kube/calico/calico.ipynb#X32sdnNjb2RlLXJlbW90ZQ%3D%3D?line=18'>19</a>\u001b[0m         executable\u001b[39m=\u001b[39;49m\u001b[39m'\u001b[39;49m\u001b[39m/bin/bash\u001b[39;49m\u001b[39m'\u001b[39;49m,\n\u001b[1;32m     <a href='vscode-notebook-cell://codespaces%2Beffective-fishstick-4v6p9645jhjpgv/workspaces/intro-to-kube/calico/calico.ipynb#X32sdnNjb2RlLXJlbW90ZQ%3D%3D?line=19'>20</a>\u001b[0m         cwd \u001b[39m=\u001b[39;49m \u001b[39m'\u001b[39;49m\u001b[39m/workspaces/intro-to-kube\u001b[39;49m\u001b[39m'\u001b[39;49m\n\u001b[1;32m     <a href='vscode-notebook-cell://codespaces%2Beffective-fishstick-4v6p9645jhjpgv/workspaces/intro-to-kube/calico/calico.ipynb#X32sdnNjb2RlLXJlbW90ZQ%3D%3D?line=20'>21</a>\u001b[0m     )\n",
      "File \u001b[0;32m~/.python/current/lib/python3.10/subprocess.py:505\u001b[0m, in \u001b[0;36mrun\u001b[0;34m(input, capture_output, timeout, check, *popenargs, **kwargs)\u001b[0m\n\u001b[1;32m    503\u001b[0m \u001b[39mwith\u001b[39;00m Popen(\u001b[39m*\u001b[39mpopenargs, \u001b[39m*\u001b[39m\u001b[39m*\u001b[39mkwargs) \u001b[39mas\u001b[39;00m process:\n\u001b[1;32m    504\u001b[0m     \u001b[39mtry\u001b[39;00m:\n\u001b[0;32m--> 505\u001b[0m         stdout, stderr \u001b[39m=\u001b[39m process\u001b[39m.\u001b[39;49mcommunicate(\u001b[39minput\u001b[39;49m, timeout\u001b[39m=\u001b[39;49mtimeout)\n\u001b[1;32m    506\u001b[0m     \u001b[39mexcept\u001b[39;00m TimeoutExpired \u001b[39mas\u001b[39;00m exc:\n\u001b[1;32m    507\u001b[0m         process\u001b[39m.\u001b[39mkill()\n",
      "File \u001b[0;32m~/.python/current/lib/python3.10/subprocess.py:1146\u001b[0m, in \u001b[0;36mPopen.communicate\u001b[0;34m(self, input, timeout)\u001b[0m\n\u001b[1;32m   1144\u001b[0m         stderr \u001b[39m=\u001b[39m \u001b[39mself\u001b[39m\u001b[39m.\u001b[39mstderr\u001b[39m.\u001b[39mread()\n\u001b[1;32m   1145\u001b[0m         \u001b[39mself\u001b[39m\u001b[39m.\u001b[39mstderr\u001b[39m.\u001b[39mclose()\n\u001b[0;32m-> 1146\u001b[0m     \u001b[39mself\u001b[39;49m\u001b[39m.\u001b[39;49mwait()\n\u001b[1;32m   1147\u001b[0m \u001b[39melse\u001b[39;00m:\n\u001b[1;32m   1148\u001b[0m     \u001b[39mif\u001b[39;00m timeout \u001b[39mis\u001b[39;00m \u001b[39mnot\u001b[39;00m \u001b[39mNone\u001b[39;00m:\n",
      "File \u001b[0;32m~/.python/current/lib/python3.10/subprocess.py:1209\u001b[0m, in \u001b[0;36mPopen.wait\u001b[0;34m(self, timeout)\u001b[0m\n\u001b[1;32m   1207\u001b[0m     endtime \u001b[39m=\u001b[39m _time() \u001b[39m+\u001b[39m timeout\n\u001b[1;32m   1208\u001b[0m \u001b[39mtry\u001b[39;00m:\n\u001b[0;32m-> 1209\u001b[0m     \u001b[39mreturn\u001b[39;00m \u001b[39mself\u001b[39;49m\u001b[39m.\u001b[39;49m_wait(timeout\u001b[39m=\u001b[39;49mtimeout)\n\u001b[1;32m   1210\u001b[0m \u001b[39mexcept\u001b[39;00m \u001b[39mKeyboardInterrupt\u001b[39;00m:\n\u001b[1;32m   1211\u001b[0m     \u001b[39m# https://bugs.python.org/issue25942\u001b[39;00m\n\u001b[1;32m   1212\u001b[0m     \u001b[39m# The first keyboard interrupt waits briefly for the child to\u001b[39;00m\n\u001b[1;32m   1213\u001b[0m     \u001b[39m# exit under the common assumption that it also received the ^C\u001b[39;00m\n\u001b[1;32m   1214\u001b[0m     \u001b[39m# generated SIGINT and will exit rapidly.\u001b[39;00m\n\u001b[1;32m   1215\u001b[0m     \u001b[39mif\u001b[39;00m timeout \u001b[39mis\u001b[39;00m \u001b[39mnot\u001b[39;00m \u001b[39mNone\u001b[39;00m:\n",
      "File \u001b[0;32m~/.python/current/lib/python3.10/subprocess.py:1943\u001b[0m, in \u001b[0;36mPopen._wait\u001b[0;34m(self, timeout)\u001b[0m\n\u001b[1;32m   1941\u001b[0m \u001b[39mif\u001b[39;00m \u001b[39mself\u001b[39m\u001b[39m.\u001b[39mreturncode \u001b[39mis\u001b[39;00m \u001b[39mnot\u001b[39;00m \u001b[39mNone\u001b[39;00m:\n\u001b[1;32m   1942\u001b[0m     \u001b[39mbreak\u001b[39;00m  \u001b[39m# Another thread waited.\u001b[39;00m\n\u001b[0;32m-> 1943\u001b[0m (pid, sts) \u001b[39m=\u001b[39m \u001b[39mself\u001b[39;49m\u001b[39m.\u001b[39;49m_try_wait(\u001b[39m0\u001b[39;49m)\n\u001b[1;32m   1944\u001b[0m \u001b[39m# Check the pid and loop as waitpid has been known to\u001b[39;00m\n\u001b[1;32m   1945\u001b[0m \u001b[39m# return 0 even without WNOHANG in odd situations.\u001b[39;00m\n\u001b[1;32m   1946\u001b[0m \u001b[39m# http://bugs.python.org/issue14396.\u001b[39;00m\n\u001b[1;32m   1947\u001b[0m \u001b[39mif\u001b[39;00m pid \u001b[39m==\u001b[39m \u001b[39mself\u001b[39m\u001b[39m.\u001b[39mpid:\n",
      "File \u001b[0;32m~/.python/current/lib/python3.10/subprocess.py:1901\u001b[0m, in \u001b[0;36mPopen._try_wait\u001b[0;34m(self, wait_flags)\u001b[0m\n\u001b[1;32m   1899\u001b[0m \u001b[39m\u001b[39m\u001b[39m\"\"\"All callers to this function MUST hold self._waitpid_lock.\"\"\"\u001b[39;00m\n\u001b[1;32m   1900\u001b[0m \u001b[39mtry\u001b[39;00m:\n\u001b[0;32m-> 1901\u001b[0m     (pid, sts) \u001b[39m=\u001b[39m os\u001b[39m.\u001b[39;49mwaitpid(\u001b[39mself\u001b[39;49m\u001b[39m.\u001b[39;49mpid, wait_flags)\n\u001b[1;32m   1902\u001b[0m \u001b[39mexcept\u001b[39;00m \u001b[39mChildProcessError\u001b[39;00m:\n\u001b[1;32m   1903\u001b[0m     \u001b[39m# This happens if SIGCLD is set to be ignored or waiting\u001b[39;00m\n\u001b[1;32m   1904\u001b[0m     \u001b[39m# for child processes has otherwise been disabled for our\u001b[39;00m\n\u001b[1;32m   1905\u001b[0m     \u001b[39m# process.  This child is dead, we can't get the status.\u001b[39;00m\n\u001b[1;32m   1906\u001b[0m     pid \u001b[39m=\u001b[39m \u001b[39mself\u001b[39m\u001b[39m.\u001b[39mpid\n",
      "\u001b[0;31mKeyboardInterrupt\u001b[0m: "
     ]
    }
   ],
   "source": [
    "run_check(checks[1])"
   ]
  },
  {
   "cell_type": "markdown",
   "metadata": {},
   "source": [
    "### Namespace C"
   ]
  },
  {
   "cell_type": "code",
   "execution_count": 53,
   "metadata": {},
   "outputs": [
    {
     "name": "stdout",
     "output_type": "stream",
     "text": [
      "Overwriting network-policy-namespace-c.yml\n"
     ]
    }
   ],
   "source": [
    "%%writefile network-policy-namespace-c.yml\n",
    "apiVersion: networking.k8s.io/v1\n",
    "kind: NetworkPolicy\n",
    "metadata:\n",
    "  name: network-policy-for-namespace-c\n",
    "  namespace: namespace-c\n",
    "spec:\n",
    "  ingress:\n",
    "  - from:\n",
    "    - namespaceSelector:\n",
    "        matchLabels:\n",
    "          name: namespace-a"
   ]
  },
  {
   "cell_type": "code",
   "execution_count": null,
   "metadata": {},
   "outputs": [],
   "source": [
    "run_check(checks[2])"
   ]
  },
  {
   "cell_type": "markdown",
   "metadata": {},
   "source": [
    "## Teardown"
   ]
  },
  {
   "cell_type": "code",
   "execution_count": 170,
   "metadata": {},
   "outputs": [
    {
     "name": "stdout",
     "output_type": "stream",
     "text": [
      "✋  Stopping node \"minikube\"  ...\n",
      "🛑  Powering off \"minikube\" via SSH ...\n",
      "🛑  1 node stopped.\n",
      "🔥  Deleting \"minikube\" in docker ...\n",
      "🔥  Deleting container \"minikube\" ...\n",
      "🔥  Removing /home/codespace/.minikube/machines/minikube ...\n",
      "💀  Removed all traces of the \"minikube\" cluster.\n"
     ]
    }
   ],
   "source": [
    "!minikube stop\n",
    "!minikube delete"
   ]
  }
 ],
 "metadata": {
  "kernelspec": {
   "display_name": "Python 3",
   "language": "python",
   "name": "python3"
  },
  "language_info": {
   "codemirror_mode": {
    "name": "ipython",
    "version": 3
   },
   "file_extension": ".py",
   "mimetype": "text/x-python",
   "name": "python",
   "nbconvert_exporter": "python",
   "pygments_lexer": "ipython3",
   "version": "3.10.8"
  }
 },
 "nbformat": 4,
 "nbformat_minor": 2
}
