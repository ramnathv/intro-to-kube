{
 "cells": [
  {
   "cell_type": "markdown",
   "metadata": {},
   "source": [
    "# Rback To the Future"
   ]
  },
  {
   "cell_type": "code",
   "execution_count": 6,
   "metadata": {},
   "outputs": [
    {
     "name": "stdout",
     "output_type": "stream",
     "text": [
      "* minikube v1.31.2 on Ubuntu 20.04 (docker/amd64)\n",
      "* Automatically selected the docker driver. Other choices: ssh, none\n",
      "* Using Docker driver with root privileges\n",
      "* Starting control plane node minikube in cluster minikube\n",
      "* Pulling base image ...\n",
      "* Creating docker container (CPUs=2, Memory=2200MB) ...\n",
      "* Preparing Kubernetes v1.27.4 on Docker 24.0.4 ...\n",
      "  - Generating certificates and keys ...\n",
      "  - Booting up control plane ...\n",
      "  - Configuring RBAC rules ...\n",
      "* Configuring bridge CNI (Container Networking Interface) ...\n",
      "  - Using image gcr.io/k8s-minikube/storage-provisioner:v5\n",
      "* Verifying Kubernetes components...\n",
      "* Enabled addons: storage-provisioner, default-storageclass\n",
      "* Done! kubectl is now configured to use \"minikube\" cluster and \"default\" namespace by default\n",
      "namespace/dev created\n",
      "namespace/staging created\n",
      "namespace/prod created\n",
      "namespace/database created\n",
      "namespace/backup created\n",
      "Context \"minikube\" modified.\n",
      "deployment.apps/nginx-deployment created\n",
      "Context \"minikube\" modified.\n",
      "deployment.apps/nginx-deployment created\n",
      "Context \"minikube\" modified.\n",
      "deployment.apps/nginx-deployment created\n",
      "Context \"minikube\" modified.\n",
      "serviceaccount/default created\n",
      "pod/postgres-pod created\n",
      "Context \"minikube\" modified.\n",
      "serviceaccount/default created\n",
      "pod/postgres-pod created\n",
      "Context \"minikube\" modified.\n"
     ]
    }
   ],
   "source": [
    "%%bash\n",
    "minikube start\n",
    "bash setup.sh"
   ]
  },
  {
   "cell_type": "code",
   "execution_count": 10,
   "metadata": {},
   "outputs": [],
   "source": [
    "!rm *.key"
   ]
  },
  {
   "cell_type": "code",
   "execution_count": 11,
   "metadata": {},
   "outputs": [
    {
     "name": "stdout",
     "output_type": "stream",
     "text": [
      "Generating RSA private key, 2048 bit long modulus (2 primes)\n",
      "..............................+++++\n",
      "...........+++++\n",
      "e is 65537 (0x010001)\n",
      "Signature ok\n",
      "subject=CN = Jesus, O = Jesus\n",
      "Getting CA Private Key\n",
      "Generating RSA private key, 2048 bit long modulus (2 primes)\n",
      ".........................+++++\n",
      "...................+++++\n",
      "e is 65537 (0x010001)\n",
      "Signature ok\n",
      "subject=CN = Joey, O = Joey\n",
      "Getting CA Private Key\n",
      "Generating RSA private key, 2048 bit long modulus (2 primes)\n",
      "........................................................................+++++\n",
      "....................................+++++\n",
      "e is 65537 (0x010001)\n",
      "Signature ok\n",
      "subject=CN = Jessica, O = Jessica\n",
      "Getting CA Private Key\n",
      "Generating RSA private key, 2048 bit long modulus (2 primes)\n",
      "...............................................................+++++\n",
      "...................................+++++\n",
      "e is 65537 (0x010001)\n",
      "Signature ok\n",
      "subject=CN = Jules, O = Jules\n",
      "Getting CA Private Key\n",
      "User \"Jesus\" set.\n",
      "Context \"Jesus-context\" modified.\n",
      "User \"Joey\" set.\n",
      "Context \"Joey-context\" modified.\n",
      "User \"Jessica\" set.\n",
      "Context \"Jessica-context\" modified.\n",
      "User \"Jules\" set.\n",
      "Context \"Jules-context\" modified.\n"
     ]
    }
   ],
   "source": [
    "!bash create_users.sh"
   ]
  },
  {
   "cell_type": "code",
   "execution_count": 4,
   "metadata": {},
   "outputs": [
    {
     "name": "stdout",
     "output_type": "stream",
     "text": [
      "apiVersion: v1\n",
      "clusters:\n",
      "- cluster:\n",
      "    certificate-authority: /home/codespace/.minikube/ca.crt\n",
      "    extensions:\n",
      "    - extension:\n",
      "        last-update: Mon, 09 Oct 2023 06:28:48 UTC\n",
      "        provider: minikube.sigs.k8s.io\n",
      "        version: v1.31.2\n",
      "      name: cluster_info\n",
      "    server: https://192.168.49.2:8443\n",
      "  name: minikube\n",
      "contexts:\n",
      "- context:\n",
      "    cluster: minikube\n",
      "    user: Jessica\n",
      "  name: Jessica-context\n",
      "- context:\n",
      "    cluster: minikube\n",
      "    user: Jesus\n",
      "  name: Jesus-context\n",
      "- context:\n",
      "    cluster: minikube\n",
      "    user: Joey\n",
      "  name: Joey-context\n",
      "- context:\n",
      "    cluster: minikube\n",
      "    user: Jules\n",
      "  name: Jules-context\n",
      "- context:\n",
      "    cluster: minikube\n",
      "    extensions:\n",
      "    - extension:\n",
      "        last-update: Mon, 09 Oct 2023 06:28:48 UTC\n",
      "        provider: minikube.sigs.k8s.io\n",
      "        version: v1.31.2\n",
      "      name: context_info\n",
      "    namespace: default\n",
      "    user: minikube\n",
      "  name: minikube\n",
      "current-context: minikube\n",
      "kind: Config\n",
      "preferences: {}\n",
      "users:\n",
      "- name: Jessica\n",
      "  user:\n",
      "    client-certificate: /workspaces/intro-to-kube/rbac-to-the-future/user_certs/Jessica.crt\n",
      "    client-key: /workspaces/intro-to-kube/rbac-to-the-future/user_certs/Jessica.key\n",
      "- name: Jesus\n",
      "  user:\n",
      "    client-certificate: /workspaces/intro-to-kube/rbac-to-the-future/user_certs/Jesus.crt\n",
      "    client-key: /workspaces/intro-to-kube/rbac-to-the-future/user_certs/Jesus.key\n",
      "- name: Joey\n",
      "  user:\n",
      "    client-certificate: /workspaces/intro-to-kube/rbac-to-the-future/user_certs/Joey.crt\n",
      "    client-key: /workspaces/intro-to-kube/rbac-to-the-future/user_certs/Joey.key\n",
      "- name: Jules\n",
      "  user:\n",
      "    client-certificate: /workspaces/intro-to-kube/rbac-to-the-future/user_certs/Jules.crt\n",
      "    client-key: /workspaces/intro-to-kube/rbac-to-the-future/user_certs/Jules.key\n",
      "- name: minikube\n",
      "  user:\n",
      "    client-certificate: /home/codespace/.minikube/profiles/minikube/client.crt\n",
      "    client-key: /home/codespace/.minikube/profiles/minikube/client.key\n"
     ]
    }
   ],
   "source": [
    "!kubectl config view"
   ]
  },
  {
   "cell_type": "code",
   "execution_count": 12,
   "metadata": {},
   "outputs": [
    {
     "name": "stdout",
     "output_type": "stream",
     "text": [
      "* Stopping node \"minikube\"  ...\n",
      "* Powering off \"minikube\" via SSH ...\n",
      "* 1 node stopped.\n",
      "* Deleting \"minikube\" in docker ...\n",
      "* Deleting container \"minikube\" ...\n",
      "* Removing /home/codespace/.minikube/machines/minikube ...\n",
      "* Removed all traces of the \"minikube\" cluster.\n"
     ]
    }
   ],
   "source": [
    "%%bash\n",
    "minikube stop\n",
    "minikube delete"
   ]
  }
 ],
 "metadata": {
  "kernelspec": {
   "display_name": "Python 3",
   "language": "python",
   "name": "python3"
  },
  "language_info": {
   "codemirror_mode": {
    "name": "ipython",
    "version": 3
   },
   "file_extension": ".py",
   "mimetype": "text/x-python",
   "name": "python",
   "nbconvert_exporter": "python",
   "pygments_lexer": "ipython3",
   "version": "3.10.8"
  }
 },
 "nbformat": 4,
 "nbformat_minor": 2
}
