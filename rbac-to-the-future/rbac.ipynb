{
 "cells": [
  {
   "cell_type": "markdown",
   "metadata": {},
   "source": [
    "# Rback To the Future"
   ]
  },
  {
   "cell_type": "code",
   "execution_count": 170,
   "metadata": {},
   "outputs": [],
   "source": [
    "import subprocess\n",
    "import yaml\n",
    "def get_checks(gh_actions_file: str):\n",
    "    with open(gh_actions_file) as f:\n",
    "        actions = yaml.safe_load(f)\n",
    "    steps = actions['jobs']['scavenger']['steps']\n",
    "    checks = [step for step in steps if 'Checks' in step['name']]\n",
    "    return checks\n",
    "\n",
    "def run_checks(checks):\n",
    "    for check in checks:\n",
    "        cmd = f\"cd /workspaces/intro-to-kube\\n{checks[0]['run']}\"\n",
    "        subprocess.run(\n",
    "            cmd, \n",
    "            capture_output=False, \n",
    "            shell=True, \n",
    "            executable='/bin/bash',\n",
    "            cwd = '/workspaces/intro-to-kube/rbac-to-the-future'\n",
    "        )\n",
    "        \n",
    "# run_checks('/workspaces/intro-to-kube/.github/workflows/pesky-persistent-db.yml')\n",
    "checks = get_checks('/workspaces/intro-to-kube/.github/workflows/rbac-to-the-future.yml')"
   ]
  },
  {
   "cell_type": "markdown",
   "metadata": {},
   "source": [
    "```bash\n",
    "minikube start\n",
    "bash setup.sh\n",
    "```"
   ]
  },
  {
   "cell_type": "code",
   "execution_count": 168,
   "metadata": {},
   "outputs": [
    {
     "name": "stdout",
     "output_type": "stream",
     "text": [
      "Generating RSA private key, 2048 bit long modulus (2 primes)\n",
      "...+++++\n",
      "...............................................+++++\n",
      "e is 65537 (0x010001)\n",
      "Signature ok\n",
      "subject=CN = Jesus, O = Jesus\n",
      "Getting CA Private Key\n",
      "Generating RSA private key, 2048 bit long modulus (2 primes)\n",
      ".....................+++++\n",
      "..........................................+++++\n",
      "e is 65537 (0x010001)\n",
      "Signature ok\n",
      "subject=CN = Joey, O = Joey\n",
      "Getting CA Private Key\n",
      "Generating RSA private key, 2048 bit long modulus (2 primes)\n",
      ".............+++++\n",
      ".................................+++++\n",
      "e is 65537 (0x010001)\n",
      "Signature ok\n",
      "subject=CN = Jessica, O = Jessica\n",
      "Getting CA Private Key\n",
      "Generating RSA private key, 2048 bit long modulus (2 primes)\n",
      "...+++++\n",
      "..........+++++\n",
      "e is 65537 (0x010001)\n",
      "Signature ok\n",
      "subject=CN = Jules, O = Jules\n",
      "Getting CA Private Key\n",
      "User \"Jesus\" set.\n",
      "Context \"Jesus-context\" modified.\n",
      "User \"Joey\" set.\n",
      "Context \"Joey-context\" modified.\n",
      "User \"Jessica\" set.\n",
      "Context \"Jessica-context\" modified.\n",
      "User \"Jules\" set.\n",
      "Context \"Jules-context\" modified.\n"
     ]
    }
   ],
   "source": [
    "!bash create_users.sh"
   ]
  },
  {
   "cell_type": "code",
   "execution_count": 169,
   "metadata": {},
   "outputs": [
    {
     "name": "stdout",
     "output_type": "stream",
     "text": [
      "apiVersion: v1\n",
      "clusters:\n",
      "- cluster:\n",
      "    certificate-authority: /home/codespace/.minikube/ca.crt\n",
      "    extensions:\n",
      "    - extension:\n",
      "        last-update: Mon, 09 Oct 2023 14:13:37 UTC\n",
      "        provider: minikube.sigs.k8s.io\n",
      "        version: v1.31.2\n",
      "      name: cluster_info\n",
      "    server: https://192.168.49.2:8443\n",
      "  name: minikube\n",
      "contexts:\n",
      "- context:\n",
      "    cluster: minikube\n",
      "    user: Jessica\n",
      "  name: Jessica-context\n",
      "- context:\n",
      "    cluster: minikube\n",
      "    user: Jesus\n",
      "  name: Jesus-context\n",
      "- context:\n",
      "    cluster: minikube\n",
      "    user: Joey\n",
      "  name: Joey-context\n",
      "- context:\n",
      "    cluster: minikube\n",
      "    user: Jules\n",
      "  name: Jules-context\n",
      "- context:\n",
      "    cluster: minikube\n",
      "    extensions:\n",
      "    - extension:\n",
      "        last-update: Mon, 09 Oct 2023 14:13:37 UTC\n",
      "        provider: minikube.sigs.k8s.io\n",
      "        version: v1.31.2\n",
      "      name: context_info\n",
      "    namespace: default\n",
      "    user: minikube\n",
      "  name: minikube\n",
      "current-context: minikube\n",
      "kind: Config\n",
      "preferences: {}\n",
      "users:\n",
      "- name: Jessica\n",
      "  user:\n",
      "    client-certificate: /workspaces/intro-to-kube/rbac-to-the-future/user_certs/Jessica.crt\n",
      "    client-key: /workspaces/intro-to-kube/rbac-to-the-future/user_certs/Jessica.key\n",
      "- name: Jesus\n",
      "  user:\n",
      "    client-certificate: /workspaces/intro-to-kube/rbac-to-the-future/user_certs/Jesus.crt\n",
      "    client-key: /workspaces/intro-to-kube/rbac-to-the-future/user_certs/Jesus.key\n",
      "- name: Joey\n",
      "  user:\n",
      "    client-certificate: /workspaces/intro-to-kube/rbac-to-the-future/user_certs/Joey.crt\n",
      "    client-key: /workspaces/intro-to-kube/rbac-to-the-future/user_certs/Joey.key\n",
      "- name: Jules\n",
      "  user:\n",
      "    client-certificate: /workspaces/intro-to-kube/rbac-to-the-future/user_certs/Jules.crt\n",
      "    client-key: /workspaces/intro-to-kube/rbac-to-the-future/user_certs/Jules.key\n",
      "- name: minikube\n",
      "  user:\n",
      "    client-certificate: /home/codespace/.minikube/profiles/minikube/client.crt\n",
      "    client-key: /home/codespace/.minikube/profiles/minikube/client.key\n"
     ]
    }
   ],
   "source": [
    "!kubectl config view"
   ]
  },
  {
   "cell_type": "markdown",
   "metadata": {},
   "source": [
    "> Let's start with easiest Role and RoleBinding to build. Let's give read-only access to the Intern role by defining get, watch, and list actions to Pod and Deployment resources strictly to the dev namespace. Afterwards bind this Role to Jules via the RoleBinding."
   ]
  },
  {
   "cell_type": "markdown",
   "metadata": {},
   "source": [
    "### Jules / Intern"
   ]
  },
  {
   "cell_type": "code",
   "execution_count": 134,
   "metadata": {},
   "outputs": [
    {
     "name": "stdout",
     "output_type": "stream",
     "text": [
      "Overwriting roles/intern.yml\n"
     ]
    }
   ],
   "source": [
    "%%writefile roles/intern.yml\n",
    "apiVersion: rbac.authorization.k8s.io/v1\n",
    "kind: Role\n",
    "metadata:\n",
    "  name: Intern\n",
    "  namespace: dev\n",
    "rules:\n",
    "- apiGroups: [\"\"] # \"\" indicates the core API group\n",
    "  resources: [\"pods\", \"deployments\"]\n",
    "  verbs: [\"get\", \"watch\", \"list\"]\n",
    "---\n",
    "apiVersion: rbac.authorization.k8s.io/v1\n",
    "kind: RoleBinding\n",
    "metadata:\n",
    "  name: InternBinding\n",
    "  namespace: dev\n",
    "subjects:\n",
    "- kind: User\n",
    "  name: Jules\n",
    "  apiGroup: rbac.authorization.k8s.io\n",
    "roleRef:\n",
    "  kind: Role\n",
    "  name: Intern\n",
    "  apiGroup: rbac.authorization.k8s.io"
   ]
  },
  {
   "cell_type": "code",
   "execution_count": 135,
   "metadata": {},
   "outputs": [
    {
     "name": "stdout",
     "output_type": "stream",
     "text": [
      "role.rbac.authorization.k8s.io/Intern created\n",
      "rolebinding.rbac.authorization.k8s.io/InternBinding created\n"
     ]
    }
   ],
   "source": [
    "!kubectl apply -f roles/intern.yml"
   ]
  },
  {
   "cell_type": "code",
   "execution_count": 145,
   "metadata": {},
   "outputs": [
    {
     "name": "stdout",
     "output_type": "stream",
     "text": [
      "Switched to context \"minikube\".\n",
      "role.rbac.authorization.k8s.io/Intern unchanged\n",
      "rolebinding.rbac.authorization.k8s.io/InternBinding unchanged\n",
      "Switched to context \"Jules-context\".\n",
      "✅ Cannot access pods in non-dev namespace\n",
      "✅ Cannot create/update resources in dev namespace\n",
      "✅ Can access pods in dev namespace\n"
     ]
    }
   ],
   "source": [
    "run_checks([checks[0]])"
   ]
  },
  {
   "cell_type": "markdown",
   "metadata": {},
   "source": [
    "Test if Jules has the right permissioning."
   ]
  },
  {
   "cell_type": "markdown",
   "metadata": {},
   "source": [
    "> The next Role to build will be DBAdmin. Here we want to grant the Database Admin the permissions they need to do any read/writes to any resources strictly within the database and backup namespaces. For this to happen, you will need to create a single Role, and then create multiple RoleBindings per namespaces for the user Jessica:"
   ]
  },
  {
   "cell_type": "markdown",
   "metadata": {},
   "source": [
    "### Jessica / DBAdmin"
   ]
  },
  {
   "cell_type": "code",
   "execution_count": 147,
   "metadata": {},
   "outputs": [
    {
     "name": "stdout",
     "output_type": "stream",
     "text": [
      "Overwriting roles/db-admin.yml\n"
     ]
    }
   ],
   "source": [
    "%%writefile roles/db-admin.yml\n",
    "apiVersion: rbac.authorization.k8s.io/v1\n",
    "kind: Role\n",
    "metadata:\n",
    "  name: DBAdmin\n",
    "  namespace: database\n",
    "rules:\n",
    "- apiGroups: [\"\"]\n",
    "  resources: [\"pods\", \"deployments\"]\n",
    "  verbs: [\"get\", \"watch\", \"list\", \"create\", \"update\", \"delete\"]\n",
    "---\n",
    "kind: RoleBinding\n",
    "apiVersion: rbac.authorization.k8s.io/v1\n",
    "metadata:\n",
    "  name: DBAdminBinding\n",
    "  namespace: database\n",
    "subjects:\n",
    "- kind: User\n",
    "  name: Jessica\n",
    "  apiGroup: rbac.authorization.k8s.io\n",
    "roleRef:\n",
    "  kind: Role\n",
    "  name: DBAdmin\n",
    "  apiGroup: rbac.authorization.k8s.io\n",
    "---\n",
    "apiVersion: rbac.authorization.k8s.io/v1\n",
    "kind: Role\n",
    "metadata:\n",
    "  name: DBAdmin\n",
    "  namespace: backup\n",
    "rules:\n",
    "- apiGroups: [\"\"]\n",
    "  resources: [\"pods\", \"deployments\"]\n",
    "  verbs: [\"get\", \"watch\", \"list\", \"create\", \"update\", \"delete\"]\n",
    "---\n",
    "kind: RoleBinding\n",
    "apiVersion: rbac.authorization.k8s.io/v1\n",
    "metadata:\n",
    "  name: DBAdminBinding\n",
    "  namespace: backup\n",
    "subjects:\n",
    "- kind: User\n",
    "  name: Jessica\n",
    "  apiGroup: rbac.authorization.k8s.io\n",
    "roleRef:\n",
    "  kind: Role\n",
    "  name: DBAdmin\n",
    "  apiGroup: rbac.authorization.k8s.io"
   ]
  },
  {
   "cell_type": "code",
   "execution_count": 148,
   "metadata": {},
   "outputs": [
    {
     "name": "stdout",
     "output_type": "stream",
     "text": [
      "Switched to context \"minikube\".\n"
     ]
    },
    {
     "name": "stdout",
     "output_type": "stream",
     "text": [
      "role.rbac.authorization.k8s.io/DBAdmin created\n",
      "rolebinding.rbac.authorization.k8s.io/DBAdminBinding created\n",
      "role.rbac.authorization.k8s.io/DBAdmin created\n",
      "rolebinding.rbac.authorization.k8s.io/DBAdminBinding created\n"
     ]
    }
   ],
   "source": [
    "%%bash\n",
    "kubectl config use-context minikube\n",
    "kubectl apply -f roles/db-admin.yml"
   ]
  },
  {
   "cell_type": "code",
   "execution_count": 152,
   "metadata": {},
   "outputs": [
    {
     "name": "stdout",
     "output_type": "stream",
     "text": [
      "Switched to context \"minikube\".\n",
      "role.rbac.authorization.k8s.io/DBAdmin unchanged\n",
      "rolebinding.rbac.authorization.k8s.io/DBAdminBinding unchanged\n",
      "role.rbac.authorization.k8s.io/DBAdmin unchanged\n",
      "rolebinding.rbac.authorization.k8s.io/DBAdminBinding unchanged\n",
      "NAMESPACES\n",
      "------------------------\n",
      "database\n",
      "backup\n",
      "------------------------\n",
      "role.rbac.authorization.k8s.io/DBAdmin unchanged\n",
      "rolebinding.rbac.authorization.k8s.io/DBAdminBinding unchanged\n",
      "role.rbac.authorization.k8s.io/DBAdmin unchanged\n",
      "rolebinding.rbac.authorization.k8s.io/DBAdminBinding unchanged\n",
      "Switched to context \"Jessica-context\".\n",
      "✅ Can access pods in database namespace\n",
      "✅ Can access pods in backup namespace\n",
      "✅ Can create pods in database namespace\n",
      "✅ Can create pods in backup namespace\n",
      "✅ Can delete resources in database namespace\n",
      "✅ Can delete resources in backup namespace\n",
      "✅ Cannot get resources in namespaces other than database or backup\n",
      "✅ Cannot create/update resources in namespaces other than database or backup\n"
     ]
    }
   ],
   "source": [
    "run_checks([checks[1]])"
   ]
  },
  {
   "cell_type": "markdown",
   "metadata": {},
   "source": [
    "### Joey / Developer"
   ]
  },
  {
   "cell_type": "code",
   "execution_count": 171,
   "metadata": {},
   "outputs": [
    {
     "name": "stdout",
     "output_type": "stream",
     "text": [
      "Overwriting roles/developer.yml\n"
     ]
    }
   ],
   "source": [
    "%%writefile roles/developer.yml\n",
    "apiVersion: rbac.authorization.k8s.io/v1\n",
    "kind: Role\n",
    "metadata:\n",
    "  name: Developer\n",
    "  namespace: dev\n",
    "rules:\n",
    "- apiGroups: [\"\"]\n",
    "  resources: [\"pods\", \"deployments\"]\n",
    "  verbs: [\"get\", \"watch\", \"list\", \"create\", \"update\"]\n",
    "---\n",
    "kind: RoleBinding\n",
    "apiVersion: rbac.authorization.k8s.io/v1\n",
    "metadata:\n",
    "  name: DeveloperBinding\n",
    "  namespace: dev\n",
    "subjects:\n",
    "- kind: User\n",
    "  name: Joey\n",
    "  apiGroup: rbac.authorization.k8s.io\n",
    "roleRef:\n",
    "  kind: Role\n",
    "  name: Developer\n",
    "  apiGroup: rbac.authorization.k8s.io\n",
    "---\n",
    "apiVersion: rbac.authorization.k8s.io/v1\n",
    "kind: Role\n",
    "metadata:\n",
    "  name: Developer\n",
    "  namespace: staging\n",
    "rules:\n",
    "- apiGroups: [\"\"]\n",
    "  resources: [\"pods\", \"deployments\"]\n",
    "  verbs: [\"get\", \"watch\", \"list\", \"create\", \"update\"]\n",
    "---\n",
    "kind: RoleBinding\n",
    "apiVersion: rbac.authorization.k8s.io/v1\n",
    "metadata:\n",
    "  name: DeveloperBinding\n",
    "  namespace: staging\n",
    "subjects:\n",
    "- kind: User\n",
    "  name: Joey\n",
    "  apiGroup: rbac.authorization.k8s.io\n",
    "roleRef:\n",
    "  kind: Role\n",
    "  name: Developer\n",
    "  apiGroup: rbac.authorization.k8s.io\n",
    "---\n",
    "apiVersion: rbac.authorization.k8s.io/v1\n",
    "kind: Role\n",
    "metadata:\n",
    "  name: Developer\n",
    "  namespace: prod\n",
    "rules:\n",
    "- apiGroups: [\"\"]\n",
    "  resources: [\"pods\", \"deployments\"]\n",
    "  verbs: [\"get\", \"watch\", \"list\", \"create\", \"update\"]\n",
    "---\n",
    "kind: RoleBinding\n",
    "apiVersion: rbac.authorization.k8s.io/v1\n",
    "metadata:\n",
    "  name: DeveloperBinding\n",
    "  namespace: prod\n",
    "subjects:\n",
    "- kind: User\n",
    "  name: Joey\n",
    "  apiGroup: rbac.authorization.k8s.io\n",
    "roleRef:\n",
    "  kind: Role\n",
    "  name: Developer\n",
    "  apiGroup: rbac.authorization.k8s.io"
   ]
  },
  {
   "cell_type": "code",
   "execution_count": 172,
   "metadata": {},
   "outputs": [
    {
     "name": "stdout",
     "output_type": "stream",
     "text": [
      "Switched to context \"minikube\".\n"
     ]
    },
    {
     "name": "stdout",
     "output_type": "stream",
     "text": [
      "role.rbac.authorization.k8s.io/Developer created\n",
      "rolebinding.rbac.authorization.k8s.io/DeveloperBinding created\n",
      "role.rbac.authorization.k8s.io/Developer created\n",
      "rolebinding.rbac.authorization.k8s.io/DeveloperBinding created\n",
      "role.rbac.authorization.k8s.io/Developer created\n",
      "rolebinding.rbac.authorization.k8s.io/DeveloperBinding created\n"
     ]
    }
   ],
   "source": [
    "%%bash\n",
    "kubectl config use-context minikube\n",
    "kubectl apply -f roles/developer.yml"
   ]
  },
  {
   "cell_type": "code",
   "execution_count": 173,
   "metadata": {},
   "outputs": [
    {
     "name": "stdout",
     "output_type": "stream",
     "text": [
      "Switched to context \"minikube\".\n",
      "role.rbac.authorization.k8s.io/Developer unchanged\n",
      "rolebinding.rbac.authorization.k8s.io/DeveloperBinding unchanged\n",
      "role.rbac.authorization.k8s.io/Developer unchanged\n",
      "rolebinding.rbac.authorization.k8s.io/DeveloperBinding unchanged\n",
      "role.rbac.authorization.k8s.io/Developer unchanged\n",
      "rolebinding.rbac.authorization.k8s.io/DeveloperBinding unchanged\n",
      "NAMESPACES\n",
      "------------------------\n",
      "dev\n",
      "staging\n",
      "prod\n",
      "------------------------\n",
      "role.rbac.authorization.k8s.io/Developer unchanged\n",
      "rolebinding.rbac.authorization.k8s.io/DeveloperBinding unchanged\n",
      "role.rbac.authorization.k8s.io/Developer unchanged\n",
      "rolebinding.rbac.authorization.k8s.io/DeveloperBinding unchanged\n",
      "role.rbac.authorization.k8s.io/Developer unchanged\n",
      "rolebinding.rbac.authorization.k8s.io/DeveloperBinding unchanged\n",
      "role.rbac.authorization.k8s.io/Developer unchanged\n",
      "rolebinding.rbac.authorization.k8s.io/DeveloperBinding unchanged\n",
      "role.rbac.authorization.k8s.io/Developer unchanged\n",
      "rolebinding.rbac.authorization.k8s.io/DeveloperBinding unchanged\n",
      "role.rbac.authorization.k8s.io/Developer unchanged\n",
      "rolebinding.rbac.authorization.k8s.io/DeveloperBinding unchanged\n",
      "Switched to context \"Joey-context\".\n",
      "✅ Can access pods in dev namespace\n",
      "✅ Can access pods in staging namespace\n",
      "✅ Can access pods in prod namespace\n",
      "✅ Can create pods in dev namespace\n",
      "✅ Can create pods in staging namespace\n",
      "✅ Can create pods in prod namespace\n",
      "✅ Cannot delete resources in dev namespace\n",
      "✅ Cannot delete resources in staging namespace\n",
      "✅ Cannot delete resources in prod namespace\n",
      "✅ Cannot get resources in namespaces other than dev, staging or prod\n",
      "✅ Cannot create/update resources in namespaces other than dev, staging or prod\n"
     ]
    }
   ],
   "source": [
    "run_checks([checks[2]])"
   ]
  },
  {
   "cell_type": "markdown",
   "metadata": {},
   "source": [
    "```yaml\n",
    "apiVersion: rbac.authorization.k8s.io/v1\n",
    "kind: Role\n",
    "metadata:\n",
    "  name: my-role\n",
    "  namespace: my-namespace\n",
    "rules:\n",
    "- apiGroups: [\"\", \"extensions\", \"apps\"]\n",
    "  resources: [\"pods\", \"deployments\"]\n",
    "  verbs: [\"get\", \"list\", \"watch\", \"create\", \"update\", \"delete\"]\n",
    "```"
   ]
  },
  {
   "cell_type": "markdown",
   "metadata": {},
   "source": [
    "```yaml\n",
    "apiVersion: rbac.authorization.k8s.io/v1\n",
    "kind: RoleBinding\n",
    "metadata:\n",
    "  name: my-role-binding\n",
    "  namespace: my-namespace\n",
    "subjects:\n",
    "- kind: User\n",
    "  name: my-user\n",
    "  apiGroup: rbac.authorization.k8s.io\n",
    "roleRef:\n",
    "  kind: Role\n",
    "  name: my-role\n",
    "  apiGroup: rbac.authorization.k8s.io\n",
    "```"
   ]
  },
  {
   "cell_type": "markdown",
   "metadata": {},
   "source": [
    "### Jesus / Kube Admin\n",
    "\n",
    ">For our last role, we will work to build the KubeAdmin role. This role grants a lot more permissions, so instead of using the traditional Role and RoleBinding, we will define a ClusterRole and ClusterRoleBinding. This is perfect for non-namespaced resource management, which in our case, we hope that our KubeAdmin has all the necessary privileges in place to do any operation across all namespaces in our cluster. Grant this ClusterRoleBinding to Jesus."
   ]
  },
  {
   "cell_type": "code",
   "execution_count": 175,
   "metadata": {},
   "outputs": [
    {
     "name": "stdout",
     "output_type": "stream",
     "text": [
      "Overwriting roles/kube-admin.yml\n"
     ]
    }
   ],
   "source": [
    "%%writefile roles/kube-admin.yml\n",
    "apiVersion: rbac.authorization.k8s.io/v1\n",
    "kind: ClusterRole\n",
    "metadata:\n",
    "  name: KubeAdmin\n",
    "rules:\n",
    "- apiGroups: [\"\"]\n",
    "  resources: [\"pods\", \"deployments\", \"services\", \"configmaps\", \"secrets\", \"ingresses\", \"jobs\", \"cronjobs\", \"persistentvolumeclaims\"]\n",
    "  verbs: [\"get\", \"watch\", \"list\", \"create\", \"update\", \"delete\"]\n",
    "---\n",
    "apiVersion: rbac.authorization.k8s.io/v1\n",
    "kind: ClusterRoleBinding\n",
    "metadata:\n",
    "  name: KubeAdminClusterRoleBinding\n",
    "subjects:\n",
    "- kind: User\n",
    "  name: Jesus\n",
    "  apiGroup: rbac.authorization.k8s.io\n",
    "roleRef:\n",
    "  kind: ClusterRole\n",
    "  name: KubeAdmin\n",
    "  apiGroup: rbac.authorization.k8s.io"
   ]
  },
  {
   "cell_type": "code",
   "execution_count": 176,
   "metadata": {},
   "outputs": [
    {
     "name": "stdout",
     "output_type": "stream",
     "text": [
      "Switched to context \"minikube\".\n",
      "clusterrole.rbac.authorization.k8s.io/KubeAdmin created\n",
      "clusterrolebinding.rbac.authorization.k8s.io/KubeAdminClusterRoleBinding created\n"
     ]
    }
   ],
   "source": [
    "%%bash\n",
    "kubectl config use-context minikube\n",
    "kubectl apply -f roles/kube-admin.yml"
   ]
  },
  {
   "cell_type": "code",
   "execution_count": 177,
   "metadata": {},
   "outputs": [
    {
     "name": "stdout",
     "output_type": "stream",
     "text": [
      "Switched to context \"minikube\".\n",
      "clusterrole.rbac.authorization.k8s.io/KubeAdmin unchanged\n",
      "clusterrolebinding.rbac.authorization.k8s.io/KubeAdminClusterRoleBinding unchanged\n",
      "Switched to context \"Jesus-context\".\n",
      "✅ Can access pods in dev namespace\n",
      "✅ Can access pods in staging namespace\n",
      "✅ Can access pods in prod namespace\n",
      "✅ Can access pods in database namespace\n",
      "✅ Can access pods in backup namespace\n",
      "✅ Can create pods in dev namespace\n",
      "✅ Can create pods in staging namespace\n",
      "✅ Can create pods in prod namespace\n",
      "✅ Can create pods in database namespace\n",
      "✅ Can create pods in backup namespace\n",
      "✅ Can delete resources in dev namespace\n",
      "✅ Can delete resources in staging namespace\n",
      "✅ Can delete resources in prod namespace\n",
      "✅ Can delete resources in database namespace\n",
      "✅ Can delete resources in backup namespace\n"
     ]
    }
   ],
   "source": [
    "run_checks([checks[3]])"
   ]
  },
  {
   "cell_type": "markdown",
   "metadata": {},
   "source": [
    "## Teardown"
   ]
  },
  {
   "cell_type": "code",
   "execution_count": 67,
   "metadata": {},
   "outputs": [
    {
     "name": "stdout",
     "output_type": "stream",
     "text": [
      "* Stopping node \"minikube\"  ...\n",
      "* Powering off \"minikube\" via SSH ...\n",
      "* 1 node stopped.\n",
      "* Deleting \"minikube\" in docker ...\n",
      "* Deleting container \"minikube\" ...\n",
      "* Removing /home/codespace/.minikube/machines/minikube ...\n",
      "* Removed all traces of the \"minikube\" cluster.\n"
     ]
    }
   ],
   "source": [
    "%%bash\n",
    "minikube stop\n",
    "minikube delete"
   ]
  }
 ],
 "metadata": {
  "kernelspec": {
   "display_name": "Python 3",
   "language": "python",
   "name": "python3"
  },
  "language_info": {
   "codemirror_mode": {
    "name": "ipython",
    "version": 3
   },
   "file_extension": ".py",
   "mimetype": "text/x-python",
   "name": "python",
   "nbconvert_exporter": "python",
   "pygments_lexer": "ipython3",
   "version": "3.10.8"
  }
 },
 "nbformat": 4,
 "nbformat_minor": 2
}
