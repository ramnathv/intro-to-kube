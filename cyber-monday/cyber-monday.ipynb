{
 "cells": [
  {
   "cell_type": "markdown",
   "metadata": {},
   "source": [
    "# Project - Week 1: Cyber Monday"
   ]
  },
  {
   "cell_type": "markdown",
   "metadata": {},
   "source": [
    "## Setup"
   ]
  },
  {
   "cell_type": "code",
   "execution_count": 46,
   "metadata": {},
   "outputs": [
    {
     "name": "stdout",
     "output_type": "stream",
     "text": [
      "😄  minikube v1.31.2 on Ubuntu 20.04 (docker/amd64)\n",
      "✨  Using the docker driver based on existing profile\n",
      "👍  Starting control plane node minikube in cluster minikube\n",
      "🚜  Pulling base image ...\n",
      "🔄  Restarting existing docker container for \"minikube\" ...\n",
      "🐳  Preparing Kubernetes v1.27.4 on Docker 24.0.4 ...\u001b[K\u001b[K\u001b[K\u001b[K\u001b[K\u001b[K\u001b[K\u001b[K\u001b[K\u001b[K\u001b[K\u001b[K\u001b[K\u001b[K\u001b[K\u001b[K\u001b[K\u001b[K\u001b[K\u001b[K\u001b[K\u001b[K\u001b[K\u001b[K\u001b[K\u001b[K\u001b[K\u001b[K\u001b[K\u001b[K\u001b[K\u001b[K\u001b[K\u001b[K\u001b[K\u001b[K\u001b[K\u001b[K\u001b[K\u001b[K\u001b[K\u001b[K\u001b[K\u001b[K\u001b[K\u001b[K\u001b[K\u001b[K\u001b[K\u001b[K\u001b[K\u001b[K\u001b[K\u001b[K\u001b[K\u001b[K\u001b[K\u001b[K\u001b[K\u001b[K\u001b[K\u001b[K\u001b[K\u001b[K\u001b[K\u001b[K\u001b[K\u001b[K\u001b[K\u001b[K\u001b[K\u001b[K\u001b[K\u001b[K\u001b[K\u001b[K\u001b[K\u001b[K\u001b[K\u001b[K\u001b[K\u001b[K\u001b[K\u001b[K\u001b[K\u001b[K\u001b[K\u001b[K\u001b[K\u001b[K\u001b[K\u001b[K\u001b[K\u001b[K\u001b[K\u001b[K\u001b[K\u001b[K\u001b[K\u001b[K\u001b[K\u001b[K\u001b[K\u001b[K\u001b[K\u001b[K\u001b[K\u001b[K\u001b[K\u001b[K\u001b[K\u001b[K\u001b[K\u001b[K\u001b[K\u001b[K\u001b[K\u001b[K\u001b[K\u001b[K\u001b[K\u001b[K\u001b[K\u001b[K\u001b[K\u001b[K\u001b[K\u001b[K\u001b[K\u001b[K\u001b[K\u001b[K\u001b[K\u001b[K\u001b[K\u001b[K\u001b[K\u001b[K\u001b[K\u001b[K\u001b[K\u001b[K\u001b[K\u001b[K\u001b[K\u001b[K\u001b[K\u001b[K\u001b[K\u001b[K\u001b[K\u001b[K\u001b[K\u001b[K\u001b[K\u001b[K\u001b[K\u001b[K\u001b[K\u001b[K\u001b[K\u001b[K\u001b[K\u001b[K\u001b[K\u001b[K\u001b[K\u001b[K\u001b[K\u001b[K\u001b[K\u001b[K\u001b[K\u001b[K\u001b[K\u001b[K\u001b[K\u001b[K\u001b[K\u001b[K\u001b[K\u001b[K\u001b[K\u001b[K\u001b[K\u001b[K\u001b[K\u001b[K\u001b[K\u001b[K\u001b[K\u001b[K\u001b[K\u001b[K\u001b[K\u001b[K\u001b[K\u001b[K\u001b[K\u001b[K\u001b[K\u001b[K\u001b[K\u001b[K\u001b[K\u001b[K\u001b[K\u001b[K\u001b[K\u001b[K\u001b[K\u001b[K\u001b[K\u001b[K\u001b[K\u001b[K\u001b[K\u001b[K\u001b[K\u001b[K\u001b[K\u001b[K\u001b[K\u001b[K\u001b[K\u001b[K\u001b[K\u001b[K\u001b[K\u001b[K\u001b[K\u001b[K\u001b[K\u001b[K\u001b[K\u001b[K\u001b[K\u001b[K\u001b[K\u001b[K\u001b[K\u001b[K\u001b[K\u001b[K\u001b[K\u001b[K\u001b[K\u001b[K\u001b[K\u001b[K\u001b[K\u001b[K\u001b[K\u001b[K\u001b[K\u001b[K\u001b[K\u001b[K\u001b[K\u001b[K\u001b[K\u001b[K\u001b[K\u001b[K\u001b[K\u001b[K\u001b[K\u001b[K\u001b[K\u001b[K\u001b[K\u001b[K\u001b[K\u001b[K\u001b[K\u001b[K\u001b[K\u001b[K\u001b[K\u001b[K\u001b[K\u001b[K\u001b[K\u001b[K\u001b[K\u001b[K\u001b[K\u001b[K\u001b[K\u001b[K\u001b[K\u001b[K\u001b[K\u001b[K\u001b[K\u001b[K\u001b[K\u001b[K\u001b[K\u001b[K\u001b[K\u001b[K\u001b[K\u001b[K\u001b[K\u001b[K\u001b[K\u001b[K\u001b[K\u001b[K\u001b[K\u001b[K\u001b[K\u001b[K\u001b[K\u001b[K\u001b[K\u001b[K\u001b[K\u001b[K\u001b[K\u001b[K\u001b[K\u001b[K\u001b[K\u001b[K\u001b[K\u001b[K\u001b[K\u001b[K\u001b[K\u001b[K\u001b[K\u001b[K\u001b[K\u001b[K\u001b[K\u001b[K\u001b[K\u001b[K\u001b[K\u001b[K\u001b[K\u001b[K\u001b[K\u001b[K\u001b[K\u001b[K\u001b[K\u001b[K\u001b[K\u001b[K\u001b[K\u001b[K\u001b[K\u001b[K\u001b[K\u001b[K\u001b[K\u001b[K\u001b[K\u001b[K\u001b[K\u001b[K\u001b[K\u001b[K\u001b[K\u001b[K\u001b[K\u001b[K\u001b[K\u001b[K\u001b[K\u001b[K\u001b[K\u001b[K\u001b[K\u001b[K\u001b[K\u001b[K\u001b[K\u001b[K\u001b[K\u001b[K\u001b[K\u001b[K\u001b[K\u001b[K\u001b[K\u001b[K\n",
      "🔗  Configuring bridge CNI (Container Networking Interface) ...\n",
      "🔎  Verifying Kubernetes components...\n",
      "    ▪ Using image gcr.io/k8s-minikube/storage-provisioner:v5\n",
      "    ▪ Using image docker.io/kubernetesui/dashboard:v2.7.0\n",
      "    ▪ Using image registry.k8s.io/metrics-server/metrics-server:v0.6.4\n",
      "    ▪ Using image docker.io/kubernetesui/metrics-scraper:v1.0.8\n",
      "💡  Some dashboard features require the metrics-server addon. To enable all features please run:\n",
      "\n",
      "\tminikube addons enable metrics-server\t\n",
      "\n",
      "\n",
      "🌟  Enabled addons: storage-provisioner, default-storageclass, metrics-server, dashboard\n",
      "🏄  Done! kubectl is now configured to use \"minikube\" cluster and \"default\" namespace by default\n"
     ]
    }
   ],
   "source": [
    "!minikube start"
   ]
  },
  {
   "cell_type": "markdown",
   "metadata": {},
   "source": [
    "## Explore"
   ]
  },
  {
   "cell_type": "markdown",
   "metadata": {},
   "source": [
    "### Create Pod\n",
    "\n",
    "Let us start by creating a simple nginx pod. We start by writing a config file with the specifications of the pod."
   ]
  },
  {
   "cell_type": "code",
   "execution_count": 47,
   "metadata": {},
   "outputs": [
    {
     "name": "stdout",
     "output_type": "stream",
     "text": [
      "Overwriting nginx-pod.yml\n"
     ]
    }
   ],
   "source": [
    "%%writefile nginx-pod.yml\n",
    "apiVersion: v1\n",
    "kind: Pod\n",
    "metadata:\n",
    "  name: nginx-pod\n",
    "  labels:\n",
    "    app: just-a-pod\n",
    "spec:\n",
    "  containers:\n",
    "    - name: nginx-pod\n",
    "      image: nginx:latest\n",
    "      ports:\n",
    "      - containerPort: 80"
   ]
  },
  {
   "cell_type": "markdown",
   "metadata": {},
   "source": [
    "We can create the pod using `kubectl apply`"
   ]
  },
  {
   "cell_type": "code",
   "execution_count": 48,
   "metadata": {},
   "outputs": [
    {
     "name": "stdout",
     "output_type": "stream",
     "text": [
      "pod/nginx-pod created\n"
     ]
    }
   ],
   "source": [
    "!kubectl apply -f nginx-pod.yml"
   ]
  },
  {
   "cell_type": "markdown",
   "metadata": {},
   "source": [
    "We can verify that our pod has been successfully created using `kubectl get pods`"
   ]
  },
  {
   "cell_type": "code",
   "execution_count": 50,
   "metadata": {},
   "outputs": [
    {
     "name": "stdout",
     "output_type": "stream",
     "text": [
      "NAME        READY   STATUS    RESTARTS   AGE\n",
      "nginx-pod   1/1     Running   0          7s\n"
     ]
    }
   ],
   "source": [
    "!kubectl get pods"
   ]
  },
  {
   "cell_type": "markdown",
   "metadata": {},
   "source": [
    "### Apply Deployment\n",
    "\n",
    "Now we are going to take that same pod but wrap it in a deployment so that 3 Replicas of that Pod exist at any given time. Please refer to K8s Deployment documentation as needed. Complete the YAML file to:\n",
    "\n",
    "\n",
    "a. Add 3 replicas\n",
    "\n",
    "b. Add a selector that matches labels just-a-pod\n",
    "\n",
    "c. Add a template for the nginx container used in nginx-pod.yml"
   ]
  },
  {
   "cell_type": "code",
   "execution_count": 51,
   "metadata": {},
   "outputs": [
    {
     "name": "stdout",
     "output_type": "stream",
     "text": [
      "Overwriting nginx-deploy.yml\n"
     ]
    }
   ],
   "source": [
    "%%writefile nginx-deploy.yml\n",
    "apiVersion: apps/v1\n",
    "kind: Deployment\n",
    "metadata:\n",
    "  name: nginx-deployment\n",
    "spec:\n",
    "  replicas: 3\n",
    "  selector:\n",
    "    matchLabels:\n",
    "      app: just-a-pod\n",
    "  template:\n",
    "    metadata:\n",
    "      labels:\n",
    "        app: just-a-pod\n",
    "    spec:\n",
    "      containers:\n",
    "        - name: nginx-pod\n",
    "          image: nginx:latest\n",
    "          ports:\n",
    "            - containerPort: 80"
   ]
  },
  {
   "cell_type": "code",
   "execution_count": 53,
   "metadata": {},
   "outputs": [
    {
     "name": "stdout",
     "output_type": "stream",
     "text": [
      "deployment.apps/nginx-deployment unchanged\n",
      "NAME                                READY   STATUS    RESTARTS   AGE\n",
      "nginx-deployment-59d4df587f-6w5c5   1/1     Running   0          16s\n",
      "nginx-deployment-59d4df587f-gvxvl   1/1     Running   0          16s\n",
      "nginx-deployment-59d4df587f-m8b7l   1/1     Running   0          16s\n",
      "nginx-pod                           1/1     Running   0          42s\n"
     ]
    }
   ],
   "source": [
    "%%bash\n",
    "sleep 2\n",
    "kubectl apply -f nginx-deploy.yml\n",
    "kubectl get pods"
   ]
  },
  {
   "cell_type": "markdown",
   "metadata": {},
   "source": [
    "### Execute Logging\n",
    "\n",
    "As users start pinging these pods (which won't happen yet fortunately for us 😊), we want to collect metadata around what items they are purchasing for Cyber Monday. Since our logging and metrics aren't set in place yet, we are going to try to collect this metadata by supporting an automated script to take backups of a logfile within our pods and push it into our local machine. To do so we will:\n",
    "\n",
    "\n",
    "  a. Copy our logging script `log.sh` into our pod, executing it, and observing it write metadata to `/tmp/foo.log` to simulate users pinging the pods and data getting logged.\n",
    "\n",
    "  b. Run a kubectl command to copy the `/tmp/foo.log` file to our local machine's working directory /workspaces/intro-to-kube/cyber-monday"
   ]
  },
  {
   "cell_type": "code",
   "execution_count": 54,
   "metadata": {},
   "outputs": [
    {
     "name": "stdout",
     "output_type": "stream",
     "text": [
      "total 12\n",
      "drwxrwxrwt 1 root root 4096 Sep 25 04:22 .\n",
      "drwxr-xr-x 1 root root 4096 Sep 25 04:21 ..\n",
      "-rw-rw-rw- 1 1000 root 3085 Sep 25 04:22 log.sh\n"
     ]
    }
   ],
   "source": [
    "%%bash\n",
    "kubectl cp log.sh nginx-pod:/tmp/log.sh 2>/dev/null\n",
    "kubectl exec -t nginx-pod -- sh -c \"ls -la /tmp\" 2>/dev/null"
   ]
  },
  {
   "cell_type": "code",
   "execution_count": 55,
   "metadata": {},
   "outputs": [
    {
     "name": "stdout",
     "output_type": "stream",
     "text": [
      "{\"item\": \"power bank\", \"user\": 162, \"date\": \"2023-09-25T04:22:17Z\"}\n",
      "{\"item\": \"microcontroller\", \"user\": 242, \"date\": \"2023-09-25T04:22:17Z\"}\n",
      "{\"item\": \"USB microscope\", \"user\": 795, \"date\": \"2023-09-25T04:22:17Z\"}\n",
      "{\"item\": \"e-reader\", \"user\": 681, \"date\": \"2023-09-25T04:22:17Z\"}\n",
      "{\"item\": \"robotic prosthetic\", \"user\": 817, \"date\": \"2023-09-25T04:22:17Z\"}\n",
      "{\"item\": \"wireless barcode scanner\", \"user\": 619, \"date\": \"2023-09-25T04:22:17Z\"}\n",
      "{\"item\": \"home theater projector\", \"user\": 695, \"date\": \"2023-09-25T04:22:17Z\"}\n",
      "{\"item\": \"graphics card\", \"user\": 317, \"date\": \"2023-09-25T04:22:17Z\"}\n",
      "{\"item\": \"e-ink display\", \"user\": 35, \"date\": \"2023-09-25T04:22:17Z\"}\n",
      "{\"item\": \"game controller\", \"user\": 295, \"date\": \"2023-09-25T04:22:17Z\"}\n"
     ]
    }
   ],
   "source": [
    "%%bash\n",
    "kubectl exec -t nginx-pod -- bash /tmp/log.sh 2>/dev/null\n",
    "kubectl exec -t nginx-pod -- sh -c \"tail -n 10 /tmp/foo.log\" 2>/dev/null"
   ]
  },
  {
   "cell_type": "code",
   "execution_count": 56,
   "metadata": {},
   "outputs": [
    {
     "name": "stdout",
     "output_type": "stream",
     "text": [
      "tar: Removing leading `/' from member names\n",
      "{\"item\": \"power bank\", \"user\": 162, \"date\": \"2023-09-25T04:22:17Z\"}\n",
      "{\"item\": \"microcontroller\", \"user\": 242, \"date\": \"2023-09-25T04:22:17Z\"}\n",
      "{\"item\": \"USB microscope\", \"user\": 795, \"date\": \"2023-09-25T04:22:17Z\"}\n",
      "{\"item\": \"e-reader\", \"user\": 681, \"date\": \"2023-09-25T04:22:17Z\"}\n",
      "{\"item\": \"robotic prosthetic\", \"user\": 817, \"date\": \"2023-09-25T04:22:17Z\"}\n",
      "{\"item\": \"wireless barcode scanner\", \"user\": 619, \"date\": \"2023-09-25T04:22:17Z\"}\n",
      "{\"item\": \"home theater projector\", \"user\": 695, \"date\": \"2023-09-25T04:22:17Z\"}\n",
      "{\"item\": \"graphics card\", \"user\": 317, \"date\": \"2023-09-25T04:22:17Z\"}\n",
      "{\"item\": \"e-ink display\", \"user\": 35, \"date\": \"2023-09-25T04:22:17Z\"}\n",
      "{\"item\": \"game controller\", \"user\": 295, \"date\": \"2023-09-25T04:22:17Z\"}\n"
     ]
    }
   ],
   "source": [
    "%%bash\n",
    "kubectl cp nginx-pod:/tmp/foo.log foo.log 2>/dev/null\n",
    "cat ./foo.log | tail -n 10"
   ]
  },
  {
   "cell_type": "markdown",
   "metadata": {},
   "source": [
    "### Execute Logging in Pods"
   ]
  },
  {
   "cell_type": "code",
   "execution_count": 57,
   "metadata": {},
   "outputs": [
    {
     "name": "stdout",
     "output_type": "stream",
     "text": [
      "Writing autologging.sh\n"
     ]
    }
   ],
   "source": [
    "%%writefile autologging.sh\n",
    "#!/bin/bash\n",
    "DEPLOYED_PODS=$(kubectl get pods | awk '{print $1}' | grep 'deployment')\n",
    "for pod in $DEPLOYED_PODS\n",
    "do\n",
    "  kubectl cp log.sh \"$pod:/tmp/log.sh\"\n",
    "  kubectl exec -t \"$pod\" -- bash /tmp/log.sh\n",
    "  kubectl cp \"$pod:/tmp/foo.log\" \"foo-$pod.log\"\n",
    "done"
   ]
  },
  {
   "cell_type": "code",
   "execution_count": 58,
   "metadata": {},
   "outputs": [
    {
     "name": "stdout",
     "output_type": "stream",
     "text": [
      "tar: Removing leading `/' from member names\n",
      "tar: Removing leading `/' from member names\n"
     ]
    }
   ],
   "source": [
    "%%bash\n",
    "chmod 777 ./autologging.sh && ./autologging.sh"
   ]
  },
  {
   "cell_type": "code",
   "execution_count": 59,
   "metadata": {},
   "outputs": [
    {
     "name": "stdout",
     "output_type": "stream",
     "text": [
      "-rw-rw-rw- 1 codespace codespace 3517 Sep 25 04:22 foo-nginx-deployment-59d4df587f-6w5c5.log\n",
      "-rw-rw-rw- 1 codespace codespace 3552 Sep 25 04:22 foo-nginx-deployment-59d4df587f-gvxvl.log\n",
      "-rw-rw-rw- 1 codespace codespace 3616 Sep 25 04:22 foo-nginx-deployment-59d4df587f-m8b7l.log\n"
     ]
    }
   ],
   "source": [
    "!ls -la foo-*.log"
   ]
  },
  {
   "cell_type": "markdown",
   "metadata": {},
   "source": [
    "## Answers"
   ]
  },
  {
   "cell_type": "markdown",
   "metadata": {},
   "source": [
    "## Teardown"
   ]
  },
  {
   "cell_type": "code",
   "execution_count": 60,
   "metadata": {},
   "outputs": [
    {
     "name": "stdout",
     "output_type": "stream",
     "text": [
      "pod \"nginx-deployment-59d4df587f-6w5c5\" deleted\n",
      "pod \"nginx-deployment-59d4df587f-gvxvl\" deleted\n",
      "pod \"nginx-deployment-59d4df587f-m8b7l\" deleted\n",
      "pod \"nginx-pod\" deleted\n",
      "deployment.apps \"nginx-deployment\" deleted\n",
      "* Stopping node \"minikube\"  ...\n",
      "* Powering off \"minikube\" via SSH ...\n",
      "* 1 node stopped.\n"
     ]
    }
   ],
   "source": [
    "%%bash\n",
    "rm foo*.log\n",
    "rm autologging.sh\n",
    "kubectl delete pods --all\n",
    "kubectl delete deployments --all\n",
    "minikube stop"
   ]
  },
  {
   "cell_type": "markdown",
   "metadata": {},
   "source": [
    "## Submit"
   ]
  },
  {
   "cell_type": "code",
   "execution_count": 61,
   "metadata": {},
   "outputs": [
    {
     "name": "stdout",
     "output_type": "stream",
     "text": [
      "Overwriting backup.txt\n"
     ]
    }
   ],
   "source": [
    "%%writefile backup.txt\n",
    "# NOTE: For these commands your current working directory should be: \n",
    "# /workspaces/intro-to-kube/cyber-monday\n",
    "# TODO: Enter kubectl cp command used to get `log.sh` file into the Pod\n",
    "kubectl cp log.sh nginx-pod:/tmp/log.sh\n",
    "# TODO: Enter kubectl exec command used to execute the `log.sh`\n",
    "kubectl exec nginx-pod -- /bin/sh -c \"chmod 777 /tmp/log.sh && touch /tmp/foo.log\" && kubectl exec -t nginx-pod -- bash /tmp/log.sh\n",
    "# TODO: Enter kubectl cp command used to copy the log file from inside the\n",
    "# Pod to your current working directory\n",
    "kubectl cp nginx-pod:/tmp/foo.log foo.log"
   ]
  },
  {
   "cell_type": "code",
   "execution_count": 62,
   "metadata": {},
   "outputs": [
    {
     "name": "stderr",
     "output_type": "stream",
     "text": [
      "Switched to a new branch 'cyber-ramnathv'\n"
     ]
    },
    {
     "name": "stdout",
     "output_type": "stream",
     "text": [
      "[cyber-ramnathv 52ff341] feat: project 1- cyber monday\n",
      " 3 files changed, 25 insertions(+), 9 deletions(-)\n"
     ]
    },
    {
     "name": "stderr",
     "output_type": "stream",
     "text": [
      "remote: \n",
      "remote: Create a pull request for 'cyber-ramnathv' on GitHub by visiting:        \n",
      "remote:      https://github.com/ramnathv/intro-to-kube/pull/new/cyber-ramnathv        \n",
      "remote: \n",
      "To https://github.com/ramnathv/intro-to-kube\n",
      " * [new branch]      cyber-ramnathv -> cyber-ramnathv\n"
     ]
    },
    {
     "name": "stdout",
     "output_type": "stream",
     "text": [
      "branch 'cyber-ramnathv' set up to track 'origin/cyber-ramnathv'.\n"
     ]
    },
    {
     "name": "stderr",
     "output_type": "stream",
     "text": [
      "Switched to branch 'main'\n"
     ]
    },
    {
     "name": "stdout",
     "output_type": "stream",
     "text": [
      "Your branch is ahead of 'origin/main' by 1 commit.\n",
      "  (use \"git push\" to publish your local commits)\n"
     ]
    }
   ],
   "source": [
    "%%bash\n",
    "git checkout -b cyber-ramnathv\n",
    "git add nginx-deploy.yml nginx-pod.yml backup.txt\n",
    "git commit -m \"feat: project 1- cyber monday\"\n",
    "git push -u origin cyber-ramnathv\n",
    "git checkout main"
   ]
  }
 ],
 "metadata": {
  "kernelspec": {
   "display_name": "Python 3",
   "language": "python",
   "name": "python3"
  },
  "language_info": {
   "codemirror_mode": {
    "name": "ipython",
    "version": 3
   },
   "file_extension": ".py",
   "mimetype": "text/x-python",
   "name": "python",
   "nbconvert_exporter": "python",
   "pygments_lexer": "ipython3",
   "version": "3.10.8"
  },
  "orig_nbformat": 4
 },
 "nbformat": 4,
 "nbformat_minor": 2
}
